{
 "cells": [
  {
   "cell_type": "code",
   "execution_count": 27,
   "metadata": {},
   "outputs": [],
   "source": [
    "from promptsource.templates import DatasetTemplates\n",
    "from pprint import pp"
   ]
  },
  {
   "cell_type": "code",
   "execution_count": 3,
   "metadata": {},
   "outputs": [
    {
     "name": "stdout",
     "output_type": "stream",
     "text": [
      "{'24e44a81-a18a-42dd-a71c-5b31b2d2cb39': <promptsource.templates.Template object at 0x7f01d12457f0>, '8fdc1056-1029-41a1-9c67-354fc2b8ceaf': <promptsource.templates.Template object at 0x7f01d12457c0>, '918267e0-af68-4117-892d-2dbe66a58ce9': <promptsource.templates.Template object at 0x7f01d1248760>, '9345df33-4f23-4944-a33c-eef94e626862': <promptsource.templates.Template object at 0x7f01d1248790>, '98534347-fff7-4c39-a795-4e69a44791f7': <promptsource.templates.Template object at 0x7f01d12487c0>, 'b401b0ee-6ffe-4a91-8e15-77ee073cd858': <promptsource.templates.Template object at 0x7f01d1248700>, 'cb355f33-7e8c-4455-a72b-48d315bd4f60': <promptsource.templates.Template object at 0x7f01d1248730>}\n"
     ]
    }
   ],
   "source": [
    "ag_news_prompts = DatasetTemplates('ag_news')\n",
    "print(ag_news_prompts.templates)"
   ]
  },
  {
   "cell_type": "code",
   "execution_count": 18,
   "metadata": {},
   "outputs": [
    {
     "name": "stdout",
     "output_type": "stream",
     "text": [
      "dict_keys(['24e44a81-a18a-42dd-a71c-5b31b2d2cb39', '8fdc1056-1029-41a1-9c67-354fc2b8ceaf', '918267e0-af68-4117-892d-2dbe66a58ce9', '9345df33-4f23-4944-a33c-eef94e626862', '98534347-fff7-4c39-a795-4e69a44791f7', 'b401b0ee-6ffe-4a91-8e15-77ee073cd858', 'cb355f33-7e8c-4455-a72b-48d315bd4f60'])\n",
      "{'answer_choices': 'World politics ||| Sports ||| Business ||| Science and technology', 'id': '24e44a81-a18a-42dd-a71c-5b31b2d2cb39', 'jinja': 'What label best describes this news article?\\n{{text}} ||| \\n{{answer_choices[label] }}', 'metadata': <promptsource.templates.Template.Metadata object at 0x7f01d1248670>, 'name': 'classify_question_first', 'reference': ''}\n",
      "{'answer_choices': 'World politics ||| Sports ||| Business ||| Science and technology', 'id': '8fdc1056-1029-41a1-9c67-354fc2b8ceaf', 'jinja': 'Is this a piece of news regarding {{\"world politics, sports, business, or science and technology\"}}?\\n{{text}} \\n||| \\n{{answer_choices[label] }}', 'metadata': <promptsource.templates.Template.Metadata object at 0x7f01d12486a0>, 'name': 'classify_with_choices_question_first', 'reference': ''}\n",
      "{'answer_choices': 'Politician ||| Athlete ||| Business executive ||| Scientist', 'id': '918267e0-af68-4117-892d-2dbe66a58ce9', 'jinja': 'Would you recommend the following article to a {{\"politician\"}}, an {{\"athlete\"}}, a {{\"business executive\"}}, or a {{\"scientist\"}}?\\n\\n{{ text }}\\n|||\\n{{answer_choices[label]}}', 'metadata': <promptsource.templates.Template.Metadata object at 0x7f01d12487f0>, 'name': 'recommend', 'reference': ''}\n",
      "{'answer_choices': 'World News ||| Sports ||| Business ||| Science and Technology', 'id': '9345df33-4f23-4944-a33c-eef94e626862', 'jinja': '{{text}} \\n\\nWhich of the following sections of a newspaper would this article likely appear in? {{\"World News\"}}, {{\"Sports\"}}, {{\"Business\"}}, or {{\"Science and Technology\"}}? ||| \\n{{answer_choices[label] }}', 'metadata': <promptsource.templates.Template.Metadata object at 0x7f01d1248820>, 'name': 'which_section_choices', 'reference': ''}\n",
      "{'answer_choices': 'World News ||| Sports ||| Business ||| Science and Technology', 'id': '98534347-fff7-4c39-a795-4e69a44791f7', 'jinja': '{{text}} \\n\\nWhich section of a newspaper would this article likely appear in? ||| \\n{{answer_choices[label] }}', 'metadata': <promptsource.templates.Template.Metadata object at 0x7f01d12485e0>, 'name': 'which_section', 'reference': ''}\n",
      "{'answer_choices': 'World politics ||| Sports ||| Business ||| Science and technology', 'id': 'b401b0ee-6ffe-4a91-8e15-77ee073cd858', 'jinja': '{{text}} \\nIs this a piece of news regarding {{\"world politics, sports, business, or science and technology\"}}? ||| \\n{{answer_choices[label] }}', 'metadata': <promptsource.templates.Template.Metadata object at 0x7f01d12485b0>, 'name': 'classify_with_choices', 'reference': ''}\n",
      "{'answer_choices': 'World politics ||| Sports ||| Business ||| Science and technology', 'id': 'cb355f33-7e8c-4455-a72b-48d315bd4f60', 'jinja': '{{text}} \\nWhat label best describes this news article? ||| \\n{{answer_choices[label] }}', 'metadata': <promptsource.templates.Template.Metadata object at 0x7f01d1248850>, 'name': 'classify', 'reference': ''}\n"
     ]
    }
   ],
   "source": [
    "print(tmp.keys())\n",
    "for k in list(tmp.keys()):\n",
    "    print(tmp[k].__dict__)"
   ]
  },
  {
   "cell_type": "code",
   "execution_count": 9,
   "metadata": {},
   "outputs": [
    {
     "name": "stdout",
     "output_type": "stream",
     "text": [
      "What label best describes this news article?\n",
      "{{text}} ||| \n",
      "{{answer_choices[label] }}\n",
      "<class 'str'>\n"
     ]
    }
   ],
   "source": [
    "tmp = ag_news_prompts.templates\n",
    "print(tmp['24e44a81-a18a-42dd-a71c-5b31b2d2cb39'].jinja)\n",
    "print(type(tmp['24e44a81-a18a-42dd-a71c-5b31b2d2cb39'].jinja))"
   ]
  },
  {
   "cell_type": "code",
   "execution_count": 20,
   "metadata": {},
   "outputs": [],
   "source": [
    "from datasets import load_dataset\n",
    "dataset = load_dataset(\"ag_news\", split=\"train\")"
   ]
  },
  {
   "cell_type": "code",
   "execution_count": 21,
   "metadata": {},
   "outputs": [],
   "source": [
    "example = dataset[1]"
   ]
  },
  {
   "cell_type": "code",
   "execution_count": 22,
   "metadata": {},
   "outputs": [
    {
     "name": "stdout",
     "output_type": "stream",
     "text": [
      "{'text': 'Carlyle Looks Toward Commercial Aerospace (Reuters) Reuters - Private investment firm Carlyle Group,\\\\which has a reputation for making well-timed and occasionally\\\\controversial plays in the defense industry, has quietly placed\\\\its bets on another part of the market.', 'label': 2}\n"
     ]
    }
   ],
   "source": [
    "print(example)"
   ]
  },
  {
   "cell_type": "code",
   "execution_count": 28,
   "metadata": {},
   "outputs": [
    {
     "name": "stdout",
     "output_type": "stream",
     "text": [
      "[['What label best describes this news article?\\n'\n",
      "  'Carlyle Looks Toward Commercial Aerospace (Reuters) Reuters - Private '\n",
      "  'investment firm Carlyle Group,\\\\which has a reputation for making '\n",
      "  'well-timed and occasionally\\\\controversial plays in the defense industry, '\n",
      "  'has quietly placed\\\\its bets on another part of the market.',\n",
      "  'Business'],\n",
      " ['Is this a piece of news regarding world politics, sports, business, or '\n",
      "  'science and technology?\\n'\n",
      "  'Carlyle Looks Toward Commercial Aerospace (Reuters) Reuters - Private '\n",
      "  'investment firm Carlyle Group,\\\\which has a reputation for making '\n",
      "  'well-timed and occasionally\\\\controversial plays in the defense industry, '\n",
      "  'has quietly placed\\\\its bets on another part of the market.',\n",
      "  'Business'],\n",
      " ['Would you recommend the following article to a politician, an athlete, a '\n",
      "  'business executive, or a scientist?\\n'\n",
      "  '\\n'\n",
      "  'Carlyle Looks Toward Commercial Aerospace (Reuters) Reuters - Private '\n",
      "  'investment firm Carlyle Group,\\\\which has a reputation for making '\n",
      "  'well-timed and occasionally\\\\controversial plays in the defense industry, '\n",
      "  'has quietly placed\\\\its bets on another part of the market.',\n",
      "  'Business executive'],\n",
      " ['Carlyle Looks Toward Commercial Aerospace (Reuters) Reuters - Private '\n",
      "  'investment firm Carlyle Group,\\\\which has a reputation for making '\n",
      "  'well-timed and occasionally\\\\controversial plays in the defense industry, '\n",
      "  'has quietly placed\\\\its bets on another part of the market. \\n'\n",
      "  '\\n'\n",
      "  'Which of the following sections of a newspaper would this article likely '\n",
      "  'appear in? World News, Sports, Business, or Science and Technology?',\n",
      "  'Business'],\n",
      " ['Carlyle Looks Toward Commercial Aerospace (Reuters) Reuters - Private '\n",
      "  'investment firm Carlyle Group,\\\\which has a reputation for making '\n",
      "  'well-timed and occasionally\\\\controversial plays in the defense industry, '\n",
      "  'has quietly placed\\\\its bets on another part of the market. \\n'\n",
      "  '\\n'\n",
      "  'Which section of a newspaper would this article likely appear in?',\n",
      "  'Business'],\n",
      " ['Carlyle Looks Toward Commercial Aerospace (Reuters) Reuters - Private '\n",
      "  'investment firm Carlyle Group,\\\\which has a reputation for making '\n",
      "  'well-timed and occasionally\\\\controversial plays in the defense industry, '\n",
      "  'has quietly placed\\\\its bets on another part of the market. \\n'\n",
      "  'Is this a piece of news regarding world politics, sports, business, or '\n",
      "  'science and technology?',\n",
      "  'Business'],\n",
      " ['Carlyle Looks Toward Commercial Aerospace (Reuters) Reuters - Private '\n",
      "  'investment firm Carlyle Group,\\\\which has a reputation for making '\n",
      "  'well-timed and occasionally\\\\controversial plays in the defense industry, '\n",
      "  'has quietly placed\\\\its bets on another part of the market. \\n'\n",
      "  'What label best describes this news article?',\n",
      "  'Business']]\n"
     ]
    }
   ],
   "source": [
    "instructions = []\n",
    "for k in list(tmp.keys()):\n",
    "    instructions.append(tmp[k].apply(example))\n",
    "pp(instructions)"
   ]
  },
  {
   "cell_type": "code",
   "execution_count": null,
   "metadata": {},
   "outputs": [],
   "source": []
  }
 ],
 "metadata": {
  "kernelspec": {
   "display_name": "Python 3.9.2 64-bit",
   "language": "python",
   "name": "python3"
  },
  "language_info": {
   "codemirror_mode": {
    "name": "ipython",
    "version": 3
   },
   "file_extension": ".py",
   "mimetype": "text/x-python",
   "name": "python",
   "nbconvert_exporter": "python",
   "pygments_lexer": "ipython3",
   "version": "3.9.2"
  },
  "orig_nbformat": 4,
  "vscode": {
   "interpreter": {
    "hash": "31f2aee4e71d21fbe5cf8b01ff0e069b9275f58929596ceb00d14d90e3e16cd6"
   }
  }
 },
 "nbformat": 4,
 "nbformat_minor": 2
}
