{
 "cells": [
  {
   "cell_type": "code",
   "execution_count": 1,
   "metadata": {},
   "outputs": [],
   "source": [
    "from promptsource.templates import DatasetTemplates, TemplateCollection\n",
    "from pprint import pp"
   ]
  },
  {
   "cell_type": "code",
   "execution_count": 16,
   "metadata": {},
   "outputs": [],
   "source": [
    "template_collection = TemplateCollection()\n",
    "collection_templates = template_collection.datasets_templates"
   ]
  },
  {
   "cell_type": "code",
   "execution_count": null,
   "metadata": {},
   "outputs": [],
   "source": [
    "tmp = list(template_collection.datasets_templates.keys())\n",
    "print(tmp)"
   ]
  },
  {
   "cell_type": "code",
   "execution_count": 28,
   "metadata": {},
   "outputs": [
    {
     "name": "stdout",
     "output_type": "stream",
     "text": [
      "<class 'str'>\n"
     ]
    }
   ],
   "source": [
    "print(type(template_collection.datasets_templates[\"ai2_arc\",'ARC-Easy'].templates[\"033498ca-3d9a-47e3-b631-d881ab53b5ad\"].jinja))"
   ]
  },
  {
   "cell_type": "code",
   "execution_count": 2,
   "metadata": {},
   "outputs": [
    {
     "name": "stdout",
     "output_type": "stream",
     "text": [
      "{'24e44a81-a18a-42dd-a71c-5b31b2d2cb39': <promptsource.templates.Template object at 0x7fc3275d61f0>, '8fdc1056-1029-41a1-9c67-354fc2b8ceaf': <promptsource.templates.Template object at 0x7fc3275d61c0>, '918267e0-af68-4117-892d-2dbe66a58ce9': <promptsource.templates.Template object at 0x7fc3275d6e50>, '9345df33-4f23-4944-a33c-eef94e626862': <promptsource.templates.Template object at 0x7fc3275da190>, '98534347-fff7-4c39-a795-4e69a44791f7': <promptsource.templates.Template object at 0x7fc3275da1c0>, 'b401b0ee-6ffe-4a91-8e15-77ee073cd858': <promptsource.templates.Template object at 0x7fc3275da1f0>, 'cb355f33-7e8c-4455-a72b-48d315bd4f60': <promptsource.templates.Template object at 0x7fc3275da130>}\n"
     ]
    }
   ],
   "source": [
    "ag_news_prompts = DatasetTemplates('ag_news')\n",
    "print(ag_news_prompts.templates)"
   ]
  },
  {
   "cell_type": "code",
   "execution_count": 4,
   "metadata": {},
   "outputs": [
    {
     "name": "stdout",
     "output_type": "stream",
     "text": [
      "What label best describes this news article?\n",
      "{{text}} ||| \n",
      "{{answer_choices[label] }}\n",
      "<class 'str'>\n"
     ]
    }
   ],
   "source": [
    "tmp = ag_news_prompts.templates\n",
    "print(tmp['24e44a81-a18a-42dd-a71c-5b31b2d2cb39'].jinja)\n",
    "print(type(tmp['24e44a81-a18a-42dd-a71c-5b31b2d2cb39'].jinja))"
   ]
  },
  {
   "cell_type": "code",
   "execution_count": 11,
   "metadata": {},
   "outputs": [
    {
     "name": "stdout",
     "output_type": "stream",
     "text": [
      "dict_keys(['24e44a81-a18a-42dd-a71c-5b31b2d2cb39', '8fdc1056-1029-41a1-9c67-354fc2b8ceaf', '918267e0-af68-4117-892d-2dbe66a58ce9', '9345df33-4f23-4944-a33c-eef94e626862', '98534347-fff7-4c39-a795-4e69a44791f7', 'b401b0ee-6ffe-4a91-8e15-77ee073cd858', 'cb355f33-7e8c-4455-a72b-48d315bd4f60'])\n",
      "{'answer_choices': 'World politics ||| Sports ||| Business ||| Science and technology', 'id': '24e44a81-a18a-42dd-a71c-5b31b2d2cb39', 'jinja': 'What label best describes this news article?\\n{{text}} ||| \\n{{answer_choices[label] }}', 'metadata': <promptsource.templates.Template.Metadata object at 0x7fc3275da160>, 'name': 'classify_question_first', 'reference': ''}\n",
      "{'answer_choices': 'World politics ||| Sports ||| Business ||| Science and technology', 'id': '8fdc1056-1029-41a1-9c67-354fc2b8ceaf', 'jinja': 'Is this a piece of news regarding {{\"world politics, sports, business, or science and technology\"}}?\\n{{text}} \\n||| \\n{{answer_choices[label] }}', 'metadata': <promptsource.templates.Template.Metadata object at 0x7fc3275da0a0>, 'name': 'classify_with_choices_question_first', 'reference': ''}\n",
      "{'answer_choices': 'Politician ||| Athlete ||| Business executive ||| Scientist', 'id': '918267e0-af68-4117-892d-2dbe66a58ce9', 'jinja': 'Would you recommend the following article to a {{\"politician\"}}, an {{\"athlete\"}}, a {{\"business executive\"}}, or a {{\"scientist\"}}?\\n\\n{{ text }}\\n|||\\n{{answer_choices[label]}}', 'metadata': <promptsource.templates.Template.Metadata object at 0x7fc3275da0d0>, 'name': 'recommend', 'reference': ''}\n",
      "{'answer_choices': 'World News ||| Sports ||| Business ||| Science and Technology', 'id': '9345df33-4f23-4944-a33c-eef94e626862', 'jinja': '{{text}} \\n\\nWhich of the following sections of a newspaper would this article likely appear in? {{\"World News\"}}, {{\"Sports\"}}, {{\"Business\"}}, or {{\"Science and Technology\"}}? ||| \\n{{answer_choices[label] }}', 'metadata': <promptsource.templates.Template.Metadata object at 0x7fc3275da220>, 'name': 'which_section_choices', 'reference': ''}\n",
      "{'answer_choices': 'World News ||| Sports ||| Business ||| Science and Technology', 'id': '98534347-fff7-4c39-a795-4e69a44791f7', 'jinja': '{{text}} \\n\\nWhich section of a newspaper would this article likely appear in? ||| \\n{{answer_choices[label] }}', 'metadata': <promptsource.templates.Template.Metadata object at 0x7fc3275da250>, 'name': 'which_section', 'reference': ''}\n",
      "{'answer_choices': 'World politics ||| Sports ||| Business ||| Science and technology', 'id': 'b401b0ee-6ffe-4a91-8e15-77ee073cd858', 'jinja': '{{text}} \\nIs this a piece of news regarding {{\"world politics, sports, business, or science and technology\"}}? ||| \\n{{answer_choices[label] }}', 'metadata': <promptsource.templates.Template.Metadata object at 0x7fc3275da040>, 'name': 'classify_with_choices', 'reference': ''}\n",
      "{'answer_choices': 'World politics ||| Sports ||| Business ||| Science and technology', 'id': 'cb355f33-7e8c-4455-a72b-48d315bd4f60', 'jinja': '{{text}} \\nWhat label best describes this news article? ||| \\n{{answer_choices[label] }}', 'metadata': <promptsource.templates.Template.Metadata object at 0x7fc3275da280>, 'name': 'classify', 'reference': ''}\n"
     ]
    }
   ],
   "source": [
    "print(tmp.keys())\n",
    "for k in list(tmp.keys()):\n",
    "    print(tmp[k].__dict__)"
   ]
  },
  {
   "cell_type": "code",
   "execution_count": null,
   "metadata": {},
   "outputs": [],
   "source": [
    "from datasets import load_dataset\n",
    "dataset = load_dataset(\"ag_news\", split=\"train\")"
   ]
  },
  {
   "cell_type": "code",
   "execution_count": 6,
   "metadata": {},
   "outputs": [],
   "source": [
    "example = dataset[1]"
   ]
  },
  {
   "cell_type": "code",
   "execution_count": 7,
   "metadata": {},
   "outputs": [
    {
     "name": "stdout",
     "output_type": "stream",
     "text": [
      "{'text': 'Carlyle Looks Toward Commercial Aerospace (Reuters) Reuters - Private investment firm Carlyle Group,\\\\which has a reputation for making well-timed and occasionally\\\\controversial plays in the defense industry, has quietly placed\\\\its bets on another part of the market.', 'label': 2}\n"
     ]
    }
   ],
   "source": [
    "print(example)"
   ]
  },
  {
   "cell_type": "code",
   "execution_count": 9,
   "metadata": {},
   "outputs": [
    {
     "name": "stdout",
     "output_type": "stream",
     "text": [
      "[['What label best describes this news article?\\n'\n",
      "  'Carlyle Looks Toward Commercial Aerospace (Reuters) Reuters - Private '\n",
      "  'investment firm Carlyle Group,\\\\which has a reputation for making '\n",
      "  'well-timed and occasionally\\\\controversial plays in the defense industry, '\n",
      "  'has quietly placed\\\\its bets on another part of the market.',\n",
      "  'Business'],\n",
      " ['Is this a piece of news regarding world politics, sports, business, or '\n",
      "  'science and technology?\\n'\n",
      "  'Carlyle Looks Toward Commercial Aerospace (Reuters) Reuters - Private '\n",
      "  'investment firm Carlyle Group,\\\\which has a reputation for making '\n",
      "  'well-timed and occasionally\\\\controversial plays in the defense industry, '\n",
      "  'has quietly placed\\\\its bets on another part of the market.',\n",
      "  'Business'],\n",
      " ['Would you recommend the following article to a politician, an athlete, a '\n",
      "  'business executive, or a scientist?\\n'\n",
      "  '\\n'\n",
      "  'Carlyle Looks Toward Commercial Aerospace (Reuters) Reuters - Private '\n",
      "  'investment firm Carlyle Group,\\\\which has a reputation for making '\n",
      "  'well-timed and occasionally\\\\controversial plays in the defense industry, '\n",
      "  'has quietly placed\\\\its bets on another part of the market.',\n",
      "  'Business executive'],\n",
      " ['Carlyle Looks Toward Commercial Aerospace (Reuters) Reuters - Private '\n",
      "  'investment firm Carlyle Group,\\\\which has a reputation for making '\n",
      "  'well-timed and occasionally\\\\controversial plays in the defense industry, '\n",
      "  'has quietly placed\\\\its bets on another part of the market. \\n'\n",
      "  '\\n'\n",
      "  'Which of the following sections of a newspaper would this article likely '\n",
      "  'appear in? World News, Sports, Business, or Science and Technology?',\n",
      "  'Business'],\n",
      " ['Carlyle Looks Toward Commercial Aerospace (Reuters) Reuters - Private '\n",
      "  'investment firm Carlyle Group,\\\\which has a reputation for making '\n",
      "  'well-timed and occasionally\\\\controversial plays in the defense industry, '\n",
      "  'has quietly placed\\\\its bets on another part of the market. \\n'\n",
      "  '\\n'\n",
      "  'Which section of a newspaper would this article likely appear in?',\n",
      "  'Business'],\n",
      " ['Carlyle Looks Toward Commercial Aerospace (Reuters) Reuters - Private '\n",
      "  'investment firm Carlyle Group,\\\\which has a reputation for making '\n",
      "  'well-timed and occasionally\\\\controversial plays in the defense industry, '\n",
      "  'has quietly placed\\\\its bets on another part of the market. \\n'\n",
      "  'Is this a piece of news regarding world politics, sports, business, or '\n",
      "  'science and technology?',\n",
      "  'Business'],\n",
      " ['Carlyle Looks Toward Commercial Aerospace (Reuters) Reuters - Private '\n",
      "  'investment firm Carlyle Group,\\\\which has a reputation for making '\n",
      "  'well-timed and occasionally\\\\controversial plays in the defense industry, '\n",
      "  'has quietly placed\\\\its bets on another part of the market. \\n'\n",
      "  'What label best describes this news article?',\n",
      "  'Business']]\n",
      "2\n"
     ]
    }
   ],
   "source": [
    "instructions = []\n",
    "for k in list(tmp.keys()):\n",
    "    instructions.append(tmp[k].apply(example))\n",
    "pp(instructions)"
   ]
  },
  {
   "cell_type": "code",
   "execution_count": 10,
   "metadata": {},
   "outputs": [
    {
     "name": "stdout",
     "output_type": "stream",
     "text": [
      "['What label best describes this news article?\\nCarlyle Looks Toward Commercial Aerospace (Reuters) Reuters - Private investment firm Carlyle Group,\\\\which has a reputation for making well-timed and occasionally\\\\controversial plays in the defense industry, has quietly placed\\\\its bets on another part of the market.', 'Business']\n"
     ]
    }
   ],
   "source": [
    "print((instructions[0]))"
   ]
  },
  {
   "cell_type": "markdown",
   "metadata": {},
   "source": [
    "# 构造 instructions 字典"
   ]
  },
  {
   "cell_type": "code",
   "execution_count": 39,
   "metadata": {},
   "outputs": [
    {
     "name": "stdout",
     "output_type": "stream",
     "text": [
      "commonsenseqa,dream,quail,quartz,social_iqa,wiqa,cosmos,qasc,quarel,sciq,wiki_hop,arc,openbookqa,multirc,piqa,race,hellaswag,boolq,adversarial_qa,quoref,duorc,ropes,squad_v2,record,hotpot_qa,wiki_qa,trivia_qa,web_questions,common_gen,wiki_bio,amazon,app_reviews,imdb,rotten_tomatoes,yelp,cnn_daily_mail,gigaword,multinews,samsum,xsum,ag_news,dbpedia,trec,mrpc,paws,qqp,anli,cb,rte,wsc,winogrande,wic,copa,hellaswag,story_cloze\n"
     ]
    }
   ],
   "source": [
    "task_dataset_list = \"\"\"CommonsenseQA\n",
    "DREAM\n",
    "QUAIL\n",
    "QuaRTz\n",
    "Social IQA\n",
    "WiQA\n",
    "Cosmos\n",
    "QASC\n",
    "Quarel\n",
    "SciQ\n",
    "Wiki Hop\n",
    "ARC\n",
    "OpenBookQA\n",
    "MultiRC\n",
    "PIQA\n",
    "RACE\n",
    "HellaSwag\n",
    "BoolQ\n",
    "Adversarial QA\n",
    "Quoref\n",
    "DuoRC\n",
    "ROPES\n",
    "SQuAD v2\n",
    "ReCoRD\n",
    "Hotpot QA\n",
    "Wiki QA\n",
    "Trivia QA\n",
    "Web Questions\n",
    "Common Gen\n",
    "Wiki Bio\n",
    "Amazon\n",
    "App Reviews\n",
    "IMDB\n",
    "Rotten Tomatoes\n",
    "Yelp\n",
    "CNN Daily Mail\n",
    "Gigaword\n",
    "MultiNews\n",
    "SamSum\n",
    "XSum\n",
    "AG News\n",
    "DBPedia\n",
    "TREC\n",
    "MRPC\n",
    "PAWS\n",
    "QQP\n",
    "ANLI\n",
    "CB\n",
    "RTE\n",
    "WSC\n",
    "Winogrande\n",
    "WiC\n",
    "COPA\n",
    "HellaSwag\n",
    "Story Cloze\"\"\".replace(\"\\n\",\",\").replace(\" \",\"_\").lower()\n",
    "print(task_dataset_list)"
   ]
  },
  {
   "cell_type": "code",
   "execution_count": 19,
   "metadata": {},
   "outputs": [
    {
     "name": "stdout",
     "output_type": "stream",
     "text": [
      "dict_keys([('neural_code_search', 'evaluation_dataset'), ('narrativeqa', None), ('winograd_wsc', 'wsc285'), ('winograd_wsc', 'wsc273'), ('paws', 'labeled_final'), ('paws', 'labeled_swap'), ('paws', 'unlabeled_final'), ('trivia_qa', 'unfiltered'), ('craffel/openai_lambada', None), ('math_dataset', 'algebra__linear_1d_composed'), ('math_dataset', 'algebra__linear_1d'), ('math_dataset', 'algebra__linear_2d_composed'), ('math_dataset', 'algebra__linear_2d'), ('biosses', None), ('mc_taco', None), ('cos_e', 'v1.11'), ('cos_e', 'v1.0'), ('scan', 'addprim_jump'), ('scan', 'template_right'), ('scan', 'template_around_right'), ('scan', 'filler_num3'), ('scan', 'length'), ('scan', 'filler_num0'), ('scan', 'template_jump_around_right'), ('scan', 'filler_num2'), ('scan', 'addprim_turn_left'), ('scan', 'filler_num1'), ('scan', 'simple'), ('scan', 'template_opposite_right'), ('rotten_tomatoes', None), ('ai2_arc', 'ARC-Challenge'), ('ai2_arc', 'ARC-Easy'), ('multi_nli', None), ('squad_v2', None), ('common_gen', None), ('swag', 'regular'), ('conv_ai_2', None), ('wiki_qa', None), ('fever', 'v1.0'), ('fever', 'v2.0'), ('sst', 'default'), ('jfleg', None), ('ecthr_cases', 'alleged-violation-prediction'), ('great_code', None), ('qasc', None), ('acronym_identification', None), ('freebase_qa', None), ('circa', None), ('ambig_qa', 'light'), ('riddle_sense', None), ('sick', None), ('hotpot_qa', 'fullwiki'), ('hotpot_qa', 'distractor'), ('sem_eval_2010_task_8', None), ('squad_adversarial', 'AddSent'), ('mdd', 'task3_qarecs'), ('mdd', 'task1_qa'), ('mdd', 'task2_recs'), ('social_i_qa', None), ('xquad', 'xquad.en'), ('yahoo_answers_qa', None), ('hyperpartisan_news_detection', 'byarticle'), ('hyperpartisan_news_detection', 'bypublisher'), ('wino_bias', 'type1_anti'), ('wino_bias', 'type2_pro'), ('wino_bias', 'type2_anti'), ('wino_bias', 'type1_pro'), ('craigslist_bargains', None), ('yahoo_answers_topics', None), ('openbookqa', 'additional'), ('openbookqa', 'main'), ('wiki_bio', None), ('codah', 'codah'), ('codah', 'fold_2'), ('codah', 'fold_3'), ('codah', 'fold_4'), ('codah', 'fold_1'), ('codah', 'fold_0'), ('samsum', None), ('liar', None), ('hlgd', None), ('generated_reviews_enth', None), ('climate_fever', None), ('stsb_multi_mt', 'en'), ('quartz', None), ('sem_eval_2014_task_1', None), ('squadshifts', 'new_wiki'), ('squadshifts', 'amazon'), ('squadshifts', 'nyt'), ('sciq', None), ('kelm', None), ('esnli', None), ('wiki_split', None), ('bing_coronavirus_query_set', None), ('tydiqa', 'secondary_task'), ('tydiqa', 'primary_task'), ('code_x_glue_tc_text_to_code', None), ('financial_phrasebank', 'sentences_allagree'), ('nlu_evaluation_data', None), ('cnn_dailymail', '3.0.0'), ('docred', None), ('piqa', None), ('crows_pairs', None), ('tmu_gfm_dataset', None), ('emotion', None), ('adversarial_qa', 'droberta'), ('adversarial_qa', 'adversarialQA'), ('adversarial_qa', 'dbert'), ('adversarial_qa', 'dbidaf'), ('quoref', None), ('mwsc', None), ('meta_woz', 'dialogues'), ('asnq', None), ('nq_open', None), ('xquad_r', 'en'), ('blended_skill_talk', None), ('species_800', None), ('winogrande', 'winogrande_l'), ('winogrande', 'winogrande_s'), ('winogrande', 'winogrande_debiased'), ('winogrande', 'winogrande_xl'), ('winogrande', 'winogrande_m'), ('winogrande', 'winogrande_xs'), ('medical_questions_pairs', None), ('cosmos_qa', None), ('hate_speech18', None), ('numer_sense', None), ('scicite', None), ('mocha', None), ('imdb', None), ('super_glue', 'wic'), ('super_glue', 'wsc.fixed'), ('super_glue', 'rte'), ('super_glue', 'axb'), ('super_glue', 'boolq'), ('super_glue', 'multirc'), ('super_glue', 'record'), ('super_glue', 'copa'), ('super_glue', 'cb'), ('super_glue', 'axg'), ('yelp_polarity', None), ('story_cloze', '2016'), ('scitldr', 'Abstract'), ('hellaswag', None), ('math_qa', None), ('wiki_hop', 'original'), ('wiki_hop', 'masked'), ('sent_comp', None), ('discovery', 'discovery'), ('snli', None), ('google_wellformed_query', None), ('commonsense_qa', None), ('aqua_rat', 'raw'), ('jigsaw_unintended_bias', None), ('quail', None), ('scientific_papers', 'pubmed'), ('scientific_papers', 'arxiv'), ('paws-x', 'en'), ('scitail', 'snli_format'), ('scitail', 'tsv_format'), ('yelp_review_full', None), ('turk', None), ('drop', None), ('enriched_web_nlg', 'en'), ('Zaid/coqa_expanded', None), ('Zaid/quac_expanded', None), ('qed', None), ('conv_ai', None), ('limit', None), ('movie_rationales', None), ('evidence_infer_treatment', '2.0'), ('evidence_infer_treatment', '1.1'), ('lama', 'trex'), ('billsum', None), ('cbt', 'NE'), ('cbt', 'V'), ('cbt', 'P'), ('cbt', 'raw'), ('cbt', 'CN'), ('ncbi_disease', None), ('discofuse', 'discofuse-sport'), ('discofuse', 'discofuse-wikipedia'), ('ade_corpus_v2', 'Ade_corpus_v2_drug_ade_relation'), ('ade_corpus_v2', 'Ade_corpus_v2_classification'), ('ade_corpus_v2', 'Ade_corpus_v2_drug_dosage_relation'), ('qa_srl', None), ('gutenberg_time', None), ('subjqa', 'electronics'), ('subjqa', 'books'), ('subjqa', 'movies'), ('subjqa', 'tripadvisor'), ('subjqa', 'grocery'), ('subjqa', 'restaurants'), ('art', None), ('coqa', None), ('sms_spam', None), ('xsum', None), ('xnli', 'en'), ('banking77', None), ('amazon_reviews_multi', 'en'), ('openai_humaneval', None), ('anli', None), ('glue', 'wnli'), ('glue', 'sst2'), ('glue', 'mnli_mismatched'), ('glue', 'mnli'), ('glue', 'rte'), ('glue', 'cola'), ('glue', 'ax'), ('glue', 'qnli'), ('glue', 'mrpc'), ('glue', 'qqp'), ('glue', 'mnli_matched'), ('glue', 'stsb'), ('e2e_nlg_cleaned', None), ('app_reviews', None), ('conv_ai_3', None), ('tab_fact', 'tab_fact'), ('ropes', None), ('dream', None), ('dbpedia_14', None), ('cc_news', None), ('duorc', 'ParaphraseRC'), ('duorc', 'SelfRC'), ('covid_qa_castorini', None), ('ag_news', None), ('quora', None), ('aeslc', None), ('web_questions', None), ('amazon_polarity', None), ('guardian_authorship', 'cross_genre_1'), ('guardian_authorship', 'cross_topic_1'), ('guardian_authorship', 'cross_topic_7'), ('guardian_authorship', 'cross_topic_4'), ('gigaword', None), ('lambada', None), ('snips_built_in_intents', None), ('multi_x_science_sum', None), ('emo', None), ('poem_sentiment', None), ('selqa', 'answer_selection_analysis'), ('newspop', None), ('head_qa', 'en'), ('hans', None), ('onestop_english', None), ('medal', None), ('qa_zre', None), ('race', 'high'), ('race', 'all'), ('race', 'middle'), ('tweet_eval', 'offensive'), ('tweet_eval', 'stance_feminist'), ('tweet_eval', 'sentiment'), ('tweet_eval', 'emoji'), ('tweet_eval', 'emotion'), ('tweet_eval', 'irony'), ('tweet_eval', 'hate'), ('tweet_eval', 'stance_abortion'), ('tweet_eval', 'stance_climate'), ('tweet_eval', 'stance_atheism'), ('tweet_eval', 'stance_hillary'), ('humicroedit', 'subtask-2'), ('humicroedit', 'subtask-1'), ('zest', None), ('blbooksgenre', 'title_genre_classifiction'), ('quarel', None), ('health_fact', None), ('amazon_us_reviews', 'Wireless_v1_00'), ('squad', None), ('kilt_tasks', 'hotpotqa'), ('kilt_tasks', 'nq'), ('asset', 'simplification'), ('asset', 'ratings'), ('multi_news', None), ('quac', None), ('cord19', 'metadata'), ('trec', None), ('pubmed_qa', 'pqa_labeled'), ('wiqa', None)])\n"
     ]
    }
   ],
   "source": [
    "print(collection_templates.keys())"
   ]
  },
  {
   "cell_type": "code",
   "execution_count": 87,
   "metadata": {},
   "outputs": [
    {
     "name": "stdout",
     "output_type": "stream",
     "text": [
      "paws_labeled_final_task_description_no_label\n",
      "paws_labeled_final_Meaning\n",
      "paws_labeled_final_context_question_no_label\n",
      "paws_labeled_final_Rewrite_no_label\n",
      "paws_labeled_final_context_question\n",
      "paws_labeled_final_Concatenation\n",
      "paws_labeled_final_paraphrase_task\n",
      "paws_labeled_final_Concatenation_no_label\n",
      "paws_labeled_final_Meaning_no_label\n",
      "paws_labeled_final_PAWS_ANLI_GPT3\n",
      "paws_labeled_final_Rewrite\n",
      "paws_labeled_final_PAWS_ANLI_GPT3_no_label\n",
      "paws_labeled_swap_task_description_no_label\n",
      "paws_labeled_swap_Meaning\n",
      "paws_labeled_swap_context_question_no_label\n",
      "paws_labeled_swap_Rewrite_no_label\n",
      "paws_labeled_swap_context_question\n",
      "paws_labeled_swap_Concatenation\n",
      "paws_labeled_swap_paraphrase_task\n",
      "paws_labeled_swap_Concatenation_no_label\n",
      "paws_labeled_swap_Meaning_no_label\n",
      "paws_labeled_swap_PAWS_ANLI_GPT3\n",
      "paws_labeled_swap_Rewrite\n",
      "paws_labeled_swap_PAWS_ANLI_GPT3_no_label\n",
      "paws_unlabeled_final_task_description_no_label\n",
      "paws_unlabeled_final_Meaning\n",
      "paws_unlabeled_final_context_question_no_label\n",
      "paws_unlabeled_final_Rewrite_no_label\n",
      "paws_unlabeled_final_context_question\n",
      "paws_unlabeled_final_Concatenation\n",
      "paws_unlabeled_final_paraphrase_task\n",
      "paws_unlabeled_final_Concatenation_no_label\n",
      "paws_unlabeled_final_Meaning_no_label\n",
      "paws_unlabeled_final_PAWS_ANLI_GPT3\n",
      "paws_unlabeled_final_Rewrite\n",
      "paws_unlabeled_final_PAWS_ANLI_GPT3_no_label\n",
      "trivia_qa_unfiltered_guess_question\n",
      "trivia_qa_unfiltered_formal_description\n",
      "trivia_qa_unfiltered_question_with_instruction\n",
      "trivia_qa_unfiltered_first_person_context\n",
      "trivia_qa_unfiltered_question_answer\n",
      "rotten_tomatoes_Reviewer_Opinion_bad_good_choices\n",
      "rotten_tomatoes_Text_Expressed_Sentiment\n",
      "rotten_tomatoes_Sentiment_with_choices\n",
      "rotten_tomatoes_Reviewer_Enjoyment_Yes_No\n",
      "rotten_tomatoes_Reviewer_Enjoyment\n",
      "rotten_tomatoes_Movie_Expressed_Sentiment\n",
      "rotten_tomatoes_Writer_Expressed_Sentiment\n",
      "rotten_tomatoes_Movie_Expressed_Sentiment_2\n",
      "rotten_tomatoes_Reviewer_Expressed_Sentiment\n",
      "rotten_tomatoes_Reviewer_Sentiment_Feeling\n",
      "squad_v2_Questions_with_Context\n",
      "squad_v2_Jeopardy_with_Context\n",
      "squad_v2_Topic_Prediction_Context_with_randomized_prompt_options\n",
      "squad_v2_Topic_Prediction_Context_with_randomized_prompt_options_placed_in_the_end\n",
      "squad_v2_Jeopardy_without_Context\n",
      "squad_v2_Questions_with_Context_Without_Prompt_Keywords\n",
      "squad_v2_Questions_with_Context_unanswerable\n",
      "squad_v2_Trivia\n",
      "squad_v2_Questions_with_Context_Without_Prompt_Keywords_unanswerable\n",
      "squad_v2_Unanwerable_question\n",
      "squad_v2_Topic_Prediction_Question_and_Answer_Pair\n",
      "squad_v2_Topic_Prediction_Context\n",
      "common_gen_Given_concepts_type_2\n",
      "common_gen_Put_together\n",
      "common_gen_choice_in_concept_centric_sentence_generation\n",
      "common_gen_random_task_template_prompt\n",
      "common_gen_topics_from_the_sentence\n",
      "common_gen_sentence_to_concepts\n",
      "common_gen_topic_to_sentence\n",
      "common_gen_Example_prompt\n",
      "common_gen_Given_concepts_type_1\n",
      "swag_regular_reversed_appropriate_continuation\n",
      "swag_regular_appropriate_continuation\n",
      "swag_regular_how_ends\n",
      "swag_regular_first_then\n",
      "swag_regular_first_then_key\n",
      "swag_regular_generate_start\n",
      "swag_regular_open_completion\n",
      "wiki_qa_Is_This_True\n",
      "wiki_qa_automatic_system\n",
      "wiki_qa_Jeopardy_style\n",
      "wiki_qa_Topic_Prediction_Question_and_Answer_Pair\n",
      "wiki_qa_Generate_Question_from_Topic\n",
      "wiki_qa_found_on_google\n",
      "wiki_qa_Topic_Prediction_Question_Only\n",
      "wiki_qa_exercise\n",
      "wiki_qa_Decide_good_answer\n",
      "wiki_qa_Topic_Prediction_Answer_Only\n",
      "wiki_qa_Direct_Answer_to_Question\n",
      "qasc_is_correct_1\n",
      "qasc_qa_with_separated_facts_1\n",
      "qasc_qa_with_separated_facts_3\n",
      "qasc_qa_with_separated_facts_4\n",
      "qasc_qa_with_separated_facts_5\n",
      "qasc_qa_with_combined_facts_1\n",
      "qasc_is_correct_2\n",
      "qasc_qa_with_separated_facts_2\n",
      "hotpot_qa_fullwiki_generate_answer_affirmative\n",
      "hotpot_qa_fullwiki_generate_answer_and_explanations\n",
      "hotpot_qa_fullwiki_generate_explanations_interrogative\n",
      "hotpot_qa_fullwiki_classify_question_type\n",
      "hotpot_qa_fullwiki_generate_title_affirmative\n",
      "hotpot_qa_fullwiki_generate_question\n",
      "hotpot_qa_fullwiki_generate_explanations_affirmative\n",
      "hotpot_qa_fullwiki_generate_answer_interrogative\n",
      "hotpot_qa_distractor_generate_explanations_interrogative\n",
      "hotpot_qa_distractor_generate_explanations_affirmative\n",
      "hotpot_qa_distractor_generate_answer_interrogative\n",
      "hotpot_qa_distractor_generate_question\n",
      "hotpot_qa_distractor_generate_answer_and_explanations\n",
      "hotpot_qa_distractor_generate_title_affirmative\n",
      "hotpot_qa_distractor_generate_answer_affirmative\n",
      "openbookqa_additional_which_correct_inverse\n",
      "openbookqa_additional_choices\n",
      "openbookqa_additional_pick_using_id\n",
      "openbookqa_additional_choose_an_answer_with_options\n",
      "openbookqa_additional_which_correct\n",
      "openbookqa_additional_only_options\n",
      "openbookqa_additional_pick_answer_with_options\n",
      "openbookqa_main_choose_an_answer_with_options\n",
      "openbookqa_main_which_correct\n",
      "openbookqa_main_pick_using_id\n",
      "openbookqa_main_choices\n",
      "openbookqa_main_only_options\n",
      "openbookqa_main_which_correct_inverse\n",
      "openbookqa_main_pick_answer_with_options\n",
      "wiki_bio_who\n",
      "wiki_bio_comprehension\n",
      "wiki_bio_what_content\n",
      "wiki_bio_guess_person\n",
      "wiki_bio_key_content\n",
      "samsum_Summarize_this_dialogue\n",
      "samsum_Given_the_above_dialogue_write_a_summary\n",
      "samsum_Summarize\n",
      "samsum_To_sum_up_this_dialog\n",
      "samsum_Generate_a_summary_for_this_dialogue\n",
      "samsum_Write_a_dialogue_that_match_this_summary\n",
      "samsum_Sum_up_the_following_dialogue\n",
      "quartz_use_info_from_question_paragraph\n",
      "quartz_paragraph_question_plain_concat\n",
      "quartz_use_info_from_paragraph_question\n",
      "quartz_answer_question_based_on\n",
      "quartz_answer_question_below\n",
      "quartz_read_passage_below_choose\n",
      "quartz_having_read_above_passage\n",
      "quartz_given_the_fact_answer_the_q\n",
      "sciq_Direct_Question_Closed_Book\n",
      "sciq_Multiple_Choice_Closed_Book\n",
      "sciq_Multiple_Choice_Question_First\n",
      "sciq_Multiple_Choice\n",
      "sciq_Direct_Question\n",
      "piqa_what_is_the_correct_ending\n",
      "piqa_pick_correct_choice_with_choice_given_before_goal\n",
      "piqa_pick_correct_choice_index\n",
      "piqa_Correct_the_solution\n",
      "piqa_finish_sentence_with_correct_choice\n",
      "piqa_Does_this_solution_make_sense_sol2\n",
      "piqa_choose_the_most_appropriate_solution\n",
      "piqa_Correct_the_solution_if_false_from_sol_2\n",
      "piqa_no_prompt_needed\n",
      "piqa_Does_this_solution_make_sense_sol1\n",
      "piqa_Correct_the_solution_if_false_from_sol_1\n",
      "adversarial_qa_droberta_generate_question\n",
      "adversarial_qa_droberta_tell_what_it_is\n",
      "adversarial_qa_droberta_question_context_answer\n",
      "adversarial_qa_droberta_based_on\n",
      "adversarial_qa_droberta_answer_the_following_q\n",
      "adversarial_qa_adversarialQA_generate_question\n",
      "adversarial_qa_adversarialQA_tell_what_it_is\n",
      "adversarial_qa_adversarialQA_question_context_answer\n",
      "adversarial_qa_adversarialQA_based_on\n",
      "adversarial_qa_adversarialQA_answer_the_following_q\n",
      "adversarial_qa_dbert_generate_question\n",
      "adversarial_qa_dbert_tell_what_it_is\n",
      "adversarial_qa_dbert_question_context_answer\n",
      "adversarial_qa_dbert_based_on\n",
      "adversarial_qa_dbert_answer_the_following_q\n",
      "adversarial_qa_dbidaf_based_on\n",
      "adversarial_qa_dbidaf_answer_the_following_q\n",
      "adversarial_qa_dbidaf_generate_question\n",
      "adversarial_qa_dbidaf_tell_what_it_is\n",
      "adversarial_qa_dbidaf_question_context_answer\n",
      "quoref_Guess_Answer\n",
      "quoref_Answer_Question_Given_Context\n",
      "quoref_Find_Answer\n",
      "quoref_Context_Contains_Answer\n",
      "quoref_Given_Context_Answer_Question\n",
      "quoref_What_Is_The_Answer\n",
      "quoref_Answer_Test\n",
      "quoref_Guess_Title_For_Context\n",
      "quoref_Found_Context_Online\n",
      "quoref_Answer_Friend_Question\n",
      "quoref_Read_And_Extract\n",
      "winogrande_winogrande_l_True_or_False\n",
      "winogrande_winogrande_l_fill_in_the_blank\n",
      "winogrande_winogrande_l_does_underscore_refer_to\n",
      "winogrande_winogrande_l_Replace\n",
      "winogrande_winogrande_l_stand_for\n",
      "winogrande_winogrande_l_underscore_refer_to\n",
      "winogrande_winogrande_s_does_underscore_refer_to\n",
      "winogrande_winogrande_s_True_or_False\n",
      "winogrande_winogrande_s_stand_for\n",
      "winogrande_winogrande_s_Replace\n",
      "winogrande_winogrande_s_fill_in_the_blank\n",
      "winogrande_winogrande_s_underscore_refer_to\n",
      "winogrande_winogrande_debiased_Replace\n",
      "winogrande_winogrande_debiased_underscore_refer_to\n",
      "winogrande_winogrande_debiased_does_underscore_refer_to\n",
      "winogrande_winogrande_debiased_stand_for\n",
      "winogrande_winogrande_debiased_True_or_False\n",
      "winogrande_winogrande_debiased_fill_in_the_blank\n",
      "winogrande_winogrande_xl_does_underscore_refer_to\n",
      "winogrande_winogrande_xl_stand_for\n",
      "winogrande_winogrande_xl_underscore_refer_to\n",
      "winogrande_winogrande_xl_fill_in_the_blank\n",
      "winogrande_winogrande_xl_True_or_False\n",
      "winogrande_winogrande_xl_Replace\n",
      "winogrande_winogrande_m_Replace\n",
      "winogrande_winogrande_m_fill_in_the_blank\n",
      "winogrande_winogrande_m_True_or_False\n",
      "winogrande_winogrande_m_does_underscore_refer_to\n",
      "winogrande_winogrande_m_underscore_refer_to\n",
      "winogrande_winogrande_m_stand_for\n",
      "winogrande_winogrande_xs_does_underscore_refer_to\n",
      "winogrande_winogrande_xs_True_or_False\n",
      "winogrande_winogrande_xs_underscore_refer_to\n",
      "winogrande_winogrande_xs_stand_for\n",
      "winogrande_winogrande_xs_Replace\n",
      "winogrande_winogrande_xs_fill_in_the_blank\n",
      "imdb_Movie_Expressed_Sentiment_2\n",
      "imdb_Reviewer_Opinion_bad_good_choices\n",
      "imdb_Sentiment_with_choices\n",
      "imdb_Reviewer_Sentiment_Feeling\n",
      "imdb_Writer_Expressed_Sentiment\n",
      "imdb_Movie_Expressed_Sentiment\n",
      "imdb_Text_Expressed_Sentiment\n",
      "imdb_Negation_template_for_positive_and_negative\n",
      "imdb_Reviewer_Enjoyment_Yes_No\n",
      "imdb_Reviewer_Expressed_Sentiment\n",
      "imdb_Reviewer_Enjoyment\n",
      "story_cloze_2016_Answer_Given_options\n",
      "story_cloze_2016_Choose_Story_Ending\n",
      "story_cloze_2016_Movie_What_Happens_Next\n",
      "story_cloze_2016_Story_Continuation_and_Options\n",
      "story_cloze_2016_Generate_Ending\n",
      "story_cloze_2016_Novel_Correct_Ending\n",
      "hellaswag_complete_first_then\n",
      "hellaswag_Topic_without_the_ending_answer\n",
      "hellaswag_Open_ended_completion\n",
      "hellaswag_Topic_of_the_context\n",
      "hellaswag_Randomized_prompts_template\n",
      "hellaswag_Appropriate_continuation_Yes_or_No\n",
      "hellaswag_Predict_ending_with_hint\n",
      "hellaswag_Open_ended_start\n",
      "hellaswag_Reversed_appropriate_continuation_Yes_or_No\n",
      "hellaswag_how_ends\n",
      "hellaswag_if_begins_how_continues\n",
      "wiki_hop_original_choose_best_object_interrogative_1\n",
      "wiki_hop_original_explain_relation\n",
      "wiki_hop_original_generate_object\n",
      "wiki_hop_original_generate_subject\n",
      "wiki_hop_original_choose_best_object_affirmative_1\n",
      "wiki_hop_original_choose_best_object_affirmative_3\n",
      "wiki_hop_original_generate_subject_and_object\n",
      "wiki_hop_original_choose_best_object_affirmative_2\n",
      "wiki_hop_original_choose_best_object_interrogative_2\n",
      "wiki_hop_masked_Indirect_Question_about_Birthplace_Citizenship_Place_of_Death\n",
      "wiki_hop_masked_Explain_Relation\n",
      "wiki_hop_masked_Generate_Object_Answer\n",
      "wiki_hop_masked_Choose_Best_Object_Candidate\n",
      "wiki_hop_masked_Generate_Fact_Triple\n",
      "wiki_hop_masked_Generate_Subject_Answer\n",
      "quail_context_question_answer_description_id\n",
      "quail_context_question_answer_description_text\n",
      "quail_description_context_question_answer_id\n",
      "quail_context_question_description_answer_text\n",
      "quail_context_question_description_text\n",
      "quail_context_description_question_text\n",
      "quail_context_question_description_answer_id\n",
      "quail_no_prompt_id\n",
      "quail_context_description_question_answer_id\n",
      "quail_description_context_question_text\n",
      "quail_no_prompt_text\n",
      "quail_context_description_question_answer_text\n",
      "quail_description_context_question_answer_text\n",
      "art_choose_hypothesis_options\n",
      "art_choose_hypothesis_believable\n",
      "art_choose_hypothesis\n",
      "art_choose_hypothesis_desc\n",
      "art_choose_hypothesis_likely\n",
      "xsum_DOC_write_summary_of_above\n",
      "xsum_article_DOC_summary\n",
      "xsum_DOC_how_would_you_rephrase_few_words\n",
      "xsum_college_roommate_asked_DOC_so_I_recap\n",
      "xsum_DOC_boils_down_to_simple_idea_that\n",
      "xsum_summarize_DOC\n",
      "xsum_summarize_this_DOC_summary\n",
      "xsum_DOC_given_above_write_one_sentence\n",
      "xsum_read_below_DOC_write_abstract\n",
      "xsum_DOC_tldr\n",
      "anli_MNLI_crowdsource\n",
      "anli_should_assume\n",
      "anli_does_it_follow_that\n",
      "anli_GPT_3_style\n",
      "anli_based_on_the_previous_passage\n",
      "anli_justified_in_saying\n",
      "anli_take_the_following_as_truth\n",
      "anli_must_be_true\n",
      "anli_can_we_infer\n",
      "anli_guaranteed_possible_impossible\n",
      "anli_always_sometimes_never\n",
      "anli_does_this_imply\n",
      "anli_consider_always_sometimes_never\n",
      "anli_claim_true_false_inconclusive\n",
      "anli_guaranteed_true\n",
      "app_reviews_categorize_rating_using_review\n",
      "app_reviews_generate_review\n",
      "app_reviews_convert_to_star_rating\n",
      "app_reviews_convert_to_rating\n",
      "ropes_prompt_beginning\n",
      "ropes_prompt_bottom_no_hint\n",
      "ropes_prompt_bottom_hint_beginning\n",
      "ropes_given_background_situation\n",
      "ropes_plain_no_background\n",
      "ropes_plain_bottom_hint\n",
      "ropes_plain_background_situation\n",
      "ropes_background_new_situation_answer\n",
      "ropes_background_situation_middle\n",
      "ropes_new_situation_background_answer\n",
      "ropes_prompt_mix\n",
      "ropes_read_background_situation\n",
      "dream_generate_last_utterance\n",
      "dream_answer_to_dialogue\n",
      "dream_generate_first_utterance\n",
      "dream_baseline\n",
      "dream_read_the_following_conversation_and_answer_the_question\n",
      "duorc_ParaphraseRC_build_story_around_qa\n",
      "duorc_ParaphraseRC_decide_worth_it\n",
      "duorc_ParaphraseRC_question_answering\n",
      "duorc_ParaphraseRC_movie_director\n",
      "duorc_ParaphraseRC_generate_question\n",
      "duorc_ParaphraseRC_extract_answer\n",
      "duorc_ParaphraseRC_title_generation\n",
      "duorc_ParaphraseRC_answer_question\n",
      "duorc_ParaphraseRC_generate_question_by_answer\n",
      "duorc_SelfRC_generate_question_by_answer\n",
      "duorc_SelfRC_movie_director\n",
      "duorc_SelfRC_extract_answer\n",
      "duorc_SelfRC_generate_question\n",
      "duorc_SelfRC_answer_question\n",
      "duorc_SelfRC_build_story_around_qa\n",
      "duorc_SelfRC_question_answering\n",
      "duorc_SelfRC_title_generation\n",
      "duorc_SelfRC_decide_worth_it\n",
      "ag_news_classify_question_first\n",
      "ag_news_classify_with_choices_question_first\n",
      "ag_news_recommend\n",
      "ag_news_which_section_choices\n",
      "ag_news_which_section\n",
      "ag_news_classify_with_choices\n",
      "ag_news_classify\n",
      "web_questions_get_the_answer\n",
      "web_questions_potential_correct_answer\n",
      "web_questions_whats_the_answer\n",
      "web_questions_short_general_knowledge_q\n",
      "web_questions_question_answer\n",
      "gigaword_generate_summary_for_this\n",
      "gigaword_reverse_writing\n",
      "gigaword_make_a_title\n",
      "gigaword_first_sentence_title\n",
      "gigaword_TLDR\n",
      "gigaword_write_its_sentence\n",
      "gigaword_write_a_title_for_this_sentence\n",
      "gigaword_in_a_nutshell\n",
      "gigaword_write_an_article\n",
      "race_high_Is_this_the_right_answer\n",
      "race_high_Write_a_multi_choice_question_for_the_following_article\n",
      "race_high_Taking_a_test\n",
      "race_high_Select_the_best_answer\n",
      "race_high_Write_a_multi_choice_question_options_given\n",
      "race_high_Select_the_best_answer_generate_span\n",
      "race_high_Select_the_best_answer_no_instructions\n",
      "race_high_Read_the_article_and_answer_the_question_no_option\n",
      "race_all_Taking_a_test\n",
      "race_all_Write_a_multi_choice_question_for_the_following_article\n",
      "race_all_Read_the_article_and_answer_the_question_no_option\n",
      "race_all_Select_the_best_answer_generate_span\n",
      "race_all_Is_this_the_right_answer\n",
      "race_all_Write_a_multi_choice_question_options_given\n",
      "race_all_Select_the_best_answer\n",
      "race_all_Select_the_best_answer_no_instructions\n",
      "race_middle_Select_the_best_answer\n",
      "race_middle_Read_the_article_and_answer_the_question_no_option\n",
      "race_middle_Is_this_the_right_answer\n",
      "race_middle_Select_the_best_answer_no_instructions\n",
      "race_middle_Select_the_best_answer_generate_span\n",
      "race_middle_Write_a_multi_choice_question_options_given\n",
      "race_middle_Write_a_multi_choice_question_for_the_following_article\n",
      "race_middle_Taking_a_test\n",
      "quarel_do_not_use\n",
      "quarel_logic_test\n",
      "quarel_heres_a_story\n",
      "quarel_choose_between\n",
      "quarel_testing_students\n",
      "squad_answer_question_given_context\n",
      "squad_given_context_answer_question_variation\n",
      "squad_given_context_generate_question\n",
      "squad_jeopardy\n",
      "squad_answer_the_question\n",
      "squad_answer_given_context_and_question\n",
      "trec_what_category_best_describe\n",
      "trec_fine_grained_LOC\n",
      "trec_fine_grained_NUM_context_first\n",
      "trec_fine_grained_ENTY\n",
      "trec_fine_grained_NUM\n",
      "trec_pick_the_best_descriptor\n",
      "trec_fine_grained_open_context_first\n",
      "trec_fine_grained_LOC_context_first\n",
      "trec_which_category_best_describes\n",
      "trec_fine_grained_DESC\n",
      "trec_trec1\n",
      "trec_fine_grained_ABBR\n",
      "trec_fine_grained_ABBR_context_first\n",
      "trec_trec2\n",
      "trec_fine_grained_HUM\n",
      "trec_fine_grained_open\n",
      "trec_fine_grained_HUM_context_first\n",
      "trec_fine_grained_DESC_context_first\n",
      "wiqa_what_might_be_the_first_step_of_the_process\n",
      "wiqa_what_might_be_the_last_step_of_the_process\n",
      "wiqa_what_is_the_missing_first_step\n",
      "wiqa_what_is_the_final_step_of_the_following_process\n",
      "wiqa_effect_with_string_answer\n",
      "wiqa_which_of_the_following_is_the_supposed_perturbation\n",
      "wiqa_effect_with_label_answer\n",
      "wiqa_does_the_supposed_perturbation_have_an_effect\n",
      "437\n"
     ]
    }
   ],
   "source": [
    "instructions = {}\n",
    "for k in list(collection_templates.keys()):\n",
    "    # print(k[0])\n",
    "    if k[0] in task_dataset_list:\n",
    "        dataset = collection_templates[k[0],k[1]].templates\n",
    "        for key in list(dataset.keys()):\n",
    "            tmp_name = str(k[0])+(f\"_{k[1]}\" if k[1] is not None else \"\")+\"_\"+dataset[key].name.replace(\" \",\"_\").replace(\"-\",\"_\").replace(\"/\",\"_\").replace(\"___\",\"_\").replace(\"(\",\"\").replace(\")\",\"\").replace(\":\",\"\").replace(\"?\",\"\").replace(\"+\",\"\").strip(\"_\")\n",
    "            print(tmp_name)\n",
    "            instructions[tmp_name] = dataset[key].jinja\n",
    "print(len(instructions))"
   ]
  },
  {
   "cell_type": "markdown",
   "metadata": {},
   "source": [
    "# 画TSNE图"
   ]
  },
  {
   "cell_type": "code",
   "execution_count": 47,
   "metadata": {},
   "outputs": [
    {
     "name": "stdout",
     "output_type": "stream",
     "text": [
      "SentenceTransformer(\n",
      "  (0): Transformer({'max_seq_length': 384, 'do_lower_case': False}) with Transformer model: MPNetModel \n",
      "  (1): Pooling({'word_embedding_dimension': 768, 'pooling_mode_cls_token': False, 'pooling_mode_mean_tokens': True, 'pooling_mode_max_tokens': False, 'pooling_mode_mean_sqrt_len_tokens': False, 'pooling_mode_weightedmean_tokens': False, 'pooling_mode_lasttoken': False, 'include_prompt': True})\n",
      "  (2): Normalize()\n",
      ")\n"
     ]
    }
   ],
   "source": [
    "from sentence_transformers import SentenceTransformer\n",
    "model = SentenceTransformer(\"all-mpnet-base-v2\")\n",
    "print(model)"
   ]
  },
  {
   "cell_type": "code",
   "execution_count": 52,
   "metadata": {},
   "outputs": [
    {
     "name": "stdout",
     "output_type": "stream",
     "text": [
      "768\n"
     ]
    }
   ],
   "source": [
    "print(len(model.encode(\"hello world\")))"
   ]
  },
  {
   "cell_type": "code",
   "execution_count": 81,
   "metadata": {},
   "outputs": [],
   "source": [
    "import numpy as np\n",
    "from sklearn.manifold import TSNE\n",
    "import matplotlib.pyplot as plt\n",
    "\n",
    "# 步骤1: 提取嵌入\n",
    "embeddings = []\n",
    "names = []\n",
    "for name, string in instructions.items():\n",
    "    embedding = model.encode(string)  # 假设这是提取嵌入的方法\n",
    "    embeddings.append(embedding)\n",
    "    names.append(name)\n",
    "\n",
    "# 将嵌入列表转换为numpy数组\n",
    "embeddings = np.array(embeddings)\n",
    "\n",
    "from sklearn.metrics.pairwise import cosine_similarity\n",
    "from scipy.spatial.distance import pdist, squareform\n",
    "\n",
    "# 假设 'embeddings' 是原始嵌入数据的 NumPy 数组\n",
    "\n",
    "# 计算余弦相似度矩阵\n",
    "cosine_sim = cosine_similarity(embeddings)\n",
    "\n",
    "# 将余弦相似度转换为高斯核矩阵\n",
    "sigma = np.mean(cosine_sim)  # 可以选择一个合适的 sigma 值\n",
    "gaussian_kernel = np.exp(- squareform(pdist(cosine_sim, 'cosine')) / (2 * sigma ** 2))\n",
    "\n",
    "# 步骤2: 执行t-SNE\n",
    "tsne = TSNE(n_components=2, random_state=0)\n",
    "tsne_results = tsne.fit_transform(gaussian_kernel)"
   ]
  },
  {
   "cell_type": "code",
   "execution_count": 75,
   "metadata": {},
   "outputs": [
    {
     "name": "stdout",
     "output_type": "stream",
     "text": [
      "437\n",
      "437\n"
     ]
    }
   ],
   "source": [
    "print(len(tsne_results))\n",
    "print(len(list(instructions.keys())))"
   ]
  },
  {
   "cell_type": "code",
   "execution_count": null,
   "metadata": {},
   "outputs": [],
   "source": [
    "plt.figure(figsize=(100, 100))\n",
    "for i, name in enumerate(names):\n",
    "    plt.scatter(tsne_results[i, 0], tsne_results[i, 1], label=name)\n",
    "    plt.text(tsne_results[i, 0], tsne_results[i, 1], str(name))\n",
    "plt.legend()\n",
    "plt.show()"
   ]
  },
  {
   "cell_type": "code",
   "execution_count": 88,
   "metadata": {},
   "outputs": [],
   "source": [
    "import plotly.graph_objs as go\n",
    "\n",
    "# 步骤3: 可视化\n",
    "trace = go.Scatter(\n",
    "    x=tsne_results[:, 0],  # t-SNE的第一维\n",
    "    y=tsne_results[:, 1],  # t-SNE的第二维\n",
    "    mode='markers+text',   # 模式为标记和文本\n",
    "    text=list(instructions.keys()),  # 文本标签为字典的键\n",
    "    textposition='top center',  # 文本位置在标记的上方\n",
    "    textfont=dict(size=5)  # 文本字体大小\n",
    ")\n",
    "\n",
    "# 创建图形布局\n",
    "layout = go.Layout(\n",
    "    title='t-SNE Visualization of Embeddings',\n",
    "    xaxis=dict(title='Dimension 1'),\n",
    "    yaxis=dict(title='Dimension 2'),\n",
    "    showlegend=False,\n",
    "    autosize=True\n",
    ")\n",
    "\n",
    "# 创建图形\n",
    "fig = go.Figure(data=[trace], layout=layout)"
   ]
  },
  {
   "cell_type": "code",
   "execution_count": 89,
   "metadata": {},
   "outputs": [
    {
     "data": {
      "application/vnd.plotly.v1+json": {
       "config": {
        "plotlyServerURL": "https://plot.ly"
       },
       "data": [
        {
         "mode": "markers+text",
         "text": [
          "paws_labeled_final_task_description_no_label",
          "paws_labeled_final_Meaning",
          "paws_labeled_final_context_question_no_label",
          "paws_labeled_final_Rewrite_no_label",
          "paws_labeled_final_context_question",
          "paws_labeled_final_Concatenation",
          "paws_labeled_final_paraphrase_task",
          "paws_labeled_final_Concatenation_no_label",
          "paws_labeled_final_Meaning_no_label",
          "paws_labeled_final_PAWS_ANLI_GPT3",
          "paws_labeled_final_Rewrite",
          "paws_labeled_final_PAWS_ANLI_GPT3_no_label",
          "paws_labeled_swap_task_description_no_label",
          "paws_labeled_swap_Meaning",
          "paws_labeled_swap_context_question_no_label",
          "paws_labeled_swap_Rewrite_no_label",
          "paws_labeled_swap_context_question",
          "paws_labeled_swap_Concatenation",
          "paws_labeled_swap_paraphrase_task",
          "paws_labeled_swap_Concatenation_no_label",
          "paws_labeled_swap_Meaning_no_label",
          "paws_labeled_swap_PAWS_ANLI_GPT3",
          "paws_labeled_swap_Rewrite",
          "paws_labeled_swap_PAWS_ANLI_GPT3_no_label",
          "paws_unlabeled_final_task_description_no_label",
          "paws_unlabeled_final_Meaning",
          "paws_unlabeled_final_context_question_no_label",
          "paws_unlabeled_final_Rewrite_no_label",
          "paws_unlabeled_final_context_question",
          "paws_unlabeled_final_Concatenation",
          "paws_unlabeled_final_paraphrase_task",
          "paws_unlabeled_final_Concatenation_no_label",
          "paws_unlabeled_final_Meaning_no_label",
          "paws_unlabeled_final_PAWS_ANLI_GPT3",
          "paws_unlabeled_final_Rewrite",
          "paws_unlabeled_final_PAWS_ANLI_GPT3_no_label",
          "trivia_qa_unfiltered_guess_question",
          "trivia_qa_unfiltered_formal_description",
          "trivia_qa_unfiltered_question_with_instruction",
          "trivia_qa_unfiltered_first_person_context",
          "trivia_qa_unfiltered_question_answer",
          "rotten_tomatoes_Reviewer_Opinion_bad_good_choices",
          "rotten_tomatoes_Text_Expressed_Sentiment",
          "rotten_tomatoes_Sentiment_with_choices",
          "rotten_tomatoes_Reviewer_Enjoyment_Yes_No",
          "rotten_tomatoes_Reviewer_Enjoyment",
          "rotten_tomatoes_Movie_Expressed_Sentiment",
          "rotten_tomatoes_Writer_Expressed_Sentiment",
          "rotten_tomatoes_Movie_Expressed_Sentiment_2",
          "rotten_tomatoes_Reviewer_Expressed_Sentiment",
          "rotten_tomatoes_Reviewer_Sentiment_Feeling",
          "squad_v2_Questions_with_Context",
          "squad_v2_Jeopardy_with_Context",
          "squad_v2_Topic_Prediction_Context_with_randomized_prompt_options",
          "squad_v2_Topic_Prediction_Context_with_randomized_prompt_options_placed_in_the_end",
          "squad_v2_Jeopardy_without_Context",
          "squad_v2_Questions_with_Context_Without_Prompt_Keywords",
          "squad_v2_Questions_with_Context_unanswerable",
          "squad_v2_Trivia",
          "squad_v2_Questions_with_Context_Without_Prompt_Keywords_unanswerable",
          "squad_v2_Unanwerable_question",
          "squad_v2_Topic_Prediction_Question_and_Answer_Pair",
          "squad_v2_Topic_Prediction_Context",
          "common_gen_Given_concepts_type_2",
          "common_gen_Put_together",
          "common_gen_choice_in_concept_centric_sentence_generation",
          "common_gen_random_task_template_prompt",
          "common_gen_topics_from_the_sentence",
          "common_gen_sentence_to_concepts",
          "common_gen_topic_to_sentence",
          "common_gen_Example_prompt",
          "common_gen_Given_concepts_type_1",
          "swag_regular_reversed_appropriate_continuation",
          "swag_regular_appropriate_continuation",
          "swag_regular_how_ends",
          "swag_regular_first_then",
          "swag_regular_first_then_key",
          "swag_regular_generate_start",
          "swag_regular_open_completion",
          "wiki_qa_Is_This_True",
          "wiki_qa_automatic_system",
          "wiki_qa_Jeopardy_style",
          "wiki_qa_Topic_Prediction_Question_and_Answer_Pair",
          "wiki_qa_Generate_Question_from_Topic",
          "wiki_qa_found_on_google",
          "wiki_qa_Topic_Prediction_Question_Only",
          "wiki_qa_exercise",
          "wiki_qa_Decide_good_answer",
          "wiki_qa_Topic_Prediction_Answer_Only",
          "wiki_qa_Direct_Answer_to_Question",
          "qasc_is_correct_1",
          "qasc_qa_with_separated_facts_1",
          "qasc_qa_with_separated_facts_3",
          "qasc_qa_with_separated_facts_4",
          "qasc_qa_with_separated_facts_5",
          "qasc_qa_with_combined_facts_1",
          "qasc_is_correct_2",
          "qasc_qa_with_separated_facts_2",
          "hotpot_qa_fullwiki_generate_answer_affirmative",
          "hotpot_qa_fullwiki_generate_answer_and_explanations",
          "hotpot_qa_fullwiki_generate_explanations_interrogative",
          "hotpot_qa_fullwiki_classify_question_type",
          "hotpot_qa_fullwiki_generate_title_affirmative",
          "hotpot_qa_fullwiki_generate_question",
          "hotpot_qa_fullwiki_generate_explanations_affirmative",
          "hotpot_qa_fullwiki_generate_answer_interrogative",
          "hotpot_qa_distractor_generate_explanations_interrogative",
          "hotpot_qa_distractor_generate_explanations_affirmative",
          "hotpot_qa_distractor_generate_answer_interrogative",
          "hotpot_qa_distractor_generate_question",
          "hotpot_qa_distractor_generate_answer_and_explanations",
          "hotpot_qa_distractor_generate_title_affirmative",
          "hotpot_qa_distractor_generate_answer_affirmative",
          "openbookqa_additional_which_correct_inverse",
          "openbookqa_additional_choices",
          "openbookqa_additional_pick_using_id",
          "openbookqa_additional_choose_an_answer_with_options",
          "openbookqa_additional_which_correct",
          "openbookqa_additional_only_options",
          "openbookqa_additional_pick_answer_with_options",
          "openbookqa_main_choose_an_answer_with_options",
          "openbookqa_main_which_correct",
          "openbookqa_main_pick_using_id",
          "openbookqa_main_choices",
          "openbookqa_main_only_options",
          "openbookqa_main_which_correct_inverse",
          "openbookqa_main_pick_answer_with_options",
          "wiki_bio_who",
          "wiki_bio_comprehension",
          "wiki_bio_what_content",
          "wiki_bio_guess_person",
          "wiki_bio_key_content",
          "samsum_Summarize_this_dialogue",
          "samsum_Given_the_above_dialogue_write_a_summary",
          "samsum_Summarize",
          "samsum_To_sum_up_this_dialog",
          "samsum_Generate_a_summary_for_this_dialogue",
          "samsum_Write_a_dialogue_that_match_this_summary",
          "samsum_Sum_up_the_following_dialogue",
          "quartz_use_info_from_question_paragraph",
          "quartz_paragraph_question_plain_concat",
          "quartz_use_info_from_paragraph_question",
          "quartz_answer_question_based_on",
          "quartz_answer_question_below",
          "quartz_read_passage_below_choose",
          "quartz_having_read_above_passage",
          "quartz_given_the_fact_answer_the_q",
          "sciq_Direct_Question_Closed_Book",
          "sciq_Multiple_Choice_Closed_Book",
          "sciq_Multiple_Choice_Question_First",
          "sciq_Multiple_Choice",
          "sciq_Direct_Question",
          "piqa_what_is_the_correct_ending",
          "piqa_pick_correct_choice_with_choice_given_before_goal",
          "piqa_pick_correct_choice_index",
          "piqa_Correct_the_solution",
          "piqa_finish_sentence_with_correct_choice",
          "piqa_Does_this_solution_make_sense_sol2",
          "piqa_choose_the_most_appropriate_solution",
          "piqa_Correct_the_solution_if_false_from_sol_2",
          "piqa_no_prompt_needed",
          "piqa_Does_this_solution_make_sense_sol1",
          "piqa_Correct_the_solution_if_false_from_sol_1",
          "adversarial_qa_droberta_generate_question",
          "adversarial_qa_droberta_tell_what_it_is",
          "adversarial_qa_droberta_question_context_answer",
          "adversarial_qa_droberta_based_on",
          "adversarial_qa_droberta_answer_the_following_q",
          "adversarial_qa_adversarialQA_generate_question",
          "adversarial_qa_adversarialQA_tell_what_it_is",
          "adversarial_qa_adversarialQA_question_context_answer",
          "adversarial_qa_adversarialQA_based_on",
          "adversarial_qa_adversarialQA_answer_the_following_q",
          "adversarial_qa_dbert_generate_question",
          "adversarial_qa_dbert_tell_what_it_is",
          "adversarial_qa_dbert_question_context_answer",
          "adversarial_qa_dbert_based_on",
          "adversarial_qa_dbert_answer_the_following_q",
          "adversarial_qa_dbidaf_based_on",
          "adversarial_qa_dbidaf_answer_the_following_q",
          "adversarial_qa_dbidaf_generate_question",
          "adversarial_qa_dbidaf_tell_what_it_is",
          "adversarial_qa_dbidaf_question_context_answer",
          "quoref_Guess_Answer",
          "quoref_Answer_Question_Given_Context",
          "quoref_Find_Answer",
          "quoref_Context_Contains_Answer",
          "quoref_Given_Context_Answer_Question",
          "quoref_What_Is_The_Answer",
          "quoref_Answer_Test",
          "quoref_Guess_Title_For_Context",
          "quoref_Found_Context_Online",
          "quoref_Answer_Friend_Question",
          "quoref_Read_And_Extract",
          "winogrande_winogrande_l_True_or_False",
          "winogrande_winogrande_l_fill_in_the_blank",
          "winogrande_winogrande_l_does_underscore_refer_to",
          "winogrande_winogrande_l_Replace",
          "winogrande_winogrande_l_stand_for",
          "winogrande_winogrande_l_underscore_refer_to",
          "winogrande_winogrande_s_does_underscore_refer_to",
          "winogrande_winogrande_s_True_or_False",
          "winogrande_winogrande_s_stand_for",
          "winogrande_winogrande_s_Replace",
          "winogrande_winogrande_s_fill_in_the_blank",
          "winogrande_winogrande_s_underscore_refer_to",
          "winogrande_winogrande_debiased_Replace",
          "winogrande_winogrande_debiased_underscore_refer_to",
          "winogrande_winogrande_debiased_does_underscore_refer_to",
          "winogrande_winogrande_debiased_stand_for",
          "winogrande_winogrande_debiased_True_or_False",
          "winogrande_winogrande_debiased_fill_in_the_blank",
          "winogrande_winogrande_xl_does_underscore_refer_to",
          "winogrande_winogrande_xl_stand_for",
          "winogrande_winogrande_xl_underscore_refer_to",
          "winogrande_winogrande_xl_fill_in_the_blank",
          "winogrande_winogrande_xl_True_or_False",
          "winogrande_winogrande_xl_Replace",
          "winogrande_winogrande_m_Replace",
          "winogrande_winogrande_m_fill_in_the_blank",
          "winogrande_winogrande_m_True_or_False",
          "winogrande_winogrande_m_does_underscore_refer_to",
          "winogrande_winogrande_m_underscore_refer_to",
          "winogrande_winogrande_m_stand_for",
          "winogrande_winogrande_xs_does_underscore_refer_to",
          "winogrande_winogrande_xs_True_or_False",
          "winogrande_winogrande_xs_underscore_refer_to",
          "winogrande_winogrande_xs_stand_for",
          "winogrande_winogrande_xs_Replace",
          "winogrande_winogrande_xs_fill_in_the_blank",
          "imdb_Movie_Expressed_Sentiment_2",
          "imdb_Reviewer_Opinion_bad_good_choices",
          "imdb_Sentiment_with_choices",
          "imdb_Reviewer_Sentiment_Feeling",
          "imdb_Writer_Expressed_Sentiment",
          "imdb_Movie_Expressed_Sentiment",
          "imdb_Text_Expressed_Sentiment",
          "imdb_Negation_template_for_positive_and_negative",
          "imdb_Reviewer_Enjoyment_Yes_No",
          "imdb_Reviewer_Expressed_Sentiment",
          "imdb_Reviewer_Enjoyment",
          "story_cloze_2016_Answer_Given_options",
          "story_cloze_2016_Choose_Story_Ending",
          "story_cloze_2016_Movie_What_Happens_Next",
          "story_cloze_2016_Story_Continuation_and_Options",
          "story_cloze_2016_Generate_Ending",
          "story_cloze_2016_Novel_Correct_Ending",
          "hellaswag_complete_first_then",
          "hellaswag_Topic_without_the_ending_answer",
          "hellaswag_Open_ended_completion",
          "hellaswag_Topic_of_the_context",
          "hellaswag_Randomized_prompts_template",
          "hellaswag_Appropriate_continuation_Yes_or_No",
          "hellaswag_Predict_ending_with_hint",
          "hellaswag_Open_ended_start",
          "hellaswag_Reversed_appropriate_continuation_Yes_or_No",
          "hellaswag_how_ends",
          "hellaswag_if_begins_how_continues",
          "wiki_hop_original_choose_best_object_interrogative_1",
          "wiki_hop_original_explain_relation",
          "wiki_hop_original_generate_object",
          "wiki_hop_original_generate_subject",
          "wiki_hop_original_choose_best_object_affirmative_1",
          "wiki_hop_original_choose_best_object_affirmative_3",
          "wiki_hop_original_generate_subject_and_object",
          "wiki_hop_original_choose_best_object_affirmative_2",
          "wiki_hop_original_choose_best_object_interrogative_2",
          "wiki_hop_masked_Indirect_Question_about_Birthplace_Citizenship_Place_of_Death",
          "wiki_hop_masked_Explain_Relation",
          "wiki_hop_masked_Generate_Object_Answer",
          "wiki_hop_masked_Choose_Best_Object_Candidate",
          "wiki_hop_masked_Generate_Fact_Triple",
          "wiki_hop_masked_Generate_Subject_Answer",
          "quail_context_question_answer_description_id",
          "quail_context_question_answer_description_text",
          "quail_description_context_question_answer_id",
          "quail_context_question_description_answer_text",
          "quail_context_question_description_text",
          "quail_context_description_question_text",
          "quail_context_question_description_answer_id",
          "quail_no_prompt_id",
          "quail_context_description_question_answer_id",
          "quail_description_context_question_text",
          "quail_no_prompt_text",
          "quail_context_description_question_answer_text",
          "quail_description_context_question_answer_text",
          "art_choose_hypothesis_options",
          "art_choose_hypothesis_believable",
          "art_choose_hypothesis",
          "art_choose_hypothesis_desc",
          "art_choose_hypothesis_likely",
          "xsum_DOC_write_summary_of_above",
          "xsum_article_DOC_summary",
          "xsum_DOC_how_would_you_rephrase_few_words",
          "xsum_college_roommate_asked_DOC_so_I_recap",
          "xsum_DOC_boils_down_to_simple_idea_that",
          "xsum_summarize_DOC",
          "xsum_summarize_this_DOC_summary",
          "xsum_DOC_given_above_write_one_sentence",
          "xsum_read_below_DOC_write_abstract",
          "xsum_DOC_tldr",
          "anli_MNLI_crowdsource",
          "anli_should_assume",
          "anli_does_it_follow_that",
          "anli_GPT_3_style",
          "anli_based_on_the_previous_passage",
          "anli_justified_in_saying",
          "anli_take_the_following_as_truth",
          "anli_must_be_true",
          "anli_can_we_infer",
          "anli_guaranteed_possible_impossible",
          "anli_always_sometimes_never",
          "anli_does_this_imply",
          "anli_consider_always_sometimes_never",
          "anli_claim_true_false_inconclusive",
          "anli_guaranteed_true",
          "app_reviews_categorize_rating_using_review",
          "app_reviews_generate_review",
          "app_reviews_convert_to_star_rating",
          "app_reviews_convert_to_rating",
          "ropes_prompt_beginning",
          "ropes_prompt_bottom_no_hint",
          "ropes_prompt_bottom_hint_beginning",
          "ropes_given_background_situation",
          "ropes_plain_no_background",
          "ropes_plain_bottom_hint",
          "ropes_plain_background_situation",
          "ropes_background_new_situation_answer",
          "ropes_background_situation_middle",
          "ropes_new_situation_background_answer",
          "ropes_prompt_mix",
          "ropes_read_background_situation",
          "dream_generate_last_utterance",
          "dream_answer_to_dialogue",
          "dream_generate_first_utterance",
          "dream_baseline",
          "dream_read_the_following_conversation_and_answer_the_question",
          "duorc_ParaphraseRC_build_story_around_qa",
          "duorc_ParaphraseRC_decide_worth_it",
          "duorc_ParaphraseRC_question_answering",
          "duorc_ParaphraseRC_movie_director",
          "duorc_ParaphraseRC_generate_question",
          "duorc_ParaphraseRC_extract_answer",
          "duorc_ParaphraseRC_title_generation",
          "duorc_ParaphraseRC_answer_question",
          "duorc_ParaphraseRC_generate_question_by_answer",
          "duorc_SelfRC_generate_question_by_answer",
          "duorc_SelfRC_movie_director",
          "duorc_SelfRC_extract_answer",
          "duorc_SelfRC_generate_question",
          "duorc_SelfRC_answer_question",
          "duorc_SelfRC_build_story_around_qa",
          "duorc_SelfRC_question_answering",
          "duorc_SelfRC_title_generation",
          "duorc_SelfRC_decide_worth_it",
          "ag_news_classify_question_first",
          "ag_news_classify_with_choices_question_first",
          "ag_news_recommend",
          "ag_news_which_section_choices",
          "ag_news_which_section",
          "ag_news_classify_with_choices",
          "ag_news_classify",
          "web_questions_get_the_answer",
          "web_questions_potential_correct_answer",
          "web_questions_whats_the_answer",
          "web_questions_short_general_knowledge_q",
          "web_questions_question_answer",
          "gigaword_generate_summary_for_this",
          "gigaword_reverse_writing",
          "gigaword_make_a_title",
          "gigaword_first_sentence_title",
          "gigaword_TLDR",
          "gigaword_write_its_sentence",
          "gigaword_write_a_title_for_this_sentence",
          "gigaword_in_a_nutshell",
          "gigaword_write_an_article",
          "race_high_Is_this_the_right_answer",
          "race_high_Write_a_multi_choice_question_for_the_following_article",
          "race_high_Taking_a_test",
          "race_high_Select_the_best_answer",
          "race_high_Write_a_multi_choice_question_options_given",
          "race_high_Select_the_best_answer_generate_span",
          "race_high_Select_the_best_answer_no_instructions",
          "race_high_Read_the_article_and_answer_the_question_no_option",
          "race_all_Taking_a_test",
          "race_all_Write_a_multi_choice_question_for_the_following_article",
          "race_all_Read_the_article_and_answer_the_question_no_option",
          "race_all_Select_the_best_answer_generate_span",
          "race_all_Is_this_the_right_answer",
          "race_all_Write_a_multi_choice_question_options_given",
          "race_all_Select_the_best_answer",
          "race_all_Select_the_best_answer_no_instructions",
          "race_middle_Select_the_best_answer",
          "race_middle_Read_the_article_and_answer_the_question_no_option",
          "race_middle_Is_this_the_right_answer",
          "race_middle_Select_the_best_answer_no_instructions",
          "race_middle_Select_the_best_answer_generate_span",
          "race_middle_Write_a_multi_choice_question_options_given",
          "race_middle_Write_a_multi_choice_question_for_the_following_article",
          "race_middle_Taking_a_test",
          "quarel_do_not_use",
          "quarel_logic_test",
          "quarel_heres_a_story",
          "quarel_choose_between",
          "quarel_testing_students",
          "squad_answer_question_given_context",
          "squad_given_context_answer_question_variation",
          "squad_given_context_generate_question",
          "squad_jeopardy",
          "squad_answer_the_question",
          "squad_answer_given_context_and_question",
          "trec_what_category_best_describe",
          "trec_fine_grained_LOC",
          "trec_fine_grained_NUM_context_first",
          "trec_fine_grained_ENTY",
          "trec_fine_grained_NUM",
          "trec_pick_the_best_descriptor",
          "trec_fine_grained_open_context_first",
          "trec_fine_grained_LOC_context_first",
          "trec_which_category_best_describes",
          "trec_fine_grained_DESC",
          "trec_trec1",
          "trec_fine_grained_ABBR",
          "trec_fine_grained_ABBR_context_first",
          "trec_trec2",
          "trec_fine_grained_HUM",
          "trec_fine_grained_open",
          "trec_fine_grained_HUM_context_first",
          "trec_fine_grained_DESC_context_first",
          "wiqa_what_might_be_the_first_step_of_the_process",
          "wiqa_what_might_be_the_last_step_of_the_process",
          "wiqa_what_is_the_missing_first_step",
          "wiqa_what_is_the_final_step_of_the_following_process",
          "wiqa_effect_with_string_answer",
          "wiqa_which_of_the_following_is_the_supposed_perturbation",
          "wiqa_effect_with_label_answer",
          "wiqa_does_the_supposed_perturbation_have_an_effect"
         ],
         "textfont": {
          "size": 5
         },
         "textposition": "top center",
         "type": "scatter",
         "x": [
          4.391581,
          -0.100926556,
          0.1629779,
          -3.107378,
          1.3016512,
          1.1273525,
          -24.418547,
          1.7591196,
          -0.6506275,
          13.375106,
          -0.72556716,
          2.909454,
          3.3248909,
          -1.1701082,
          0.1629779,
          -2.02852,
          0.10106119,
          1.2820687,
          -24.418547,
          1.7591196,
          -0.6506275,
          12.455444,
          -1.8986207,
          2.909454,
          4.1616673,
          -2.239325,
          -1.3141472,
          -3.1726146,
          -1.0994972,
          1.1273525,
          -24.418547,
          1.7591196,
          -0.6506275,
          12.620818,
          -0.72556716,
          2.7281518,
          21.183506,
          10.99757,
          12.977984,
          13.673213,
          11.5657625,
          26.699028,
          25.821344,
          25.187159,
          28.180386,
          27.924671,
          28.764643,
          29.438366,
          30.305305,
          30.45468,
          27.942717,
          6.1534934,
          8.401403,
          -9.8956785,
          -11.014404,
          10.657937,
          2.1872134,
          7.2689486,
          11.638172,
          3.2254205,
          9.66435,
          7.4657874,
          -42.382298,
          -32.689564,
          -31.008732,
          -8.717038,
          -22.173365,
          -35.338608,
          -31.927525,
          -7.878691,
          -30.634453,
          -33.40568,
          -3.8271224,
          -3.6368496,
          6.6992154,
          -1.4526443,
          -1.1424246,
          -26.439602,
          -23.807558,
          14.379191,
          16.237593,
          -1.8461411,
          -1.4323446,
          -3.6625068,
          15.649934,
          -5.962563,
          13.477655,
          18.276281,
          -4.118024,
          12.099266,
          0.7111417,
          0.8620147,
          2.1019633,
          21.017727,
          8.536826,
          2.3530254,
          7.434099,
          8.574792,
          -6.452409,
          -14.642924,
          -5.8354697,
          15.8946495,
          -39.457256,
          -4.2323093,
          -7.980326,
          -13.210206,
          -5.8354697,
          -7.9072304,
          -13.125749,
          -4.2323093,
          -14.901966,
          -39.457256,
          -6.452409,
          26.714182,
          25.291311,
          22.17613,
          24.353794,
          25.963976,
          26.421408,
          25.073296,
          28.358917,
          28.128927,
          22.80048,
          30.415749,
          29.572775,
          28.663126,
          29.528927,
          -40.077377,
          -33.92408,
          -37.494114,
          -32.789223,
          -38.45227,
          -31.055252,
          -29.736895,
          -32.50407,
          -28.05569,
          -30.500872,
          -31.003832,
          -29.434807,
          4.3233795,
          9.213524,
          4.796293,
          11.056003,
          8.285779,
          10.159556,
          11.64362,
          7.747618,
          13.874869,
          32.12835,
          30.881334,
          22.448784,
          7.948272,
          4.8615227,
          6.9381604,
          7.5277143,
          -25.087542,
          6.496323,
          -0.12976788,
          12.324124,
          -26.189188,
          -35.655235,
          -1.2819647,
          -27.395863,
          -26.980236,
          1.5651466,
          3.1504657,
          5.92559,
          0.60959643,
          -26.980236,
          1.3118615,
          4.619715,
          6.3579726,
          1.6280844,
          -26.980236,
          2.3482978,
          3.867144,
          5.92559,
          0.3326795,
          5.92559,
          0.60959643,
          -26.980236,
          2.6627629,
          3.894488,
          10.197635,
          10.5255995,
          11.459612,
          7.350311,
          11.245392,
          10.174499,
          9.208598,
          -28.230185,
          12.784244,
          8.593733,
          9.568037,
          -22.459152,
          -16.871346,
          -19.593622,
          3.3085098,
          -28.141977,
          -25.08266,
          -19.760916,
          -23.734972,
          -28.141977,
          3.1839526,
          -16.638563,
          -24.073027,
          2.7778628,
          -22.98017,
          -19.760916,
          -28.141977,
          -22.509,
          -15.3678255,
          -19.760916,
          -28.141977,
          -23.953365,
          -14.795612,
          -23.734972,
          4.008899,
          4.2349057,
          -15.956772,
          -23.721737,
          -19.760916,
          -25.492598,
          -27.154844,
          -19.593622,
          -25.039421,
          -25.492598,
          -28.141977,
          2.2899241,
          -15.674504,
          31.298727,
          26.290579,
          24.680908,
          27.495619,
          29.438366,
          29.381859,
          25.985159,
          24.08358,
          28.180386,
          30.45468,
          27.924671,
          -20.46031,
          -11.662053,
          -15.754487,
          -21.680658,
          -11.104947,
          -12.420535,
          -1.4879222,
          -35.57966,
          7.614781,
          -32.839077,
          -1.9218518,
          -5.54599,
          -8.593269,
          -28.022913,
          -5.5553885,
          6.497964,
          -8.111468,
          -7.411388,
          -12.457749,
          -19.038916,
          -7.600965,
          -2.093217,
          -9.803142,
          -6.4587984,
          0.5212206,
          -1.2889676,
          -2.1716268,
          -13.242512,
          -4.8043747,
          -0.18732965,
          -6.008945,
          -4.722231,
          16.786404,
          18.903763,
          21.23452,
          20.23183,
          15.054231,
          11.9694195,
          18.149645,
          5.65888,
          16.03614,
          19.311655,
          20.112242,
          17.053354,
          21.407757,
          10.945851,
          9.880739,
          9.729608,
          2.0830076,
          11.446778,
          -34.300346,
          -45.237106,
          -39.837574,
          -46.63966,
          -41.230396,
          -47.60405,
          -43.871655,
          -32.88872,
          -49.21187,
          -42.551796,
          14.609338,
          14.67807,
          14.3555565,
          13.796539,
          13.032,
          12.904728,
          13.500148,
          14.682339,
          13.388446,
          15.478495,
          14.348369,
          13.827875,
          13.126232,
          13.997927,
          15.618197,
          -35.350872,
          -36.79073,
          -35.872044,
          -46.49834,
          11.064522,
          10.180736,
          10.485851,
          15.436443,
          11.826397,
          13.878128,
          13.4461975,
          14.843358,
          12.435776,
          11.377436,
          11.002413,
          16.474743,
          -27.671192,
          -16.349451,
          -28.568975,
          0.18133321,
          0.55953866,
          19.53579,
          -44.60995,
          16.776684,
          -43.10613,
          -24.425352,
          18.035961,
          -44.49307,
          -22.986923,
          18.258589,
          18.258589,
          -43.10613,
          17.248247,
          -24.425352,
          -22.986923,
          19.282864,
          16.776684,
          -44.49307,
          -44.60995,
          22.405365,
          20.41067,
          36.029255,
          18.277607,
          19.676994,
          18.72266,
          21.389406,
          27.532827,
          26.505646,
          16.967686,
          28.429749,
          16.712572,
          -41.13331,
          -47.6741,
          -46.264935,
          -44.058422,
          -42.551796,
          -34.026257,
          -42.38734,
          -45.082516,
          -43.75435,
          23.954756,
          34.128918,
          29.388351,
          35.37946,
          32.36893,
          31.048044,
          17.434465,
          35.996662,
          30.175522,
          33.068047,
          35.996662,
          31.048044,
          23.954756,
          32.36893,
          35.37946,
          18.29712,
          33.915062,
          35.996662,
          23.954756,
          17.944881,
          31.048044,
          32.36893,
          34.38648,
          30.363148,
          13.21207,
          23.591105,
          14.796194,
          16.364365,
          12.761983,
          4.951299,
          4.4642863,
          -13.621395,
          4.004369,
          5.6928225,
          6.140955,
          3.1430058,
          -5.7317705,
          -2.6642647,
          -3.1556606,
          -4.3876567,
          -3.2595475,
          18.47904,
          -6.2482367,
          3.869905,
          -3.7973416,
          -4.99486,
          -5.607555,
          -4.9806576,
          -4.0049095,
          -4.5439305,
          17.785593,
          -2.9042788,
          -4.1823215,
          -17.329075,
          -22.998692,
          -34.530556,
          -24.228016,
          -16.445335,
          -35.74239,
          -1.1521264,
          -37.08277
         ],
         "y": [
          35.268448,
          30.090523,
          24.442392,
          27.783533,
          26.182892,
          28.589449,
          -2.8258157,
          32.931416,
          32.129585,
          11.253208,
          28.24386,
          28.747837,
          35.122032,
          30.01928,
          24.442392,
          28.816044,
          26.483427,
          30.156256,
          -2.8258157,
          32.931416,
          32.129585,
          10.840809,
          27.336111,
          28.747837,
          34.231285,
          30.73492,
          24.404022,
          29.281973,
          26.011787,
          28.589449,
          -2.8258157,
          32.931416,
          32.129585,
          11.791446,
          28.24386,
          30.316704,
          -12.067086,
          -0.6120796,
          -2.8844244,
          -1.4576937,
          -1.9126834,
          16.566315,
          14.496713,
          15.904618,
          19.293072,
          17.483671,
          16.421543,
          15.058798,
          19.546558,
          16.725008,
          14.159135,
          -11.017728,
          -15.3239765,
          -12.85522,
          -12.62247,
          -4.1430426,
          -11.909207,
          -10.8105545,
          -7.404953,
          -11.536194,
          -14.559949,
          -7.9897795,
          -9.28661,
          -6.203583,
          -6.9521284,
          4.491567,
          -4.8309526,
          -8.85659,
          -7.8354836,
          -19.059679,
          -8.531949,
          -7.1181417,
          5.942877,
          4.784321,
          7.937386,
          6.34652,
          5.7637925,
          -7.491124,
          -5.3861065,
          9.320085,
          30.013594,
          -20.455687,
          -19.897635,
          -19.550182,
          8.640692,
          -19.756775,
          5.4015856,
          7.883299,
          -20.470804,
          -5.61449,
          2.915071,
          1.4338684,
          2.4393494,
          -1.4812362,
          3.7332945,
          1.0576619,
          2.9767146,
          2.3528178,
          -14.460034,
          -11.564366,
          -12.489224,
          6.8277874,
          -8.15383,
          -14.380266,
          -12.677963,
          -12.669533,
          -12.489224,
          -11.670743,
          -11.632418,
          -14.380266,
          -12.629421,
          -8.15383,
          -14.460034,
          -1.1466994,
          -2.2014544,
          -0.35208797,
          -3.0696828,
          -0.38583744,
          -3.0736284,
          -3.9390056,
          -4.523078,
          -0.8303569,
          -1.1563076,
          -4.281592,
          -3.5054543,
          -1.8067663,
          -5.376481,
          -10.200546,
          -9.281522,
          -9.048236,
          -9.573857,
          -9.739623,
          -13.865942,
          -13.630127,
          -12.888724,
          -12.890275,
          -11.651072,
          -12.6617985,
          -12.35937,
          -8.2894945,
          0.797357,
          -8.250141,
          0.92815775,
          -0.041553397,
          2.7919447,
          2.5638328,
          0.9252625,
          2.76686,
          -6.237843,
          -6.7156615,
          -3.0550687,
          -5.8079658,
          11.571957,
          12.926839,
          16.570456,
          -5.918775,
          11.309668,
          18.91018,
          18.831125,
          -5.1785464,
          -4.56654,
          18.302418,
          -5.402019,
          -17.260775,
          -19.73031,
          -15.052867,
          -16.741314,
          -16.513664,
          -17.260775,
          -20.805485,
          -14.896966,
          -15.428324,
          -17.402706,
          -17.260775,
          -20.806417,
          -14.222778,
          -16.741314,
          -17.787493,
          -16.741314,
          -16.513664,
          -17.260775,
          -19.713732,
          -15.861529,
          -20.982708,
          -17.840052,
          -23.057795,
          -23.693933,
          -19.225483,
          -22.929344,
          -20.555346,
          -15.016389,
          -18.461208,
          -22.354965,
          -19.110683,
          16.324383,
          13.127278,
          15.967767,
          9.358895,
          12.076598,
          12.74575,
          14.261055,
          15.435566,
          12.076598,
          10.506905,
          14.672568,
          13.643318,
          8.404459,
          12.995778,
          14.261055,
          12.076598,
          14.714647,
          14.900667,
          14.261055,
          12.076598,
          12.027127,
          13.6585655,
          15.435566,
          8.427352,
          9.688167,
          13.793253,
          17.043905,
          14.261055,
          14.28948,
          10.578439,
          15.967767,
          16.298302,
          14.28948,
          12.076598,
          9.664016,
          12.597361,
          18.535378,
          18.009758,
          16.853273,
          15.340763,
          15.058798,
          17.887651,
          13.504403,
          14.707689,
          19.293072,
          16.725008,
          17.483671,
          -7.40921,
          1.0628192,
          -1.6263005,
          -7.9183807,
          1.6510873,
          2.2651207,
          9.059513,
          -10.542586,
          11.396109,
          -11.192913,
          3.2526693,
          6.00002,
          6.2702184,
          -6.660974,
          5.175068,
          9.513851,
          6.7645364,
          -2.8289857,
          -2.8040924,
          -4.0463395,
          -5.233828,
          -2.2929747,
          -3.432074,
          -4.206303,
          -1.8980765,
          -1.1856652,
          -3.6601572,
          -2.7662892,
          -1.4698561,
          -0.88429976,
          -2.361357,
          -2.5092034,
          -17.74575,
          -18.304836,
          -14.082974,
          -17.519573,
          -17.43455,
          -20.734488,
          -16.88001,
          -12.632881,
          -18.763586,
          -15.158595,
          -18.924006,
          -18.84413,
          -15.377864,
          19.886097,
          20.3953,
          19.317324,
          17.622002,
          21.717886,
          -14.049849,
          -10.844937,
          -12.596976,
          -9.894239,
          -11.868387,
          -12.362468,
          -13.413577,
          -14.30465,
          -10.015782,
          -12.636774,
          26.189085,
          32.57592,
          28.62323,
          22.7194,
          26.086336,
          28.24409,
          23.931124,
          29.687017,
          29.945692,
          28.124691,
          31.124151,
          27.419611,
          8.8624325,
          25.292608,
          31.82133,
          1.2015538,
          -1.6563857,
          -0.0013290305,
          -7.5626497,
          -15.691328,
          -10.272987,
          -13.158114,
          -13.410338,
          -9.827865,
          -13.908207,
          -12.753131,
          -12.217202,
          -13.663961,
          -11.697263,
          -14.276205,
          -14.873195,
          -9.117537,
          -11.534261,
          -10.422037,
          -7.9199266,
          -8.728973,
          -9.063123,
          -5.4548798,
          -5.6599836,
          -4.6258326,
          -16.690165,
          -6.975664,
          -7.446231,
          -16.968555,
          -9.133066,
          -9.133066,
          -4.6258326,
          -7.4941335,
          -16.690165,
          -16.968555,
          -8.15178,
          -5.6599836,
          -7.446231,
          -5.4548798,
          11.179042,
          9.51061,
          -11.416896,
          5.340091,
          7.3189116,
          9.247794,
          10.528188,
          -13.025511,
          -13.056745,
          5.708609,
          -14.187555,
          4.176776,
          -13.504667,
          -10.918911,
          -11.716888,
          -10.326725,
          -12.636774,
          -12.857901,
          -11.042561,
          -12.541836,
          -11.71229,
          -7.468709,
          -13.787856,
          -11.729917,
          -15.375054,
          -12.09801,
          -10.15742,
          -23.975748,
          -13.534093,
          -13.046124,
          -14.33724,
          -13.534093,
          -10.15742,
          -7.468709,
          -12.09801,
          -15.375054,
          -23.882536,
          -15.670947,
          -13.534093,
          -7.468709,
          -24.656996,
          -10.15742,
          -12.09801,
          -12.495046,
          -12.030097,
          3.7869534,
          -9.814422,
          4.084889,
          1.7451631,
          20.41779,
          -25.287819,
          -23.622646,
          -14.060948,
          -21.184237,
          -23.915611,
          -22.212946,
          16.301874,
          10.551053,
          11.110394,
          9.897042,
          9.539499,
          15.921253,
          10.77177,
          11.819089,
          15.557295,
          11.7337475,
          15.54059,
          13.081367,
          12.023439,
          14.946162,
          10.904107,
          10.175549,
          12.648332,
          13.025005,
          -3.4415498,
          -7.0619674,
          -5.8421607,
          -7.543775,
          -3.0799685,
          -6.358464,
          1.3267376,
          -6.0271983
         ]
        }
       ],
       "layout": {
        "autosize": true,
        "height": 2000,
        "showlegend": false,
        "template": {
         "data": {
          "bar": [
           {
            "error_x": {
             "color": "#2a3f5f"
            },
            "error_y": {
             "color": "#2a3f5f"
            },
            "marker": {
             "line": {
              "color": "#E5ECF6",
              "width": 0.5
             },
             "pattern": {
              "fillmode": "overlay",
              "size": 10,
              "solidity": 0.2
             }
            },
            "type": "bar"
           }
          ],
          "barpolar": [
           {
            "marker": {
             "line": {
              "color": "#E5ECF6",
              "width": 0.5
             },
             "pattern": {
              "fillmode": "overlay",
              "size": 10,
              "solidity": 0.2
             }
            },
            "type": "barpolar"
           }
          ],
          "carpet": [
           {
            "aaxis": {
             "endlinecolor": "#2a3f5f",
             "gridcolor": "white",
             "linecolor": "white",
             "minorgridcolor": "white",
             "startlinecolor": "#2a3f5f"
            },
            "baxis": {
             "endlinecolor": "#2a3f5f",
             "gridcolor": "white",
             "linecolor": "white",
             "minorgridcolor": "white",
             "startlinecolor": "#2a3f5f"
            },
            "type": "carpet"
           }
          ],
          "choropleth": [
           {
            "colorbar": {
             "outlinewidth": 0,
             "ticks": ""
            },
            "type": "choropleth"
           }
          ],
          "contour": [
           {
            "colorbar": {
             "outlinewidth": 0,
             "ticks": ""
            },
            "colorscale": [
             [
              0,
              "#0d0887"
             ],
             [
              0.1111111111111111,
              "#46039f"
             ],
             [
              0.2222222222222222,
              "#7201a8"
             ],
             [
              0.3333333333333333,
              "#9c179e"
             ],
             [
              0.4444444444444444,
              "#bd3786"
             ],
             [
              0.5555555555555556,
              "#d8576b"
             ],
             [
              0.6666666666666666,
              "#ed7953"
             ],
             [
              0.7777777777777778,
              "#fb9f3a"
             ],
             [
              0.8888888888888888,
              "#fdca26"
             ],
             [
              1,
              "#f0f921"
             ]
            ],
            "type": "contour"
           }
          ],
          "contourcarpet": [
           {
            "colorbar": {
             "outlinewidth": 0,
             "ticks": ""
            },
            "type": "contourcarpet"
           }
          ],
          "heatmap": [
           {
            "colorbar": {
             "outlinewidth": 0,
             "ticks": ""
            },
            "colorscale": [
             [
              0,
              "#0d0887"
             ],
             [
              0.1111111111111111,
              "#46039f"
             ],
             [
              0.2222222222222222,
              "#7201a8"
             ],
             [
              0.3333333333333333,
              "#9c179e"
             ],
             [
              0.4444444444444444,
              "#bd3786"
             ],
             [
              0.5555555555555556,
              "#d8576b"
             ],
             [
              0.6666666666666666,
              "#ed7953"
             ],
             [
              0.7777777777777778,
              "#fb9f3a"
             ],
             [
              0.8888888888888888,
              "#fdca26"
             ],
             [
              1,
              "#f0f921"
             ]
            ],
            "type": "heatmap"
           }
          ],
          "heatmapgl": [
           {
            "colorbar": {
             "outlinewidth": 0,
             "ticks": ""
            },
            "colorscale": [
             [
              0,
              "#0d0887"
             ],
             [
              0.1111111111111111,
              "#46039f"
             ],
             [
              0.2222222222222222,
              "#7201a8"
             ],
             [
              0.3333333333333333,
              "#9c179e"
             ],
             [
              0.4444444444444444,
              "#bd3786"
             ],
             [
              0.5555555555555556,
              "#d8576b"
             ],
             [
              0.6666666666666666,
              "#ed7953"
             ],
             [
              0.7777777777777778,
              "#fb9f3a"
             ],
             [
              0.8888888888888888,
              "#fdca26"
             ],
             [
              1,
              "#f0f921"
             ]
            ],
            "type": "heatmapgl"
           }
          ],
          "histogram": [
           {
            "marker": {
             "pattern": {
              "fillmode": "overlay",
              "size": 10,
              "solidity": 0.2
             }
            },
            "type": "histogram"
           }
          ],
          "histogram2d": [
           {
            "colorbar": {
             "outlinewidth": 0,
             "ticks": ""
            },
            "colorscale": [
             [
              0,
              "#0d0887"
             ],
             [
              0.1111111111111111,
              "#46039f"
             ],
             [
              0.2222222222222222,
              "#7201a8"
             ],
             [
              0.3333333333333333,
              "#9c179e"
             ],
             [
              0.4444444444444444,
              "#bd3786"
             ],
             [
              0.5555555555555556,
              "#d8576b"
             ],
             [
              0.6666666666666666,
              "#ed7953"
             ],
             [
              0.7777777777777778,
              "#fb9f3a"
             ],
             [
              0.8888888888888888,
              "#fdca26"
             ],
             [
              1,
              "#f0f921"
             ]
            ],
            "type": "histogram2d"
           }
          ],
          "histogram2dcontour": [
           {
            "colorbar": {
             "outlinewidth": 0,
             "ticks": ""
            },
            "colorscale": [
             [
              0,
              "#0d0887"
             ],
             [
              0.1111111111111111,
              "#46039f"
             ],
             [
              0.2222222222222222,
              "#7201a8"
             ],
             [
              0.3333333333333333,
              "#9c179e"
             ],
             [
              0.4444444444444444,
              "#bd3786"
             ],
             [
              0.5555555555555556,
              "#d8576b"
             ],
             [
              0.6666666666666666,
              "#ed7953"
             ],
             [
              0.7777777777777778,
              "#fb9f3a"
             ],
             [
              0.8888888888888888,
              "#fdca26"
             ],
             [
              1,
              "#f0f921"
             ]
            ],
            "type": "histogram2dcontour"
           }
          ],
          "mesh3d": [
           {
            "colorbar": {
             "outlinewidth": 0,
             "ticks": ""
            },
            "type": "mesh3d"
           }
          ],
          "parcoords": [
           {
            "line": {
             "colorbar": {
              "outlinewidth": 0,
              "ticks": ""
             }
            },
            "type": "parcoords"
           }
          ],
          "pie": [
           {
            "automargin": true,
            "type": "pie"
           }
          ],
          "scatter": [
           {
            "fillpattern": {
             "fillmode": "overlay",
             "size": 10,
             "solidity": 0.2
            },
            "type": "scatter"
           }
          ],
          "scatter3d": [
           {
            "line": {
             "colorbar": {
              "outlinewidth": 0,
              "ticks": ""
             }
            },
            "marker": {
             "colorbar": {
              "outlinewidth": 0,
              "ticks": ""
             }
            },
            "type": "scatter3d"
           }
          ],
          "scattercarpet": [
           {
            "marker": {
             "colorbar": {
              "outlinewidth": 0,
              "ticks": ""
             }
            },
            "type": "scattercarpet"
           }
          ],
          "scattergeo": [
           {
            "marker": {
             "colorbar": {
              "outlinewidth": 0,
              "ticks": ""
             }
            },
            "type": "scattergeo"
           }
          ],
          "scattergl": [
           {
            "marker": {
             "colorbar": {
              "outlinewidth": 0,
              "ticks": ""
             }
            },
            "type": "scattergl"
           }
          ],
          "scattermapbox": [
           {
            "marker": {
             "colorbar": {
              "outlinewidth": 0,
              "ticks": ""
             }
            },
            "type": "scattermapbox"
           }
          ],
          "scatterpolar": [
           {
            "marker": {
             "colorbar": {
              "outlinewidth": 0,
              "ticks": ""
             }
            },
            "type": "scatterpolar"
           }
          ],
          "scatterpolargl": [
           {
            "marker": {
             "colorbar": {
              "outlinewidth": 0,
              "ticks": ""
             }
            },
            "type": "scatterpolargl"
           }
          ],
          "scatterternary": [
           {
            "marker": {
             "colorbar": {
              "outlinewidth": 0,
              "ticks": ""
             }
            },
            "type": "scatterternary"
           }
          ],
          "surface": [
           {
            "colorbar": {
             "outlinewidth": 0,
             "ticks": ""
            },
            "colorscale": [
             [
              0,
              "#0d0887"
             ],
             [
              0.1111111111111111,
              "#46039f"
             ],
             [
              0.2222222222222222,
              "#7201a8"
             ],
             [
              0.3333333333333333,
              "#9c179e"
             ],
             [
              0.4444444444444444,
              "#bd3786"
             ],
             [
              0.5555555555555556,
              "#d8576b"
             ],
             [
              0.6666666666666666,
              "#ed7953"
             ],
             [
              0.7777777777777778,
              "#fb9f3a"
             ],
             [
              0.8888888888888888,
              "#fdca26"
             ],
             [
              1,
              "#f0f921"
             ]
            ],
            "type": "surface"
           }
          ],
          "table": [
           {
            "cells": {
             "fill": {
              "color": "#EBF0F8"
             },
             "line": {
              "color": "white"
             }
            },
            "header": {
             "fill": {
              "color": "#C8D4E3"
             },
             "line": {
              "color": "white"
             }
            },
            "type": "table"
           }
          ]
         },
         "layout": {
          "annotationdefaults": {
           "arrowcolor": "#2a3f5f",
           "arrowhead": 0,
           "arrowwidth": 1
          },
          "autotypenumbers": "strict",
          "coloraxis": {
           "colorbar": {
            "outlinewidth": 0,
            "ticks": ""
           }
          },
          "colorscale": {
           "diverging": [
            [
             0,
             "#8e0152"
            ],
            [
             0.1,
             "#c51b7d"
            ],
            [
             0.2,
             "#de77ae"
            ],
            [
             0.3,
             "#f1b6da"
            ],
            [
             0.4,
             "#fde0ef"
            ],
            [
             0.5,
             "#f7f7f7"
            ],
            [
             0.6,
             "#e6f5d0"
            ],
            [
             0.7,
             "#b8e186"
            ],
            [
             0.8,
             "#7fbc41"
            ],
            [
             0.9,
             "#4d9221"
            ],
            [
             1,
             "#276419"
            ]
           ],
           "sequential": [
            [
             0,
             "#0d0887"
            ],
            [
             0.1111111111111111,
             "#46039f"
            ],
            [
             0.2222222222222222,
             "#7201a8"
            ],
            [
             0.3333333333333333,
             "#9c179e"
            ],
            [
             0.4444444444444444,
             "#bd3786"
            ],
            [
             0.5555555555555556,
             "#d8576b"
            ],
            [
             0.6666666666666666,
             "#ed7953"
            ],
            [
             0.7777777777777778,
             "#fb9f3a"
            ],
            [
             0.8888888888888888,
             "#fdca26"
            ],
            [
             1,
             "#f0f921"
            ]
           ],
           "sequentialminus": [
            [
             0,
             "#0d0887"
            ],
            [
             0.1111111111111111,
             "#46039f"
            ],
            [
             0.2222222222222222,
             "#7201a8"
            ],
            [
             0.3333333333333333,
             "#9c179e"
            ],
            [
             0.4444444444444444,
             "#bd3786"
            ],
            [
             0.5555555555555556,
             "#d8576b"
            ],
            [
             0.6666666666666666,
             "#ed7953"
            ],
            [
             0.7777777777777778,
             "#fb9f3a"
            ],
            [
             0.8888888888888888,
             "#fdca26"
            ],
            [
             1,
             "#f0f921"
            ]
           ]
          },
          "colorway": [
           "#636efa",
           "#EF553B",
           "#00cc96",
           "#ab63fa",
           "#FFA15A",
           "#19d3f3",
           "#FF6692",
           "#B6E880",
           "#FF97FF",
           "#FECB52"
          ],
          "font": {
           "color": "#2a3f5f"
          },
          "geo": {
           "bgcolor": "white",
           "lakecolor": "white",
           "landcolor": "#E5ECF6",
           "showlakes": true,
           "showland": true,
           "subunitcolor": "white"
          },
          "hoverlabel": {
           "align": "left"
          },
          "hovermode": "closest",
          "mapbox": {
           "style": "light"
          },
          "paper_bgcolor": "white",
          "plot_bgcolor": "#E5ECF6",
          "polar": {
           "angularaxis": {
            "gridcolor": "white",
            "linecolor": "white",
            "ticks": ""
           },
           "bgcolor": "#E5ECF6",
           "radialaxis": {
            "gridcolor": "white",
            "linecolor": "white",
            "ticks": ""
           }
          },
          "scene": {
           "xaxis": {
            "backgroundcolor": "#E5ECF6",
            "gridcolor": "white",
            "gridwidth": 2,
            "linecolor": "white",
            "showbackground": true,
            "ticks": "",
            "zerolinecolor": "white"
           },
           "yaxis": {
            "backgroundcolor": "#E5ECF6",
            "gridcolor": "white",
            "gridwidth": 2,
            "linecolor": "white",
            "showbackground": true,
            "ticks": "",
            "zerolinecolor": "white"
           },
           "zaxis": {
            "backgroundcolor": "#E5ECF6",
            "gridcolor": "white",
            "gridwidth": 2,
            "linecolor": "white",
            "showbackground": true,
            "ticks": "",
            "zerolinecolor": "white"
           }
          },
          "shapedefaults": {
           "line": {
            "color": "#2a3f5f"
           }
          },
          "ternary": {
           "aaxis": {
            "gridcolor": "white",
            "linecolor": "white",
            "ticks": ""
           },
           "baxis": {
            "gridcolor": "white",
            "linecolor": "white",
            "ticks": ""
           },
           "bgcolor": "#E5ECF6",
           "caxis": {
            "gridcolor": "white",
            "linecolor": "white",
            "ticks": ""
           }
          },
          "title": {
           "x": 0.05
          },
          "xaxis": {
           "automargin": true,
           "gridcolor": "white",
           "linecolor": "white",
           "ticks": "",
           "title": {
            "standoff": 15
           },
           "zerolinecolor": "white",
           "zerolinewidth": 2
          },
          "yaxis": {
           "automargin": true,
           "gridcolor": "white",
           "linecolor": "white",
           "ticks": "",
           "title": {
            "standoff": 15
           },
           "zerolinecolor": "white",
           "zerolinewidth": 2
          }
         }
        },
        "title": {
         "text": "t-SNE Visualization of Embeddings"
        },
        "width": 2000,
        "xaxis": {
         "title": {
          "text": "Dimension 1"
         }
        },
        "yaxis": {
         "title": {
          "text": "Dimension 2"
         }
        }
       }
      },
      "text/html": [
       "<div>                            <div id=\"99c5c052-4954-406d-83e4-6c38cef41303\" class=\"plotly-graph-div\" style=\"height:2000px; width:2000px;\"></div>            <script type=\"text/javascript\">                require([\"plotly\"], function(Plotly) {                    window.PLOTLYENV=window.PLOTLYENV || {};                                    if (document.getElementById(\"99c5c052-4954-406d-83e4-6c38cef41303\")) {                    Plotly.newPlot(                        \"99c5c052-4954-406d-83e4-6c38cef41303\",                        [{\"mode\":\"markers+text\",\"text\":[\"paws_labeled_final_task_description_no_label\",\"paws_labeled_final_Meaning\",\"paws_labeled_final_context_question_no_label\",\"paws_labeled_final_Rewrite_no_label\",\"paws_labeled_final_context_question\",\"paws_labeled_final_Concatenation\",\"paws_labeled_final_paraphrase_task\",\"paws_labeled_final_Concatenation_no_label\",\"paws_labeled_final_Meaning_no_label\",\"paws_labeled_final_PAWS_ANLI_GPT3\",\"paws_labeled_final_Rewrite\",\"paws_labeled_final_PAWS_ANLI_GPT3_no_label\",\"paws_labeled_swap_task_description_no_label\",\"paws_labeled_swap_Meaning\",\"paws_labeled_swap_context_question_no_label\",\"paws_labeled_swap_Rewrite_no_label\",\"paws_labeled_swap_context_question\",\"paws_labeled_swap_Concatenation\",\"paws_labeled_swap_paraphrase_task\",\"paws_labeled_swap_Concatenation_no_label\",\"paws_labeled_swap_Meaning_no_label\",\"paws_labeled_swap_PAWS_ANLI_GPT3\",\"paws_labeled_swap_Rewrite\",\"paws_labeled_swap_PAWS_ANLI_GPT3_no_label\",\"paws_unlabeled_final_task_description_no_label\",\"paws_unlabeled_final_Meaning\",\"paws_unlabeled_final_context_question_no_label\",\"paws_unlabeled_final_Rewrite_no_label\",\"paws_unlabeled_final_context_question\",\"paws_unlabeled_final_Concatenation\",\"paws_unlabeled_final_paraphrase_task\",\"paws_unlabeled_final_Concatenation_no_label\",\"paws_unlabeled_final_Meaning_no_label\",\"paws_unlabeled_final_PAWS_ANLI_GPT3\",\"paws_unlabeled_final_Rewrite\",\"paws_unlabeled_final_PAWS_ANLI_GPT3_no_label\",\"trivia_qa_unfiltered_guess_question\",\"trivia_qa_unfiltered_formal_description\",\"trivia_qa_unfiltered_question_with_instruction\",\"trivia_qa_unfiltered_first_person_context\",\"trivia_qa_unfiltered_question_answer\",\"rotten_tomatoes_Reviewer_Opinion_bad_good_choices\",\"rotten_tomatoes_Text_Expressed_Sentiment\",\"rotten_tomatoes_Sentiment_with_choices\",\"rotten_tomatoes_Reviewer_Enjoyment_Yes_No\",\"rotten_tomatoes_Reviewer_Enjoyment\",\"rotten_tomatoes_Movie_Expressed_Sentiment\",\"rotten_tomatoes_Writer_Expressed_Sentiment\",\"rotten_tomatoes_Movie_Expressed_Sentiment_2\",\"rotten_tomatoes_Reviewer_Expressed_Sentiment\",\"rotten_tomatoes_Reviewer_Sentiment_Feeling\",\"squad_v2_Questions_with_Context\",\"squad_v2_Jeopardy_with_Context\",\"squad_v2_Topic_Prediction_Context_with_randomized_prompt_options\",\"squad_v2_Topic_Prediction_Context_with_randomized_prompt_options_placed_in_the_end\",\"squad_v2_Jeopardy_without_Context\",\"squad_v2_Questions_with_Context_Without_Prompt_Keywords\",\"squad_v2_Questions_with_Context_unanswerable\",\"squad_v2_Trivia\",\"squad_v2_Questions_with_Context_Without_Prompt_Keywords_unanswerable\",\"squad_v2_Unanwerable_question\",\"squad_v2_Topic_Prediction_Question_and_Answer_Pair\",\"squad_v2_Topic_Prediction_Context\",\"common_gen_Given_concepts_type_2\",\"common_gen_Put_together\",\"common_gen_choice_in_concept_centric_sentence_generation\",\"common_gen_random_task_template_prompt\",\"common_gen_topics_from_the_sentence\",\"common_gen_sentence_to_concepts\",\"common_gen_topic_to_sentence\",\"common_gen_Example_prompt\",\"common_gen_Given_concepts_type_1\",\"swag_regular_reversed_appropriate_continuation\",\"swag_regular_appropriate_continuation\",\"swag_regular_how_ends\",\"swag_regular_first_then\",\"swag_regular_first_then_key\",\"swag_regular_generate_start\",\"swag_regular_open_completion\",\"wiki_qa_Is_This_True\",\"wiki_qa_automatic_system\",\"wiki_qa_Jeopardy_style\",\"wiki_qa_Topic_Prediction_Question_and_Answer_Pair\",\"wiki_qa_Generate_Question_from_Topic\",\"wiki_qa_found_on_google\",\"wiki_qa_Topic_Prediction_Question_Only\",\"wiki_qa_exercise\",\"wiki_qa_Decide_good_answer\",\"wiki_qa_Topic_Prediction_Answer_Only\",\"wiki_qa_Direct_Answer_to_Question\",\"qasc_is_correct_1\",\"qasc_qa_with_separated_facts_1\",\"qasc_qa_with_separated_facts_3\",\"qasc_qa_with_separated_facts_4\",\"qasc_qa_with_separated_facts_5\",\"qasc_qa_with_combined_facts_1\",\"qasc_is_correct_2\",\"qasc_qa_with_separated_facts_2\",\"hotpot_qa_fullwiki_generate_answer_affirmative\",\"hotpot_qa_fullwiki_generate_answer_and_explanations\",\"hotpot_qa_fullwiki_generate_explanations_interrogative\",\"hotpot_qa_fullwiki_classify_question_type\",\"hotpot_qa_fullwiki_generate_title_affirmative\",\"hotpot_qa_fullwiki_generate_question\",\"hotpot_qa_fullwiki_generate_explanations_affirmative\",\"hotpot_qa_fullwiki_generate_answer_interrogative\",\"hotpot_qa_distractor_generate_explanations_interrogative\",\"hotpot_qa_distractor_generate_explanations_affirmative\",\"hotpot_qa_distractor_generate_answer_interrogative\",\"hotpot_qa_distractor_generate_question\",\"hotpot_qa_distractor_generate_answer_and_explanations\",\"hotpot_qa_distractor_generate_title_affirmative\",\"hotpot_qa_distractor_generate_answer_affirmative\",\"openbookqa_additional_which_correct_inverse\",\"openbookqa_additional_choices\",\"openbookqa_additional_pick_using_id\",\"openbookqa_additional_choose_an_answer_with_options\",\"openbookqa_additional_which_correct\",\"openbookqa_additional_only_options\",\"openbookqa_additional_pick_answer_with_options\",\"openbookqa_main_choose_an_answer_with_options\",\"openbookqa_main_which_correct\",\"openbookqa_main_pick_using_id\",\"openbookqa_main_choices\",\"openbookqa_main_only_options\",\"openbookqa_main_which_correct_inverse\",\"openbookqa_main_pick_answer_with_options\",\"wiki_bio_who\",\"wiki_bio_comprehension\",\"wiki_bio_what_content\",\"wiki_bio_guess_person\",\"wiki_bio_key_content\",\"samsum_Summarize_this_dialogue\",\"samsum_Given_the_above_dialogue_write_a_summary\",\"samsum_Summarize\",\"samsum_To_sum_up_this_dialog\",\"samsum_Generate_a_summary_for_this_dialogue\",\"samsum_Write_a_dialogue_that_match_this_summary\",\"samsum_Sum_up_the_following_dialogue\",\"quartz_use_info_from_question_paragraph\",\"quartz_paragraph_question_plain_concat\",\"quartz_use_info_from_paragraph_question\",\"quartz_answer_question_based_on\",\"quartz_answer_question_below\",\"quartz_read_passage_below_choose\",\"quartz_having_read_above_passage\",\"quartz_given_the_fact_answer_the_q\",\"sciq_Direct_Question_Closed_Book\",\"sciq_Multiple_Choice_Closed_Book\",\"sciq_Multiple_Choice_Question_First\",\"sciq_Multiple_Choice\",\"sciq_Direct_Question\",\"piqa_what_is_the_correct_ending\",\"piqa_pick_correct_choice_with_choice_given_before_goal\",\"piqa_pick_correct_choice_index\",\"piqa_Correct_the_solution\",\"piqa_finish_sentence_with_correct_choice\",\"piqa_Does_this_solution_make_sense_sol2\",\"piqa_choose_the_most_appropriate_solution\",\"piqa_Correct_the_solution_if_false_from_sol_2\",\"piqa_no_prompt_needed\",\"piqa_Does_this_solution_make_sense_sol1\",\"piqa_Correct_the_solution_if_false_from_sol_1\",\"adversarial_qa_droberta_generate_question\",\"adversarial_qa_droberta_tell_what_it_is\",\"adversarial_qa_droberta_question_context_answer\",\"adversarial_qa_droberta_based_on\",\"adversarial_qa_droberta_answer_the_following_q\",\"adversarial_qa_adversarialQA_generate_question\",\"adversarial_qa_adversarialQA_tell_what_it_is\",\"adversarial_qa_adversarialQA_question_context_answer\",\"adversarial_qa_adversarialQA_based_on\",\"adversarial_qa_adversarialQA_answer_the_following_q\",\"adversarial_qa_dbert_generate_question\",\"adversarial_qa_dbert_tell_what_it_is\",\"adversarial_qa_dbert_question_context_answer\",\"adversarial_qa_dbert_based_on\",\"adversarial_qa_dbert_answer_the_following_q\",\"adversarial_qa_dbidaf_based_on\",\"adversarial_qa_dbidaf_answer_the_following_q\",\"adversarial_qa_dbidaf_generate_question\",\"adversarial_qa_dbidaf_tell_what_it_is\",\"adversarial_qa_dbidaf_question_context_answer\",\"quoref_Guess_Answer\",\"quoref_Answer_Question_Given_Context\",\"quoref_Find_Answer\",\"quoref_Context_Contains_Answer\",\"quoref_Given_Context_Answer_Question\",\"quoref_What_Is_The_Answer\",\"quoref_Answer_Test\",\"quoref_Guess_Title_For_Context\",\"quoref_Found_Context_Online\",\"quoref_Answer_Friend_Question\",\"quoref_Read_And_Extract\",\"winogrande_winogrande_l_True_or_False\",\"winogrande_winogrande_l_fill_in_the_blank\",\"winogrande_winogrande_l_does_underscore_refer_to\",\"winogrande_winogrande_l_Replace\",\"winogrande_winogrande_l_stand_for\",\"winogrande_winogrande_l_underscore_refer_to\",\"winogrande_winogrande_s_does_underscore_refer_to\",\"winogrande_winogrande_s_True_or_False\",\"winogrande_winogrande_s_stand_for\",\"winogrande_winogrande_s_Replace\",\"winogrande_winogrande_s_fill_in_the_blank\",\"winogrande_winogrande_s_underscore_refer_to\",\"winogrande_winogrande_debiased_Replace\",\"winogrande_winogrande_debiased_underscore_refer_to\",\"winogrande_winogrande_debiased_does_underscore_refer_to\",\"winogrande_winogrande_debiased_stand_for\",\"winogrande_winogrande_debiased_True_or_False\",\"winogrande_winogrande_debiased_fill_in_the_blank\",\"winogrande_winogrande_xl_does_underscore_refer_to\",\"winogrande_winogrande_xl_stand_for\",\"winogrande_winogrande_xl_underscore_refer_to\",\"winogrande_winogrande_xl_fill_in_the_blank\",\"winogrande_winogrande_xl_True_or_False\",\"winogrande_winogrande_xl_Replace\",\"winogrande_winogrande_m_Replace\",\"winogrande_winogrande_m_fill_in_the_blank\",\"winogrande_winogrande_m_True_or_False\",\"winogrande_winogrande_m_does_underscore_refer_to\",\"winogrande_winogrande_m_underscore_refer_to\",\"winogrande_winogrande_m_stand_for\",\"winogrande_winogrande_xs_does_underscore_refer_to\",\"winogrande_winogrande_xs_True_or_False\",\"winogrande_winogrande_xs_underscore_refer_to\",\"winogrande_winogrande_xs_stand_for\",\"winogrande_winogrande_xs_Replace\",\"winogrande_winogrande_xs_fill_in_the_blank\",\"imdb_Movie_Expressed_Sentiment_2\",\"imdb_Reviewer_Opinion_bad_good_choices\",\"imdb_Sentiment_with_choices\",\"imdb_Reviewer_Sentiment_Feeling\",\"imdb_Writer_Expressed_Sentiment\",\"imdb_Movie_Expressed_Sentiment\",\"imdb_Text_Expressed_Sentiment\",\"imdb_Negation_template_for_positive_and_negative\",\"imdb_Reviewer_Enjoyment_Yes_No\",\"imdb_Reviewer_Expressed_Sentiment\",\"imdb_Reviewer_Enjoyment\",\"story_cloze_2016_Answer_Given_options\",\"story_cloze_2016_Choose_Story_Ending\",\"story_cloze_2016_Movie_What_Happens_Next\",\"story_cloze_2016_Story_Continuation_and_Options\",\"story_cloze_2016_Generate_Ending\",\"story_cloze_2016_Novel_Correct_Ending\",\"hellaswag_complete_first_then\",\"hellaswag_Topic_without_the_ending_answer\",\"hellaswag_Open_ended_completion\",\"hellaswag_Topic_of_the_context\",\"hellaswag_Randomized_prompts_template\",\"hellaswag_Appropriate_continuation_Yes_or_No\",\"hellaswag_Predict_ending_with_hint\",\"hellaswag_Open_ended_start\",\"hellaswag_Reversed_appropriate_continuation_Yes_or_No\",\"hellaswag_how_ends\",\"hellaswag_if_begins_how_continues\",\"wiki_hop_original_choose_best_object_interrogative_1\",\"wiki_hop_original_explain_relation\",\"wiki_hop_original_generate_object\",\"wiki_hop_original_generate_subject\",\"wiki_hop_original_choose_best_object_affirmative_1\",\"wiki_hop_original_choose_best_object_affirmative_3\",\"wiki_hop_original_generate_subject_and_object\",\"wiki_hop_original_choose_best_object_affirmative_2\",\"wiki_hop_original_choose_best_object_interrogative_2\",\"wiki_hop_masked_Indirect_Question_about_Birthplace_Citizenship_Place_of_Death\",\"wiki_hop_masked_Explain_Relation\",\"wiki_hop_masked_Generate_Object_Answer\",\"wiki_hop_masked_Choose_Best_Object_Candidate\",\"wiki_hop_masked_Generate_Fact_Triple\",\"wiki_hop_masked_Generate_Subject_Answer\",\"quail_context_question_answer_description_id\",\"quail_context_question_answer_description_text\",\"quail_description_context_question_answer_id\",\"quail_context_question_description_answer_text\",\"quail_context_question_description_text\",\"quail_context_description_question_text\",\"quail_context_question_description_answer_id\",\"quail_no_prompt_id\",\"quail_context_description_question_answer_id\",\"quail_description_context_question_text\",\"quail_no_prompt_text\",\"quail_context_description_question_answer_text\",\"quail_description_context_question_answer_text\",\"art_choose_hypothesis_options\",\"art_choose_hypothesis_believable\",\"art_choose_hypothesis\",\"art_choose_hypothesis_desc\",\"art_choose_hypothesis_likely\",\"xsum_DOC_write_summary_of_above\",\"xsum_article_DOC_summary\",\"xsum_DOC_how_would_you_rephrase_few_words\",\"xsum_college_roommate_asked_DOC_so_I_recap\",\"xsum_DOC_boils_down_to_simple_idea_that\",\"xsum_summarize_DOC\",\"xsum_summarize_this_DOC_summary\",\"xsum_DOC_given_above_write_one_sentence\",\"xsum_read_below_DOC_write_abstract\",\"xsum_DOC_tldr\",\"anli_MNLI_crowdsource\",\"anli_should_assume\",\"anli_does_it_follow_that\",\"anli_GPT_3_style\",\"anli_based_on_the_previous_passage\",\"anli_justified_in_saying\",\"anli_take_the_following_as_truth\",\"anli_must_be_true\",\"anli_can_we_infer\",\"anli_guaranteed_possible_impossible\",\"anli_always_sometimes_never\",\"anli_does_this_imply\",\"anli_consider_always_sometimes_never\",\"anli_claim_true_false_inconclusive\",\"anli_guaranteed_true\",\"app_reviews_categorize_rating_using_review\",\"app_reviews_generate_review\",\"app_reviews_convert_to_star_rating\",\"app_reviews_convert_to_rating\",\"ropes_prompt_beginning\",\"ropes_prompt_bottom_no_hint\",\"ropes_prompt_bottom_hint_beginning\",\"ropes_given_background_situation\",\"ropes_plain_no_background\",\"ropes_plain_bottom_hint\",\"ropes_plain_background_situation\",\"ropes_background_new_situation_answer\",\"ropes_background_situation_middle\",\"ropes_new_situation_background_answer\",\"ropes_prompt_mix\",\"ropes_read_background_situation\",\"dream_generate_last_utterance\",\"dream_answer_to_dialogue\",\"dream_generate_first_utterance\",\"dream_baseline\",\"dream_read_the_following_conversation_and_answer_the_question\",\"duorc_ParaphraseRC_build_story_around_qa\",\"duorc_ParaphraseRC_decide_worth_it\",\"duorc_ParaphraseRC_question_answering\",\"duorc_ParaphraseRC_movie_director\",\"duorc_ParaphraseRC_generate_question\",\"duorc_ParaphraseRC_extract_answer\",\"duorc_ParaphraseRC_title_generation\",\"duorc_ParaphraseRC_answer_question\",\"duorc_ParaphraseRC_generate_question_by_answer\",\"duorc_SelfRC_generate_question_by_answer\",\"duorc_SelfRC_movie_director\",\"duorc_SelfRC_extract_answer\",\"duorc_SelfRC_generate_question\",\"duorc_SelfRC_answer_question\",\"duorc_SelfRC_build_story_around_qa\",\"duorc_SelfRC_question_answering\",\"duorc_SelfRC_title_generation\",\"duorc_SelfRC_decide_worth_it\",\"ag_news_classify_question_first\",\"ag_news_classify_with_choices_question_first\",\"ag_news_recommend\",\"ag_news_which_section_choices\",\"ag_news_which_section\",\"ag_news_classify_with_choices\",\"ag_news_classify\",\"web_questions_get_the_answer\",\"web_questions_potential_correct_answer\",\"web_questions_whats_the_answer\",\"web_questions_short_general_knowledge_q\",\"web_questions_question_answer\",\"gigaword_generate_summary_for_this\",\"gigaword_reverse_writing\",\"gigaword_make_a_title\",\"gigaword_first_sentence_title\",\"gigaword_TLDR\",\"gigaword_write_its_sentence\",\"gigaword_write_a_title_for_this_sentence\",\"gigaword_in_a_nutshell\",\"gigaword_write_an_article\",\"race_high_Is_this_the_right_answer\",\"race_high_Write_a_multi_choice_question_for_the_following_article\",\"race_high_Taking_a_test\",\"race_high_Select_the_best_answer\",\"race_high_Write_a_multi_choice_question_options_given\",\"race_high_Select_the_best_answer_generate_span\",\"race_high_Select_the_best_answer_no_instructions\",\"race_high_Read_the_article_and_answer_the_question_no_option\",\"race_all_Taking_a_test\",\"race_all_Write_a_multi_choice_question_for_the_following_article\",\"race_all_Read_the_article_and_answer_the_question_no_option\",\"race_all_Select_the_best_answer_generate_span\",\"race_all_Is_this_the_right_answer\",\"race_all_Write_a_multi_choice_question_options_given\",\"race_all_Select_the_best_answer\",\"race_all_Select_the_best_answer_no_instructions\",\"race_middle_Select_the_best_answer\",\"race_middle_Read_the_article_and_answer_the_question_no_option\",\"race_middle_Is_this_the_right_answer\",\"race_middle_Select_the_best_answer_no_instructions\",\"race_middle_Select_the_best_answer_generate_span\",\"race_middle_Write_a_multi_choice_question_options_given\",\"race_middle_Write_a_multi_choice_question_for_the_following_article\",\"race_middle_Taking_a_test\",\"quarel_do_not_use\",\"quarel_logic_test\",\"quarel_heres_a_story\",\"quarel_choose_between\",\"quarel_testing_students\",\"squad_answer_question_given_context\",\"squad_given_context_answer_question_variation\",\"squad_given_context_generate_question\",\"squad_jeopardy\",\"squad_answer_the_question\",\"squad_answer_given_context_and_question\",\"trec_what_category_best_describe\",\"trec_fine_grained_LOC\",\"trec_fine_grained_NUM_context_first\",\"trec_fine_grained_ENTY\",\"trec_fine_grained_NUM\",\"trec_pick_the_best_descriptor\",\"trec_fine_grained_open_context_first\",\"trec_fine_grained_LOC_context_first\",\"trec_which_category_best_describes\",\"trec_fine_grained_DESC\",\"trec_trec1\",\"trec_fine_grained_ABBR\",\"trec_fine_grained_ABBR_context_first\",\"trec_trec2\",\"trec_fine_grained_HUM\",\"trec_fine_grained_open\",\"trec_fine_grained_HUM_context_first\",\"trec_fine_grained_DESC_context_first\",\"wiqa_what_might_be_the_first_step_of_the_process\",\"wiqa_what_might_be_the_last_step_of_the_process\",\"wiqa_what_is_the_missing_first_step\",\"wiqa_what_is_the_final_step_of_the_following_process\",\"wiqa_effect_with_string_answer\",\"wiqa_which_of_the_following_is_the_supposed_perturbation\",\"wiqa_effect_with_label_answer\",\"wiqa_does_the_supposed_perturbation_have_an_effect\"],\"textfont\":{\"size\":5},\"textposition\":\"top center\",\"x\":[4.391581,-0.100926556,0.1629779,-3.107378,1.3016512,1.1273525,-24.418547,1.7591196,-0.6506275,13.375106,-0.72556716,2.909454,3.3248909,-1.1701082,0.1629779,-2.02852,0.10106119,1.2820687,-24.418547,1.7591196,-0.6506275,12.455444,-1.8986207,2.909454,4.1616673,-2.239325,-1.3141472,-3.1726146,-1.0994972,1.1273525,-24.418547,1.7591196,-0.6506275,12.620818,-0.72556716,2.7281518,21.183506,10.99757,12.977984,13.673213,11.5657625,26.699028,25.821344,25.187159,28.180386,27.924671,28.764643,29.438366,30.305305,30.45468,27.942717,6.1534934,8.401403,-9.8956785,-11.014404,10.657937,2.1872134,7.2689486,11.638172,3.2254205,9.66435,7.4657874,-42.382298,-32.689564,-31.008732,-8.717038,-22.173365,-35.338608,-31.927525,-7.878691,-30.634453,-33.40568,-3.8271224,-3.6368496,6.6992154,-1.4526443,-1.1424246,-26.439602,-23.807558,14.379191,16.237593,-1.8461411,-1.4323446,-3.6625068,15.649934,-5.962563,13.477655,18.276281,-4.118024,12.099266,0.7111417,0.8620147,2.1019633,21.017727,8.536826,2.3530254,7.434099,8.574792,-6.452409,-14.642924,-5.8354697,15.8946495,-39.457256,-4.2323093,-7.980326,-13.210206,-5.8354697,-7.9072304,-13.125749,-4.2323093,-14.901966,-39.457256,-6.452409,26.714182,25.291311,22.17613,24.353794,25.963976,26.421408,25.073296,28.358917,28.128927,22.80048,30.415749,29.572775,28.663126,29.528927,-40.077377,-33.92408,-37.494114,-32.789223,-38.45227,-31.055252,-29.736895,-32.50407,-28.05569,-30.500872,-31.003832,-29.434807,4.3233795,9.213524,4.796293,11.056003,8.285779,10.159556,11.64362,7.747618,13.874869,32.12835,30.881334,22.448784,7.948272,4.8615227,6.9381604,7.5277143,-25.087542,6.496323,-0.12976788,12.324124,-26.189188,-35.655235,-1.2819647,-27.395863,-26.980236,1.5651466,3.1504657,5.92559,0.60959643,-26.980236,1.3118615,4.619715,6.3579726,1.6280844,-26.980236,2.3482978,3.867144,5.92559,0.3326795,5.92559,0.60959643,-26.980236,2.6627629,3.894488,10.197635,10.5255995,11.459612,7.350311,11.245392,10.174499,9.208598,-28.230185,12.784244,8.593733,9.568037,-22.459152,-16.871346,-19.593622,3.3085098,-28.141977,-25.08266,-19.760916,-23.734972,-28.141977,3.1839526,-16.638563,-24.073027,2.7778628,-22.98017,-19.760916,-28.141977,-22.509,-15.3678255,-19.760916,-28.141977,-23.953365,-14.795612,-23.734972,4.008899,4.2349057,-15.956772,-23.721737,-19.760916,-25.492598,-27.154844,-19.593622,-25.039421,-25.492598,-28.141977,2.2899241,-15.674504,31.298727,26.290579,24.680908,27.495619,29.438366,29.381859,25.985159,24.08358,28.180386,30.45468,27.924671,-20.46031,-11.662053,-15.754487,-21.680658,-11.104947,-12.420535,-1.4879222,-35.57966,7.614781,-32.839077,-1.9218518,-5.54599,-8.593269,-28.022913,-5.5553885,6.497964,-8.111468,-7.411388,-12.457749,-19.038916,-7.600965,-2.093217,-9.803142,-6.4587984,0.5212206,-1.2889676,-2.1716268,-13.242512,-4.8043747,-0.18732965,-6.008945,-4.722231,16.786404,18.903763,21.23452,20.23183,15.054231,11.9694195,18.149645,5.65888,16.03614,19.311655,20.112242,17.053354,21.407757,10.945851,9.880739,9.729608,2.0830076,11.446778,-34.300346,-45.237106,-39.837574,-46.63966,-41.230396,-47.60405,-43.871655,-32.88872,-49.21187,-42.551796,14.609338,14.67807,14.3555565,13.796539,13.032,12.904728,13.500148,14.682339,13.388446,15.478495,14.348369,13.827875,13.126232,13.997927,15.618197,-35.350872,-36.79073,-35.872044,-46.49834,11.064522,10.180736,10.485851,15.436443,11.826397,13.878128,13.4461975,14.843358,12.435776,11.377436,11.002413,16.474743,-27.671192,-16.349451,-28.568975,0.18133321,0.55953866,19.53579,-44.60995,16.776684,-43.10613,-24.425352,18.035961,-44.49307,-22.986923,18.258589,18.258589,-43.10613,17.248247,-24.425352,-22.986923,19.282864,16.776684,-44.49307,-44.60995,22.405365,20.41067,36.029255,18.277607,19.676994,18.72266,21.389406,27.532827,26.505646,16.967686,28.429749,16.712572,-41.13331,-47.6741,-46.264935,-44.058422,-42.551796,-34.026257,-42.38734,-45.082516,-43.75435,23.954756,34.128918,29.388351,35.37946,32.36893,31.048044,17.434465,35.996662,30.175522,33.068047,35.996662,31.048044,23.954756,32.36893,35.37946,18.29712,33.915062,35.996662,23.954756,17.944881,31.048044,32.36893,34.38648,30.363148,13.21207,23.591105,14.796194,16.364365,12.761983,4.951299,4.4642863,-13.621395,4.004369,5.6928225,6.140955,3.1430058,-5.7317705,-2.6642647,-3.1556606,-4.3876567,-3.2595475,18.47904,-6.2482367,3.869905,-3.7973416,-4.99486,-5.607555,-4.9806576,-4.0049095,-4.5439305,17.785593,-2.9042788,-4.1823215,-17.329075,-22.998692,-34.530556,-24.228016,-16.445335,-35.74239,-1.1521264,-37.08277],\"y\":[35.268448,30.090523,24.442392,27.783533,26.182892,28.589449,-2.8258157,32.931416,32.129585,11.253208,28.24386,28.747837,35.122032,30.01928,24.442392,28.816044,26.483427,30.156256,-2.8258157,32.931416,32.129585,10.840809,27.336111,28.747837,34.231285,30.73492,24.404022,29.281973,26.011787,28.589449,-2.8258157,32.931416,32.129585,11.791446,28.24386,30.316704,-12.067086,-0.6120796,-2.8844244,-1.4576937,-1.9126834,16.566315,14.496713,15.904618,19.293072,17.483671,16.421543,15.058798,19.546558,16.725008,14.159135,-11.017728,-15.3239765,-12.85522,-12.62247,-4.1430426,-11.909207,-10.8105545,-7.404953,-11.536194,-14.559949,-7.9897795,-9.28661,-6.203583,-6.9521284,4.491567,-4.8309526,-8.85659,-7.8354836,-19.059679,-8.531949,-7.1181417,5.942877,4.784321,7.937386,6.34652,5.7637925,-7.491124,-5.3861065,9.320085,30.013594,-20.455687,-19.897635,-19.550182,8.640692,-19.756775,5.4015856,7.883299,-20.470804,-5.61449,2.915071,1.4338684,2.4393494,-1.4812362,3.7332945,1.0576619,2.9767146,2.3528178,-14.460034,-11.564366,-12.489224,6.8277874,-8.15383,-14.380266,-12.677963,-12.669533,-12.489224,-11.670743,-11.632418,-14.380266,-12.629421,-8.15383,-14.460034,-1.1466994,-2.2014544,-0.35208797,-3.0696828,-0.38583744,-3.0736284,-3.9390056,-4.523078,-0.8303569,-1.1563076,-4.281592,-3.5054543,-1.8067663,-5.376481,-10.200546,-9.281522,-9.048236,-9.573857,-9.739623,-13.865942,-13.630127,-12.888724,-12.890275,-11.651072,-12.6617985,-12.35937,-8.2894945,0.797357,-8.250141,0.92815775,-0.041553397,2.7919447,2.5638328,0.9252625,2.76686,-6.237843,-6.7156615,-3.0550687,-5.8079658,11.571957,12.926839,16.570456,-5.918775,11.309668,18.91018,18.831125,-5.1785464,-4.56654,18.302418,-5.402019,-17.260775,-19.73031,-15.052867,-16.741314,-16.513664,-17.260775,-20.805485,-14.896966,-15.428324,-17.402706,-17.260775,-20.806417,-14.222778,-16.741314,-17.787493,-16.741314,-16.513664,-17.260775,-19.713732,-15.861529,-20.982708,-17.840052,-23.057795,-23.693933,-19.225483,-22.929344,-20.555346,-15.016389,-18.461208,-22.354965,-19.110683,16.324383,13.127278,15.967767,9.358895,12.076598,12.74575,14.261055,15.435566,12.076598,10.506905,14.672568,13.643318,8.404459,12.995778,14.261055,12.076598,14.714647,14.900667,14.261055,12.076598,12.027127,13.6585655,15.435566,8.427352,9.688167,13.793253,17.043905,14.261055,14.28948,10.578439,15.967767,16.298302,14.28948,12.076598,9.664016,12.597361,18.535378,18.009758,16.853273,15.340763,15.058798,17.887651,13.504403,14.707689,19.293072,16.725008,17.483671,-7.40921,1.0628192,-1.6263005,-7.9183807,1.6510873,2.2651207,9.059513,-10.542586,11.396109,-11.192913,3.2526693,6.00002,6.2702184,-6.660974,5.175068,9.513851,6.7645364,-2.8289857,-2.8040924,-4.0463395,-5.233828,-2.2929747,-3.432074,-4.206303,-1.8980765,-1.1856652,-3.6601572,-2.7662892,-1.4698561,-0.88429976,-2.361357,-2.5092034,-17.74575,-18.304836,-14.082974,-17.519573,-17.43455,-20.734488,-16.88001,-12.632881,-18.763586,-15.158595,-18.924006,-18.84413,-15.377864,19.886097,20.3953,19.317324,17.622002,21.717886,-14.049849,-10.844937,-12.596976,-9.894239,-11.868387,-12.362468,-13.413577,-14.30465,-10.015782,-12.636774,26.189085,32.57592,28.62323,22.7194,26.086336,28.24409,23.931124,29.687017,29.945692,28.124691,31.124151,27.419611,8.8624325,25.292608,31.82133,1.2015538,-1.6563857,-0.0013290305,-7.5626497,-15.691328,-10.272987,-13.158114,-13.410338,-9.827865,-13.908207,-12.753131,-12.217202,-13.663961,-11.697263,-14.276205,-14.873195,-9.117537,-11.534261,-10.422037,-7.9199266,-8.728973,-9.063123,-5.4548798,-5.6599836,-4.6258326,-16.690165,-6.975664,-7.446231,-16.968555,-9.133066,-9.133066,-4.6258326,-7.4941335,-16.690165,-16.968555,-8.15178,-5.6599836,-7.446231,-5.4548798,11.179042,9.51061,-11.416896,5.340091,7.3189116,9.247794,10.528188,-13.025511,-13.056745,5.708609,-14.187555,4.176776,-13.504667,-10.918911,-11.716888,-10.326725,-12.636774,-12.857901,-11.042561,-12.541836,-11.71229,-7.468709,-13.787856,-11.729917,-15.375054,-12.09801,-10.15742,-23.975748,-13.534093,-13.046124,-14.33724,-13.534093,-10.15742,-7.468709,-12.09801,-15.375054,-23.882536,-15.670947,-13.534093,-7.468709,-24.656996,-10.15742,-12.09801,-12.495046,-12.030097,3.7869534,-9.814422,4.084889,1.7451631,20.41779,-25.287819,-23.622646,-14.060948,-21.184237,-23.915611,-22.212946,16.301874,10.551053,11.110394,9.897042,9.539499,15.921253,10.77177,11.819089,15.557295,11.7337475,15.54059,13.081367,12.023439,14.946162,10.904107,10.175549,12.648332,13.025005,-3.4415498,-7.0619674,-5.8421607,-7.543775,-3.0799685,-6.358464,1.3267376,-6.0271983],\"type\":\"scatter\"}],                        {\"autosize\":true,\"showlegend\":false,\"title\":{\"text\":\"t-SNE Visualization of Embeddings\"},\"xaxis\":{\"title\":{\"text\":\"Dimension 1\"}},\"yaxis\":{\"title\":{\"text\":\"Dimension 2\"}},\"template\":{\"data\":{\"histogram2dcontour\":[{\"type\":\"histogram2dcontour\",\"colorbar\":{\"outlinewidth\":0,\"ticks\":\"\"},\"colorscale\":[[0.0,\"#0d0887\"],[0.1111111111111111,\"#46039f\"],[0.2222222222222222,\"#7201a8\"],[0.3333333333333333,\"#9c179e\"],[0.4444444444444444,\"#bd3786\"],[0.5555555555555556,\"#d8576b\"],[0.6666666666666666,\"#ed7953\"],[0.7777777777777778,\"#fb9f3a\"],[0.8888888888888888,\"#fdca26\"],[1.0,\"#f0f921\"]]}],\"choropleth\":[{\"type\":\"choropleth\",\"colorbar\":{\"outlinewidth\":0,\"ticks\":\"\"}}],\"histogram2d\":[{\"type\":\"histogram2d\",\"colorbar\":{\"outlinewidth\":0,\"ticks\":\"\"},\"colorscale\":[[0.0,\"#0d0887\"],[0.1111111111111111,\"#46039f\"],[0.2222222222222222,\"#7201a8\"],[0.3333333333333333,\"#9c179e\"],[0.4444444444444444,\"#bd3786\"],[0.5555555555555556,\"#d8576b\"],[0.6666666666666666,\"#ed7953\"],[0.7777777777777778,\"#fb9f3a\"],[0.8888888888888888,\"#fdca26\"],[1.0,\"#f0f921\"]]}],\"heatmap\":[{\"type\":\"heatmap\",\"colorbar\":{\"outlinewidth\":0,\"ticks\":\"\"},\"colorscale\":[[0.0,\"#0d0887\"],[0.1111111111111111,\"#46039f\"],[0.2222222222222222,\"#7201a8\"],[0.3333333333333333,\"#9c179e\"],[0.4444444444444444,\"#bd3786\"],[0.5555555555555556,\"#d8576b\"],[0.6666666666666666,\"#ed7953\"],[0.7777777777777778,\"#fb9f3a\"],[0.8888888888888888,\"#fdca26\"],[1.0,\"#f0f921\"]]}],\"heatmapgl\":[{\"type\":\"heatmapgl\",\"colorbar\":{\"outlinewidth\":0,\"ticks\":\"\"},\"colorscale\":[[0.0,\"#0d0887\"],[0.1111111111111111,\"#46039f\"],[0.2222222222222222,\"#7201a8\"],[0.3333333333333333,\"#9c179e\"],[0.4444444444444444,\"#bd3786\"],[0.5555555555555556,\"#d8576b\"],[0.6666666666666666,\"#ed7953\"],[0.7777777777777778,\"#fb9f3a\"],[0.8888888888888888,\"#fdca26\"],[1.0,\"#f0f921\"]]}],\"contourcarpet\":[{\"type\":\"contourcarpet\",\"colorbar\":{\"outlinewidth\":0,\"ticks\":\"\"}}],\"contour\":[{\"type\":\"contour\",\"colorbar\":{\"outlinewidth\":0,\"ticks\":\"\"},\"colorscale\":[[0.0,\"#0d0887\"],[0.1111111111111111,\"#46039f\"],[0.2222222222222222,\"#7201a8\"],[0.3333333333333333,\"#9c179e\"],[0.4444444444444444,\"#bd3786\"],[0.5555555555555556,\"#d8576b\"],[0.6666666666666666,\"#ed7953\"],[0.7777777777777778,\"#fb9f3a\"],[0.8888888888888888,\"#fdca26\"],[1.0,\"#f0f921\"]]}],\"surface\":[{\"type\":\"surface\",\"colorbar\":{\"outlinewidth\":0,\"ticks\":\"\"},\"colorscale\":[[0.0,\"#0d0887\"],[0.1111111111111111,\"#46039f\"],[0.2222222222222222,\"#7201a8\"],[0.3333333333333333,\"#9c179e\"],[0.4444444444444444,\"#bd3786\"],[0.5555555555555556,\"#d8576b\"],[0.6666666666666666,\"#ed7953\"],[0.7777777777777778,\"#fb9f3a\"],[0.8888888888888888,\"#fdca26\"],[1.0,\"#f0f921\"]]}],\"mesh3d\":[{\"type\":\"mesh3d\",\"colorbar\":{\"outlinewidth\":0,\"ticks\":\"\"}}],\"scatter\":[{\"fillpattern\":{\"fillmode\":\"overlay\",\"size\":10,\"solidity\":0.2},\"type\":\"scatter\"}],\"parcoords\":[{\"type\":\"parcoords\",\"line\":{\"colorbar\":{\"outlinewidth\":0,\"ticks\":\"\"}}}],\"scatterpolargl\":[{\"type\":\"scatterpolargl\",\"marker\":{\"colorbar\":{\"outlinewidth\":0,\"ticks\":\"\"}}}],\"bar\":[{\"error_x\":{\"color\":\"#2a3f5f\"},\"error_y\":{\"color\":\"#2a3f5f\"},\"marker\":{\"line\":{\"color\":\"#E5ECF6\",\"width\":0.5},\"pattern\":{\"fillmode\":\"overlay\",\"size\":10,\"solidity\":0.2}},\"type\":\"bar\"}],\"scattergeo\":[{\"type\":\"scattergeo\",\"marker\":{\"colorbar\":{\"outlinewidth\":0,\"ticks\":\"\"}}}],\"scatterpolar\":[{\"type\":\"scatterpolar\",\"marker\":{\"colorbar\":{\"outlinewidth\":0,\"ticks\":\"\"}}}],\"histogram\":[{\"marker\":{\"pattern\":{\"fillmode\":\"overlay\",\"size\":10,\"solidity\":0.2}},\"type\":\"histogram\"}],\"scattergl\":[{\"type\":\"scattergl\",\"marker\":{\"colorbar\":{\"outlinewidth\":0,\"ticks\":\"\"}}}],\"scatter3d\":[{\"type\":\"scatter3d\",\"line\":{\"colorbar\":{\"outlinewidth\":0,\"ticks\":\"\"}},\"marker\":{\"colorbar\":{\"outlinewidth\":0,\"ticks\":\"\"}}}],\"scattermapbox\":[{\"type\":\"scattermapbox\",\"marker\":{\"colorbar\":{\"outlinewidth\":0,\"ticks\":\"\"}}}],\"scatterternary\":[{\"type\":\"scatterternary\",\"marker\":{\"colorbar\":{\"outlinewidth\":0,\"ticks\":\"\"}}}],\"scattercarpet\":[{\"type\":\"scattercarpet\",\"marker\":{\"colorbar\":{\"outlinewidth\":0,\"ticks\":\"\"}}}],\"carpet\":[{\"aaxis\":{\"endlinecolor\":\"#2a3f5f\",\"gridcolor\":\"white\",\"linecolor\":\"white\",\"minorgridcolor\":\"white\",\"startlinecolor\":\"#2a3f5f\"},\"baxis\":{\"endlinecolor\":\"#2a3f5f\",\"gridcolor\":\"white\",\"linecolor\":\"white\",\"minorgridcolor\":\"white\",\"startlinecolor\":\"#2a3f5f\"},\"type\":\"carpet\"}],\"table\":[{\"cells\":{\"fill\":{\"color\":\"#EBF0F8\"},\"line\":{\"color\":\"white\"}},\"header\":{\"fill\":{\"color\":\"#C8D4E3\"},\"line\":{\"color\":\"white\"}},\"type\":\"table\"}],\"barpolar\":[{\"marker\":{\"line\":{\"color\":\"#E5ECF6\",\"width\":0.5},\"pattern\":{\"fillmode\":\"overlay\",\"size\":10,\"solidity\":0.2}},\"type\":\"barpolar\"}],\"pie\":[{\"automargin\":true,\"type\":\"pie\"}]},\"layout\":{\"autotypenumbers\":\"strict\",\"colorway\":[\"#636efa\",\"#EF553B\",\"#00cc96\",\"#ab63fa\",\"#FFA15A\",\"#19d3f3\",\"#FF6692\",\"#B6E880\",\"#FF97FF\",\"#FECB52\"],\"font\":{\"color\":\"#2a3f5f\"},\"hovermode\":\"closest\",\"hoverlabel\":{\"align\":\"left\"},\"paper_bgcolor\":\"white\",\"plot_bgcolor\":\"#E5ECF6\",\"polar\":{\"bgcolor\":\"#E5ECF6\",\"angularaxis\":{\"gridcolor\":\"white\",\"linecolor\":\"white\",\"ticks\":\"\"},\"radialaxis\":{\"gridcolor\":\"white\",\"linecolor\":\"white\",\"ticks\":\"\"}},\"ternary\":{\"bgcolor\":\"#E5ECF6\",\"aaxis\":{\"gridcolor\":\"white\",\"linecolor\":\"white\",\"ticks\":\"\"},\"baxis\":{\"gridcolor\":\"white\",\"linecolor\":\"white\",\"ticks\":\"\"},\"caxis\":{\"gridcolor\":\"white\",\"linecolor\":\"white\",\"ticks\":\"\"}},\"coloraxis\":{\"colorbar\":{\"outlinewidth\":0,\"ticks\":\"\"}},\"colorscale\":{\"sequential\":[[0.0,\"#0d0887\"],[0.1111111111111111,\"#46039f\"],[0.2222222222222222,\"#7201a8\"],[0.3333333333333333,\"#9c179e\"],[0.4444444444444444,\"#bd3786\"],[0.5555555555555556,\"#d8576b\"],[0.6666666666666666,\"#ed7953\"],[0.7777777777777778,\"#fb9f3a\"],[0.8888888888888888,\"#fdca26\"],[1.0,\"#f0f921\"]],\"sequentialminus\":[[0.0,\"#0d0887\"],[0.1111111111111111,\"#46039f\"],[0.2222222222222222,\"#7201a8\"],[0.3333333333333333,\"#9c179e\"],[0.4444444444444444,\"#bd3786\"],[0.5555555555555556,\"#d8576b\"],[0.6666666666666666,\"#ed7953\"],[0.7777777777777778,\"#fb9f3a\"],[0.8888888888888888,\"#fdca26\"],[1.0,\"#f0f921\"]],\"diverging\":[[0,\"#8e0152\"],[0.1,\"#c51b7d\"],[0.2,\"#de77ae\"],[0.3,\"#f1b6da\"],[0.4,\"#fde0ef\"],[0.5,\"#f7f7f7\"],[0.6,\"#e6f5d0\"],[0.7,\"#b8e186\"],[0.8,\"#7fbc41\"],[0.9,\"#4d9221\"],[1,\"#276419\"]]},\"xaxis\":{\"gridcolor\":\"white\",\"linecolor\":\"white\",\"ticks\":\"\",\"title\":{\"standoff\":15},\"zerolinecolor\":\"white\",\"automargin\":true,\"zerolinewidth\":2},\"yaxis\":{\"gridcolor\":\"white\",\"linecolor\":\"white\",\"ticks\":\"\",\"title\":{\"standoff\":15},\"zerolinecolor\":\"white\",\"automargin\":true,\"zerolinewidth\":2},\"scene\":{\"xaxis\":{\"backgroundcolor\":\"#E5ECF6\",\"gridcolor\":\"white\",\"linecolor\":\"white\",\"showbackground\":true,\"ticks\":\"\",\"zerolinecolor\":\"white\",\"gridwidth\":2},\"yaxis\":{\"backgroundcolor\":\"#E5ECF6\",\"gridcolor\":\"white\",\"linecolor\":\"white\",\"showbackground\":true,\"ticks\":\"\",\"zerolinecolor\":\"white\",\"gridwidth\":2},\"zaxis\":{\"backgroundcolor\":\"#E5ECF6\",\"gridcolor\":\"white\",\"linecolor\":\"white\",\"showbackground\":true,\"ticks\":\"\",\"zerolinecolor\":\"white\",\"gridwidth\":2}},\"shapedefaults\":{\"line\":{\"color\":\"#2a3f5f\"}},\"annotationdefaults\":{\"arrowcolor\":\"#2a3f5f\",\"arrowhead\":0,\"arrowwidth\":1},\"geo\":{\"bgcolor\":\"white\",\"landcolor\":\"#E5ECF6\",\"subunitcolor\":\"white\",\"showland\":true,\"showlakes\":true,\"lakecolor\":\"white\"},\"title\":{\"x\":0.05},\"mapbox\":{\"style\":\"light\"}}},\"width\":2000,\"height\":2000},                        {\"responsive\": true}                    ).then(function(){\n",
       "                            \n",
       "var gd = document.getElementById('99c5c052-4954-406d-83e4-6c38cef41303');\n",
       "var x = new MutationObserver(function (mutations, observer) {{\n",
       "        var display = window.getComputedStyle(gd).display;\n",
       "        if (!display || display === 'none') {{\n",
       "            console.log([gd, 'removed!']);\n",
       "            Plotly.purge(gd);\n",
       "            observer.disconnect();\n",
       "        }}\n",
       "}});\n",
       "\n",
       "// Listen for the removal of the full notebook cells\n",
       "var notebookContainer = gd.closest('#notebook-container');\n",
       "if (notebookContainer) {{\n",
       "    x.observe(notebookContainer, {childList: true});\n",
       "}}\n",
       "\n",
       "// Listen for the clearing of the current output cell\n",
       "var outputEl = gd.closest('.output');\n",
       "if (outputEl) {{\n",
       "    x.observe(outputEl, {childList: true});\n",
       "}}\n",
       "\n",
       "                        })                };                });            </script>        </div>"
      ]
     },
     "metadata": {},
     "output_type": "display_data"
    }
   ],
   "source": [
    "fig.update_layout(width=2000, height=2000)\n",
    "# 显示图形\n",
    "fig.show()"
   ]
  },
  {
   "cell_type": "code",
   "execution_count": 84,
   "metadata": {},
   "outputs": [
    {
     "data": {
      "text/plain": [
       "'{\"data\":[{\"mode\":\"markers+text\",\"text\":[\"paws_labeled_final_task_description_no_label\",\"paws_labeled_final_Meaning\",\"paws_labeled_final_context_question_no_label\",\"paws_labeled_final_Rewrite_no_label\",\"paws_labeled_final_context_question\",\"paws_labeled_final_Concatenation\",\"paws_labeled_final_paraphrase_task\",\"paws_labeled_final_Concatenation_no_label\",\"paws_labeled_final_Meaning_no_label\",\"paws_labeled_final_PAWS_ANLI_GPT3\",\"paws_labeled_final_Rewrite\",\"paws_labeled_final_PAWS_ANLI_GPT3_no_label\",\"paws_labeled_swap_task_description_no_label\",\"paws_labeled_swap_Meaning\",\"paws_labeled_swap_context_question_no_label\",\"paws_labeled_swap_Rewrite_no_label\",\"paws_labeled_swap_context_question\",\"paws_labeled_swap_Concatenation\",\"paws_labeled_swap_paraphrase_task\",\"paws_labeled_swap_Concatenation_no_label\",\"paws_labeled_swap_Meaning_no_label\",\"paws_labeled_swap_PAWS_ANLI_GPT3\",\"paws_labeled_swap_Rewrite\",\"paws_labeled_swap_PAWS_ANLI_GPT3_no_label\",\"paws_unlabeled_final_task_description_no_label\",\"paws_unlabeled_final_Meaning\",\"paws_unlabeled_final_context_question_no_label\",\"paws_unlabeled_final_Rewrite_no_label\",\"paws_unlabeled_final_context_question\",\"paws_unlabeled_final_Concatenation\",\"paws_unlabeled_final_paraphrase_task\",\"paws_unlabeled_final_Concatenation_no_label\",\"paws_unlabeled_final_Meaning_no_label\",\"paws_unlabeled_final_PAWS_ANLI_GPT3\",\"paws_unlabeled_final_Rewrite\",\"paws_unlabeled_final_PAWS_ANLI_GPT3_no_label\",\"trivia_qa_unfiltered_guess_question\",\"trivia_qa_unfiltered_formal_description\",\"trivia_qa_unfiltered_question_with_instruction\",\"trivia_qa_unfiltered_first_person_context\",\"trivia_qa_unfiltered_question_answer\",\"rotten_tomatoes_Reviewer_Opinion_bad_good_choices\",\"rotten_tomatoes_Text_Expressed_Sentiment\",\"rotten_tomatoes_Sentiment_with_choices_\",\"rotten_tomatoes_Reviewer_Enjoyment_Yes_No\",\"rotten_tomatoes_Reviewer_Enjoyment\",\"rotten_tomatoes_Movie_Expressed_Sentiment\",\"rotten_tomatoes_Writer_Expressed_Sentiment\",\"rotten_tomatoes_Movie_Expressed_Sentiment_2\",\"rotten_tomatoes_Reviewer_Expressed_Sentiment\",\"rotten_tomatoes_Reviewer_Sentiment_Feeling\",\"squad_v2_Questions_with_Context\",\"squad_v2_Jeopardy_with_Context\",\"squad_v2_Topic_Prediction___Context_with_randomized_prompt_options\",\"squad_v2_Topic_Prediction___Context_with_randomized_prompt_options_placed_in_the_end\",\"squad_v2_Jeopardy_without_Context\",\"squad_v2_Questions_with_Context___Without_Prompt_Keywords\",\"squad_v2_Questions_with_Context_+unanswerable\",\"squad_v2_Trivia\",\"squad_v2_Questions_with_Context___Without_Prompt_Keywords_+unanswerable\",\"squad_v2_Unanwerable_question\",\"squad_v2_Topic_Prediction___Question_and_Answer_Pair\",\"squad_v2_Topic_Prediction___Context\",\"common_gen_Given_concepts___type_2\",\"common_gen_Put_together\",\"common_gen_choice_in_concept_centric_sentence_generation\",\"common_gen_random_task_template_prompt\",\"common_gen_topics_from_the_sentence\",\"common_gen_sentence_to_concepts\",\"common_gen_topic_to_sentence\",\"common_gen_Example_prompt\",\"common_gen_Given_concepts_type_1\",\"swag_regular_reversed_appropriate_continuation\",\"swag_regular_appropriate_continuation\",\"swag_regular_how_ends\",\"swag_regular_first_then\",\"swag_regular_first_then_key\",\"swag_regular_generate_start\",\"swag_regular_open_completion\",\"wiki_qa_Is_This_True?\",\"wiki_qa_automatic_system\",\"wiki_qa_Jeopardy_style\",\"wiki_qa_Topic_Prediction___Question_and_Answer_Pair\",\"wiki_qa_Generate_Question_from_Topic\",\"wiki_qa_found_on_google\",\"wiki_qa_Topic_Prediction___Question_Only\",\"wiki_qa_exercise\",\"wiki_qa_Decide_good_answer\",\"wiki_qa_Topic_Prediction___Answer_Only\",\"wiki_qa_Direct_Answer_to_Question\",\"qasc_is_correct_1\",\"qasc_qa_with_separated_facts_1\",\"qasc_qa_with_separated_facts_3\",\"qasc_qa_with_separated_facts_4\",\"qasc_qa_with_separated_facts_5\",\"qasc_qa_with_combined_facts_1\",\"qasc_is_correct_2\",\"qasc_qa_with_separated_facts_2\",\"hotpot_qa_fullwiki_generate_answer_affirmative\",\"hotpot_qa_fullwiki_generate_answer_and_explanations\",\"hotpot_qa_fullwiki_generate_explanations_interrogative\",\"hotpot_qa_fullwiki_classify_question_type\",\"hotpot_qa_fullwiki_generate_title_affirmative\",\"hotpot_qa_fullwiki_generate_question\",\"hotpot_qa_fullwiki_generate_explanations_affirmative\",\"hotpot_qa_fullwiki_generate_answer_interrogative\",\"hotpot_qa_distractor_generate_explanations_interrogative\",\"hotpot_qa_distractor_generate_explanations_affirmative\",\"hotpot_qa_distractor_generate_answer_interrogative\",\"hotpot_qa_distractor_generate_question\",\"hotpot_qa_distractor_generate_answer_and_explanations\",\"hotpot_qa_distractor_generate_title_affirmative\",\"hotpot_qa_distractor_generate_answer_affirmative\",\"openbookqa_additional_which_correct_inverse\",\"openbookqa_additional_choices\",\"openbookqa_additional_pick_using_id\",\"openbookqa_additional_choose_an_answer_with_options\",\"openbookqa_additional_which_correct\",\"openbookqa_additional_only_options\",\"openbookqa_additional_pick_answer_with_options\",\"openbookqa_main_choose_an_answer_with_options\",\"openbookqa_main_which_correct\",\"openbookqa_main_pick_using_id\",\"openbookqa_main_choices\",\"openbookqa_main_only_options\",\"openbookqa_main_which_correct_inverse\",\"openbookqa_main_pick_answer_with_options\",\"wiki_bio_who\",\"wiki_bio_comprehension\",\"wiki_bio_what_content\",\"wiki_bio_guess_person\",\"wiki_bio_key_content\",\"samsum_Summarize_this_dialogue:\",\"samsum_Given_the_above_dialogue_write_a_summary\",\"samsum_Summarize:\",\"samsum_To_sum_up_this_dialog\",\"samsum_Generate_a_summary_for_this_dialogue\",\"samsum_Write_a_dialogue_that_match_this_summary\",\"samsum_Sum_up_the_following_dialogue\",\"quartz_use_info_from_question_paragraph\",\"quartz_paragraph_question_plain_concat\",\"quartz_use_info_from_paragraph_question\",\"quartz_answer_question_based_on\",\"quartz_answer_question_below\",\"quartz_read_passage_below_choose\",\"quartz_having_read_above_passage\",\"quartz_given_the_fact_answer_the_q\",\"sciq_Direct_Question_(Closed_Book)\",\"sciq_Multiple_Choice_(Closed_Book)\",\"sciq_Multiple_Choice_Question_First\",\"sciq_Multiple_Choice\",\"sciq_Direct_Question\",\"piqa_what_is_the_correct_ending\",\"piqa_pick_correct_choice_with_choice_given_before_goal\",\"piqa_pick_correct_choice_index\",\"piqa_Correct_the_solution\",\"piqa_finish_sentence_with_correct_choice\",\"piqa_Does_this_solution_make_sense?_sol2\",\"piqa_choose_the_most_appropriate_solution\",\"piqa_Correct_the_solution_if_false:_from_sol_2\",\"piqa_no_prompt_needed\",\"piqa_Does_this_solution_make_sense?_sol1\",\"piqa_Correct_the_solution_if_false:_from_sol_1\",\"adversarial_qa_droberta_generate_question\",\"adversarial_qa_droberta_tell_what_it_is\",\"adversarial_qa_droberta_question_context_answer\",\"adversarial_qa_droberta_based_on\",\"adversarial_qa_droberta_answer_the_following_q\",\"adversarial_qa_adversarialQA_generate_question\",\"adversarial_qa_adversarialQA_tell_what_it_is\",\"adversarial_qa_adversarialQA_question_context_answer\",\"adversarial_qa_adversarialQA_based_on\",\"adversarial_qa_adversarialQA_answer_the_following_q\",\"adversarial_qa_dbert_generate_question\",\"adversarial_qa_dbert_tell_what_it_is\",\"adversarial_qa_dbert_question_context_answer\",\"adversarial_qa_dbert_based_on\",\"adversarial_qa_dbert_answer_the_following_q\",\"adversarial_qa_dbidaf_based_on\",\"adversarial_qa_dbidaf_answer_the_following_q\",\"adversarial_qa_dbidaf_generate_question\",\"adversarial_qa_dbidaf_tell_what_it_is\",\"adversarial_qa_dbidaf_question_context_answer\",\"quoref_Guess_Answer\",\"quoref_Answer_Question_Given_Context\",\"quoref_Find_Answer\",\"quoref_Context_Contains_Answer\",\"quoref_Given_Context_Answer_Question\",\"quoref_What_Is_The_Answer\",\"quoref_Answer_Test\",\"quoref_Guess_Title_For_Context\",\"quoref_Found_Context_Online\",\"quoref_Answer_Friend_Question\",\"quoref_Read_And_Extract_\",\"winogrande_winogrande_l_True_or_False\",\"winogrande_winogrande_l_fill_in_the_blank\",\"winogrande_winogrande_l_does_underscore_refer_to\",\"winogrande_winogrande_l_Replace\",\"winogrande_winogrande_l_stand_for\",\"winogrande_winogrande_l_underscore_refer_to\",\"winogrande_winogrande_s_does_underscore_refer_to\",\"winogrande_winogrande_s_True_or_False\",\"winogrande_winogrande_s_stand_for\",\"winogrande_winogrande_s_Replace\",\"winogrande_winogrande_s_fill_in_the_blank\",\"winogrande_winogrande_s_underscore_refer_to\",\"winogrande_winogrande_debiased_Replace\",\"winogrande_winogrande_debiased_underscore_refer_to\",\"winogrande_winogrande_debiased_does_underscore_refer_to\",\"winogrande_winogrande_debiased_stand_for\",\"winogrande_winogrande_debiased_True_or_False\",\"winogrande_winogrande_debiased_fill_in_the_blank\",\"winogrande_winogrande_xl_does_underscore_refer_to\",\"winogrande_winogrande_xl_stand_for\",\"winogrande_winogrande_xl_underscore_refer_to\",\"winogrande_winogrande_xl_fill_in_the_blank\",\"winogrande_winogrande_xl_True_or_False\",\"winogrande_winogrande_xl_Replace\",\"winogrande_winogrande_m_Replace\",\"winogrande_winogrande_m_fill_in_the_blank\",\"winogrande_winogrande_m_True_or_False\",\"winogrande_winogrande_m_does_underscore_refer_to\",\"winogrande_winogrande_m_underscore_refer_to\",\"winogrande_winogrande_m_stand_for\",\"winogrande_winogrande_xs_does_underscore_refer_to\",\"winogrande_winogrande_xs_True_or_False\",\"winogrande_winogrande_xs_underscore_refer_to\",\"winogrande_winogrande_xs_stand_for\",\"winogrande_winogrande_xs_Replace\",\"winogrande_winogrande_xs_fill_in_the_blank\",\"imdb_Movie_Expressed_Sentiment_2\",\"imdb_Reviewer_Opinion_bad_good_choices\",\"imdb_Sentiment_with_choices_\",\"imdb_Reviewer_Sentiment_Feeling\",\"imdb_Writer_Expressed_Sentiment\",\"imdb_Movie_Expressed_Sentiment\",\"imdb_Text_Expressed_Sentiment\",\"imdb_Negation_template_for_positive_and_negative\",\"imdb_Reviewer_Enjoyment_Yes_No\",\"imdb_Reviewer_Expressed_Sentiment\",\"imdb_Reviewer_Enjoyment\",\"story_cloze_2016_Answer_Given_options\",\"story_cloze_2016_Choose_Story_Ending\",\"story_cloze_2016_Movie_What_Happens_Next\",\"story_cloze_2016_Story_Continuation_and_Options\",\"story_cloze_2016_Generate_Ending\",\"story_cloze_2016_Novel_Correct_Ending\",\"hellaswag_complete_first_then\",\"hellaswag_Topic_without_the_ending_answer\",\"hellaswag_Open_ended_completion\",\"hellaswag_Topic_of_the_context\",\"hellaswag_Randomized_prompts_template\",\"hellaswag_Appropriate_continuation___Yes_or_No\",\"hellaswag_Predict_ending_with_hint\",\"hellaswag_Open_ended_start\",\"hellaswag_Reversed_appropriate_continuation___Yes_or_No\",\"hellaswag_how_ends\",\"hellaswag_if_begins_how_continues\",\"wiki_hop_original_choose_best_object_interrogative_1\",\"wiki_hop_original_explain_relation\",\"wiki_hop_original_generate_object\",\"wiki_hop_original_generate_subject\",\"wiki_hop_original_choose_best_object_affirmative_1\",\"wiki_hop_original_choose_best_object_affirmative_3\",\"wiki_hop_original_generate_subject_and_object\",\"wiki_hop_original_choose_best_object_affirmative_2\",\"wiki_hop_original_choose_best_object_interrogative_2\",\"wiki_hop_masked_Indirect_Question_about_Birthplace_\\\\u002f_Citizenship_\\\\u002f_Place_of_Death\",\"wiki_hop_masked_Explain_Relation\",\"wiki_hop_masked_Generate_Object_Answer\",\"wiki_hop_masked_Choose_Best_Object_Candidate\",\"wiki_hop_masked_Generate_Fact_Triple\",\"wiki_hop_masked_Generate_Subject_Answer\",\"quail_context_question_answer_description_id\",\"quail_context_question_answer_description_text\",\"quail_description_context_question_answer_id\",\"quail_context_question_description_answer_text\",\"quail_context_question_description_text\",\"quail_context_description_question_text\",\"quail_context_question_description_answer_id\",\"quail_no_prompt_id\",\"quail_context_description_question_answer_id\",\"quail_description_context_question_text\",\"quail_no_prompt_text\",\"quail_context_description_question_answer_text\",\"quail_description_context_question_answer_text\",\"art_choose_hypothesis_options\",\"art_choose_hypothesis_believable\",\"art_choose_hypothesis\",\"art_choose_hypothesis_desc\",\"art_choose_hypothesis_likely\",\"xsum_DOC_write_summary_of_above\",\"xsum_article_DOC_summary\",\"xsum_DOC_how_would_you_rephrase_few_words\",\"xsum_college_roommate_asked_DOC_so_I_recap\",\"xsum_DOC_boils_down_to_simple_idea_that\",\"xsum_summarize_DOC\",\"xsum_summarize_this_DOC_summary\",\"xsum_DOC_given_above_write_one_sentence\",\"xsum_read_below_DOC_write_abstract\",\"xsum_DOC_tldr\",\"anli_MNLI_crowdsource\",\"anli_should_assume\",\"anli_does_it_follow_that\",\"anli_GPT_3_style\",\"anli_based_on_the_previous_passage\",\"anli_justified_in_saying\",\"anli_take_the_following_as_truth\",\"anli_must_be_true\",\"anli_can_we_infer\",\"anli_guaranteed\\\\u002fpossible\\\\u002fimpossible\",\"anli_always\\\\u002fsometimes\\\\u002fnever\",\"anli_does_this_imply\",\"anli_consider_always\\\\u002fsometimes\\\\u002fnever\",\"anli_claim_true\\\\u002ffalse\\\\u002finconclusive\",\"anli_guaranteed_true\",\"app_reviews_categorize_rating_using_review\",\"app_reviews_generate_review\",\"app_reviews_convert_to_star_rating\",\"app_reviews_convert_to_rating\",\"ropes_prompt_beginning\",\"ropes_prompt_bottom_no_hint\",\"ropes_prompt_bottom_hint_beginning\",\"ropes_given_background_situation\",\"ropes_plain_no_background\",\"ropes_plain_bottom_hint\",\"ropes_plain_background_situation\",\"ropes_background_new_situation_answer\",\"ropes_background_situation_middle\",\"ropes_new_situation_background_answer\",\"ropes_prompt_mix\",\"ropes_read_background_situation\",\"dream_generate_last_utterance\",\"dream_answer_to_dialogue\",\"dream_generate_first_utterance\",\"dream_baseline\",\"dream_read_the_following_conversation_and_answer_the_question\",\"duorc_ParaphraseRC_build_story_around_qa\",\"duorc_ParaphraseRC_decide_worth_it\",\"duorc_ParaphraseRC_question_answering\",\"duorc_ParaphraseRC_movie_director\",\"duorc_ParaphraseRC_generate_question\",\"duorc_ParaphraseRC_extract_answer\",\"duorc_ParaphraseRC_title_generation\",\"duorc_ParaphraseRC_answer_question\",\"duorc_ParaphraseRC_generate_question_by_answer\",\"duorc_SelfRC_generate_question_by_answer\",\"duorc_SelfRC_movie_director\",\"duorc_SelfRC_extract_answer\",\"duorc_SelfRC_generate_question\",\"duorc_SelfRC_answer_question\",\"duorc_SelfRC_build_story_around_qa\",\"duorc_SelfRC_question_answering\",\"duorc_SelfRC_title_generation\",\"duorc_SelfRC_decide_worth_it\",\"ag_news_classify_question_first\",\"ag_news_classify_with_choices_question_first\",\"ag_news_recommend\",\"ag_news_which_section_choices\",\"ag_news_which_section\",\"ag_news_classify_with_choices\",\"ag_news_classify\",\"web_questions_get_the_answer\",\"web_questions_potential_correct_answer\",\"web_questions_whats_the_answer\",\"web_questions_short_general_knowledge_q\",\"web_questions_question_answer\",\"gigaword_generate_summary_for_this\",\"gigaword_reverse_writing\",\"gigaword_make_a_title\",\"gigaword_first_sentence_title\",\"gigaword_TLDR\",\"gigaword_write_its_sentence\",\"gigaword_write_a_title_for_this_sentence\",\"gigaword_in_a_nutshell\",\"gigaword_write_an_article\",\"race_high_Is_this_the_right_answer\",\"race_high_Write_a_multi_choice_question_for_the_following_article\",\"race_high_Taking_a_test\",\"race_high_Select_the_best_answer\",\"race_high_Write_a_multi_choice_question_(options_given)\",\"race_high_Select_the_best_answer_(generate_span)\",\"race_high_Select_the_best_answer_(no_instructions)\",\"race_high_Read_the_article_and_answer_the_question_(no_option)\",\"race_all_Taking_a_test\",\"race_all_Write_a_multi_choice_question_for_the_following_article\",\"race_all_Read_the_article_and_answer_the_question_(no_option)\",\"race_all_Select_the_best_answer_(generate_span)\",\"race_all_Is_this_the_right_answer\",\"race_all_Write_a_multi_choice_question_(options_given)\",\"race_all_Select_the_best_answer\",\"race_all_Select_the_best_answer_(no_instructions)\",\"race_middle_Select_the_best_answer\",\"race_middle_Read_the_article_and_answer_the_question_(no_option)\",\"race_middle_Is_this_the_right_answer\",\"race_middle_Select_the_best_answer_(no_instructions)\",\"race_middle_Select_the_best_answer_(generate_span)\",\"race_middle_Write_a_multi_choice_question_(options_given)\",\"race_middle_Write_a_multi_choice_question_for_the_following_article\",\"race_middle_Taking_a_test\",\"quarel_do_not_use\",\"quarel_logic_test\",\"quarel_heres_a_story\",\"quarel_choose_between\",\"quarel_testing_students\",\"squad_answer_question_given_context\",\"squad_given_context_answer_question_variation\",\"squad_given_context_generate_question\",\"squad_jeopardy\",\"squad_answer_the_question\",\"squad_answer_given_context_and_question\",\"trec_what_category_best_describe\",\"trec_fine_grained_LOC\",\"trec_fine_grained_NUM_context_first\",\"trec_fine_grained_ENTY\",\"trec_fine_grained_NUM\",\"trec_pick_the_best_descriptor\",\"trec_fine_grained_open_context_first\",\"trec_fine_grained_LOC_context_first\",\"trec_which_category_best_describes\",\"trec_fine_grained_DESC\",\"trec_trec1\",\"trec_fine_grained_ABBR\",\"trec_fine_grained_ABBR_context_first\",\"trec_trec2\",\"trec_fine_grained_HUM\",\"trec_fine_grained_open\",\"trec_fine_grained_HUM_context_first\",\"trec_fine_grained_DESC_context_first\",\"wiqa_what_might_be_the_first_step_of_the_process\",\"wiqa_what_might_be_the_last_step_of_the_process\",\"wiqa_what_is_the_missing_first_step\",\"wiqa_what_is_the_final_step_of_the_following_process\",\"wiqa_effect_with_string_answer\",\"wiqa_which_of_the_following_is_the_supposed_perturbation\",\"wiqa_effect_with_label_answer\",\"wiqa_does_the_supposed_perturbation_have_an_effect\"],\"textfont\":{\"size\":5},\"textposition\":\"top center\",\"x\":[4.391581,-0.100926556,0.1629779,-3.107378,1.3016512,1.1273525,-24.418547,1.7591196,-0.6506275,13.375106,-0.72556716,2.909454,3.3248909,-1.1701082,0.1629779,-2.02852,0.10106119,1.2820687,-24.418547,1.7591196,-0.6506275,12.455444,-1.8986207,2.909454,4.1616673,-2.239325,-1.3141472,-3.1726146,-1.0994972,1.1273525,-24.418547,1.7591196,-0.6506275,12.620818,-0.72556716,2.7281518,21.183506,10.99757,12.977984,13.673213,11.5657625,26.699028,25.821344,25.187159,28.180386,27.924671,28.764643,29.438366,30.305305,30.45468,27.942717,6.1534934,8.401403,-9.8956785,-11.014404,10.657937,2.1872134,7.2689486,11.638172,3.2254205,9.66435,7.4657874,-42.382298,-32.689564,-31.008732,-8.717038,-22.173365,-35.338608,-31.927525,-7.878691,-30.634453,-33.40568,-3.8271224,-3.6368496,6.6992154,-1.4526443,-1.1424246,-26.439602,-23.807558,14.379191,16.237593,-1.8461411,-1.4323446,-3.6625068,15.649934,-5.962563,13.477655,18.276281,-4.118024,12.099266,0.7111417,0.8620147,2.1019633,21.017727,8.536826,2.3530254,7.434099,8.574792,-6.452409,-14.642924,-5.8354697,15.8946495,-39.457256,-4.2323093,-7.980326,-13.210206,-5.8354697,-7.9072304,-13.125749,-4.2323093,-14.901966,-39.457256,-6.452409,26.714182,25.291311,22.17613,24.353794,25.963976,26.421408,25.073296,28.358917,28.128927,22.80048,30.415749,29.572775,28.663126,29.528927,-40.077377,-33.92408,-37.494114,-32.789223,-38.45227,-31.055252,-29.736895,-32.50407,-28.05569,-30.500872,-31.003832,-29.434807,4.3233795,9.213524,4.796293,11.056003,8.285779,10.159556,11.64362,7.747618,13.874869,32.12835,30.881334,22.448784,7.948272,4.8615227,6.9381604,7.5277143,-25.087542,6.496323,-0.12976788,12.324124,-26.189188,-35.655235,-1.2819647,-27.395863,-26.980236,1.5651466,3.1504657,5.92559,0.60959643,-26.980236,1.3118615,4.619715,6.3579726,1.6280844,-26.980236,2.3482978,3.867144,5.92559,0.3326795,5.92559,0.60959643,-26.980236,2.6627629,3.894488,10.197635,10.5255995,11.459612,7.350311,11.245392,10.174499,9.208598,-28.230185,12.784244,8.593733,9.568037,-22.459152,-16.871346,-19.593622,3.3085098,-28.141977,-25.08266,-19.760916,-23.734972,-28.141977,3.1839526,-16.638563,-24.073027,2.7778628,-22.98017,-19.760916,-28.141977,-22.509,-15.3678255,-19.760916,-28.141977,-23.953365,-14.795612,-23.734972,4.008899,4.2349057,-15.956772,-23.721737,-19.760916,-25.492598,-27.154844,-19.593622,-25.039421,-25.492598,-28.141977,2.2899241,-15.674504,31.298727,26.290579,24.680908,27.495619,29.438366,29.381859,25.985159,24.08358,28.180386,30.45468,27.924671,-20.46031,-11.662053,-15.754487,-21.680658,-11.104947,-12.420535,-1.4879222,-35.57966,7.614781,-32.839077,-1.9218518,-5.54599,-8.593269,-28.022913,-5.5553885,6.497964,-8.111468,-7.411388,-12.457749,-19.038916,-7.600965,-2.093217,-9.803142,-6.4587984,0.5212206,-1.2889676,-2.1716268,-13.242512,-4.8043747,-0.18732965,-6.008945,-4.722231,16.786404,18.903763,21.23452,20.23183,15.054231,11.9694195,18.149645,5.65888,16.03614,19.311655,20.112242,17.053354,21.407757,10.945851,9.880739,9.729608,2.0830076,11.446778,-34.300346,-45.237106,-39.837574,-46.63966,-41.230396,-47.60405,-43.871655,-32.88872,-49.21187,-42.551796,14.609338,14.67807,14.3555565,13.796539,13.032,12.904728,13.500148,14.682339,13.388446,15.478495,14.348369,13.827875,13.126232,13.997927,15.618197,-35.350872,-36.79073,-35.872044,-46.49834,11.064522,10.180736,10.485851,15.436443,11.826397,13.878128,13.4461975,14.843358,12.435776,11.377436,11.002413,16.474743,-27.671192,-16.349451,-28.568975,0.18133321,0.55953866,19.53579,-44.60995,16.776684,-43.10613,-24.425352,18.035961,-44.49307,-22.986923,18.258589,18.258589,-43.10613,17.248247,-24.425352,-22.986923,19.282864,16.776684,-44.49307,-44.60995,22.405365,20.41067,36.029255,18.277607,19.676994,18.72266,21.389406,27.532827,26.505646,16.967686,28.429749,16.712572,-41.13331,-47.6741,-46.264935,-44.058422,-42.551796,-34.026257,-42.38734,-45.082516,-43.75435,23.954756,34.128918,29.388351,35.37946,32.36893,31.048044,17.434465,35.996662,30.175522,33.068047,35.996662,31.048044,23.954756,32.36893,35.37946,18.29712,33.915062,35.996662,23.954756,17.944881,31.048044,32.36893,34.38648,30.363148,13.21207,23.591105,14.796194,16.364365,12.761983,4.951299,4.4642863,-13.621395,4.004369,5.6928225,6.140955,3.1430058,-5.7317705,-2.6642647,-3.1556606,-4.3876567,-3.2595475,18.47904,-6.2482367,3.869905,-3.7973416,-4.99486,-5.607555,-4.9806576,-4.0049095,-4.5439305,17.785593,-2.9042788,-4.1823215,-17.329075,-22.998692,-34.530556,-24.228016,-16.445335,-35.74239,-1.1521264,-37.08277],\"y\":[35.268448,30.090523,24.442392,27.783533,26.182892,28.589449,-2.8258157,32.931416,32.129585,11.253208,28.24386,28.747837,35.122032,30.01928,24.442392,28.816044,26.483427,30.156256,-2.8258157,32.931416,32.129585,10.840809,27.336111,28.747837,34.231285,30.73492,24.404022,29.281973,26.011787,28.589449,-2.8258157,32.931416,32.129585,11.791446,28.24386,30.316704,-12.067086,-0.6120796,-2.8844244,-1.4576937,-1.9126834,16.566315,14.496713,15.904618,19.293072,17.483671,16.421543,15.058798,19.546558,16.725008,14.159135,-11.017728,-15.3239765,-12.85522,-12.62247,-4.1430426,-11.909207,-10.8105545,-7.404953,-11.536194,-14.559949,-7.9897795,-9.28661,-6.203583,-6.9521284,4.491567,-4.8309526,-8.85659,-7.8354836,-19.059679,-8.531949,-7.1181417,5.942877,4.784321,7.937386,6.34652,5.7637925,-7.491124,-5.3861065,9.320085,30.013594,-20.455687,-19.897635,-19.550182,8.640692,-19.756775,5.4015856,7.883299,-20.470804,-5.61449,2.915071,1.4338684,2.4393494,-1.4812362,3.7332945,1.0576619,2.9767146,2.3528178,-14.460034,-11.564366,-12.489224,6.8277874,-8.15383,-14.380266,-12.677963,-12.669533,-12.489224,-11.670743,-11.632418,-14.380266,-12.629421,-8.15383,-14.460034,-1.1466994,-2.2014544,-0.35208797,-3.0696828,-0.38583744,-3.0736284,-3.9390056,-4.523078,-0.8303569,-1.1563076,-4.281592,-3.5054543,-1.8067663,-5.376481,-10.200546,-9.281522,-9.048236,-9.573857,-9.739623,-13.865942,-13.630127,-12.888724,-12.890275,-11.651072,-12.6617985,-12.35937,-8.2894945,0.797357,-8.250141,0.92815775,-0.041553397,2.7919447,2.5638328,0.9252625,2.76686,-6.237843,-6.7156615,-3.0550687,-5.8079658,11.571957,12.926839,16.570456,-5.918775,11.309668,18.91018,18.831125,-5.1785464,-4.56654,18.302418,-5.402019,-17.260775,-19.73031,-15.052867,-16.741314,-16.513664,-17.260775,-20.805485,-14.896966,-15.428324,-17.402706,-17.260775,-20.806417,-14.222778,-16.741314,-17.787493,-16.741314,-16.513664,-17.260775,-19.713732,-15.861529,-20.982708,-17.840052,-23.057795,-23.693933,-19.225483,-22.929344,-20.555346,-15.016389,-18.461208,-22.354965,-19.110683,16.324383,13.127278,15.967767,9.358895,12.076598,12.74575,14.261055,15.435566,12.076598,10.506905,14.672568,13.643318,8.404459,12.995778,14.261055,12.076598,14.714647,14.900667,14.261055,12.076598,12.027127,13.6585655,15.435566,8.427352,9.688167,13.793253,17.043905,14.261055,14.28948,10.578439,15.967767,16.298302,14.28948,12.076598,9.664016,12.597361,18.535378,18.009758,16.853273,15.340763,15.058798,17.887651,13.504403,14.707689,19.293072,16.725008,17.483671,-7.40921,1.0628192,-1.6263005,-7.9183807,1.6510873,2.2651207,9.059513,-10.542586,11.396109,-11.192913,3.2526693,6.00002,6.2702184,-6.660974,5.175068,9.513851,6.7645364,-2.8289857,-2.8040924,-4.0463395,-5.233828,-2.2929747,-3.432074,-4.206303,-1.8980765,-1.1856652,-3.6601572,-2.7662892,-1.4698561,-0.88429976,-2.361357,-2.5092034,-17.74575,-18.304836,-14.082974,-17.519573,-17.43455,-20.734488,-16.88001,-12.632881,-18.763586,-15.158595,-18.924006,-18.84413,-15.377864,19.886097,20.3953,19.317324,17.622002,21.717886,-14.049849,-10.844937,-12.596976,-9.894239,-11.868387,-12.362468,-13.413577,-14.30465,-10.015782,-12.636774,26.189085,32.57592,28.62323,22.7194,26.086336,28.24409,23.931124,29.687017,29.945692,28.124691,31.124151,27.419611,8.8624325,25.292608,31.82133,1.2015538,-1.6563857,-0.0013290305,-7.5626497,-15.691328,-10.272987,-13.158114,-13.410338,-9.827865,-13.908207,-12.753131,-12.217202,-13.663961,-11.697263,-14.276205,-14.873195,-9.117537,-11.534261,-10.422037,-7.9199266,-8.728973,-9.063123,-5.4548798,-5.6599836,-4.6258326,-16.690165,-6.975664,-7.446231,-16.968555,-9.133066,-9.133066,-4.6258326,-7.4941335,-16.690165,-16.968555,-8.15178,-5.6599836,-7.446231,-5.4548798,11.179042,9.51061,-11.416896,5.340091,7.3189116,9.247794,10.528188,-13.025511,-13.056745,5.708609,-14.187555,4.176776,-13.504667,-10.918911,-11.716888,-10.326725,-12.636774,-12.857901,-11.042561,-12.541836,-11.71229,-7.468709,-13.787856,-11.729917,-15.375054,-12.09801,-10.15742,-23.975748,-13.534093,-13.046124,-14.33724,-13.534093,-10.15742,-7.468709,-12.09801,-15.375054,-23.882536,-15.670947,-13.534093,-7.468709,-24.656996,-10.15742,-12.09801,-12.495046,-12.030097,3.7869534,-9.814422,4.084889,1.7451631,20.41779,-25.287819,-23.622646,-14.060948,-21.184237,-23.915611,-22.212946,16.301874,10.551053,11.110394,9.897042,9.539499,15.921253,10.77177,11.819089,15.557295,11.7337475,15.54059,13.081367,12.023439,14.946162,10.904107,10.175549,12.648332,13.025005,-3.4415498,-7.0619674,-5.8421607,-7.543775,-3.0799685,-6.358464,1.3267376,-6.0271983],\"type\":\"scatter\"}],\"layout\":{\"autosize\":true,\"showlegend\":false,\"title\":{\"text\":\"t-SNE Visualization of Embeddings\"},\"xaxis\":{\"title\":{\"text\":\"Dimension 1\"}},\"yaxis\":{\"title\":{\"text\":\"Dimension 2\"}},\"template\":{\"data\":{\"histogram2dcontour\":[{\"type\":\"histogram2dcontour\",\"colorbar\":{\"outlinewidth\":0,\"ticks\":\"\"},\"colorscale\":[[0.0,\"#0d0887\"],[0.1111111111111111,\"#46039f\"],[0.2222222222222222,\"#7201a8\"],[0.3333333333333333,\"#9c179e\"],[0.4444444444444444,\"#bd3786\"],[0.5555555555555556,\"#d8576b\"],[0.6666666666666666,\"#ed7953\"],[0.7777777777777778,\"#fb9f3a\"],[0.8888888888888888,\"#fdca26\"],[1.0,\"#f0f921\"]]}],\"choropleth\":[{\"type\":\"choropleth\",\"colorbar\":{\"outlinewidth\":0,\"ticks\":\"\"}}],\"histogram2d\":[{\"type\":\"histogram2d\",\"colorbar\":{\"outlinewidth\":0,\"ticks\":\"\"},\"colorscale\":[[0.0,\"#0d0887\"],[0.1111111111111111,\"#46039f\"],[0.2222222222222222,\"#7201a8\"],[0.3333333333333333,\"#9c179e\"],[0.4444444444444444,\"#bd3786\"],[0.5555555555555556,\"#d8576b\"],[0.6666666666666666,\"#ed7953\"],[0.7777777777777778,\"#fb9f3a\"],[0.8888888888888888,\"#fdca26\"],[1.0,\"#f0f921\"]]}],\"heatmap\":[{\"type\":\"heatmap\",\"colorbar\":{\"outlinewidth\":0,\"ticks\":\"\"},\"colorscale\":[[0.0,\"#0d0887\"],[0.1111111111111111,\"#46039f\"],[0.2222222222222222,\"#7201a8\"],[0.3333333333333333,\"#9c179e\"],[0.4444444444444444,\"#bd3786\"],[0.5555555555555556,\"#d8576b\"],[0.6666666666666666,\"#ed7953\"],[0.7777777777777778,\"#fb9f3a\"],[0.8888888888888888,\"#fdca26\"],[1.0,\"#f0f921\"]]}],\"heatmapgl\":[{\"type\":\"heatmapgl\",\"colorbar\":{\"outlinewidth\":0,\"ticks\":\"\"},\"colorscale\":[[0.0,\"#0d0887\"],[0.1111111111111111,\"#46039f\"],[0.2222222222222222,\"#7201a8\"],[0.3333333333333333,\"#9c179e\"],[0.4444444444444444,\"#bd3786\"],[0.5555555555555556,\"#d8576b\"],[0.6666666666666666,\"#ed7953\"],[0.7777777777777778,\"#fb9f3a\"],[0.8888888888888888,\"#fdca26\"],[1.0,\"#f0f921\"]]}],\"contourcarpet\":[{\"type\":\"contourcarpet\",\"colorbar\":{\"outlinewidth\":0,\"ticks\":\"\"}}],\"contour\":[{\"type\":\"contour\",\"colorbar\":{\"outlinewidth\":0,\"ticks\":\"\"},\"colorscale\":[[0.0,\"#0d0887\"],[0.1111111111111111,\"#46039f\"],[0.2222222222222222,\"#7201a8\"],[0.3333333333333333,\"#9c179e\"],[0.4444444444444444,\"#bd3786\"],[0.5555555555555556,\"#d8576b\"],[0.6666666666666666,\"#ed7953\"],[0.7777777777777778,\"#fb9f3a\"],[0.8888888888888888,\"#fdca26\"],[1.0,\"#f0f921\"]]}],\"surface\":[{\"type\":\"surface\",\"colorbar\":{\"outlinewidth\":0,\"ticks\":\"\"},\"colorscale\":[[0.0,\"#0d0887\"],[0.1111111111111111,\"#46039f\"],[0.2222222222222222,\"#7201a8\"],[0.3333333333333333,\"#9c179e\"],[0.4444444444444444,\"#bd3786\"],[0.5555555555555556,\"#d8576b\"],[0.6666666666666666,\"#ed7953\"],[0.7777777777777778,\"#fb9f3a\"],[0.8888888888888888,\"#fdca26\"],[1.0,\"#f0f921\"]]}],\"mesh3d\":[{\"type\":\"mesh3d\",\"colorbar\":{\"outlinewidth\":0,\"ticks\":\"\"}}],\"scatter\":[{\"fillpattern\":{\"fillmode\":\"overlay\",\"size\":10,\"solidity\":0.2},\"type\":\"scatter\"}],\"parcoords\":[{\"type\":\"parcoords\",\"line\":{\"colorbar\":{\"outlinewidth\":0,\"ticks\":\"\"}}}],\"scatterpolargl\":[{\"type\":\"scatterpolargl\",\"marker\":{\"colorbar\":{\"outlinewidth\":0,\"ticks\":\"\"}}}],\"bar\":[{\"error_x\":{\"color\":\"#2a3f5f\"},\"error_y\":{\"color\":\"#2a3f5f\"},\"marker\":{\"line\":{\"color\":\"#E5ECF6\",\"width\":0.5},\"pattern\":{\"fillmode\":\"overlay\",\"size\":10,\"solidity\":0.2}},\"type\":\"bar\"}],\"scattergeo\":[{\"type\":\"scattergeo\",\"marker\":{\"colorbar\":{\"outlinewidth\":0,\"ticks\":\"\"}}}],\"scatterpolar\":[{\"type\":\"scatterpolar\",\"marker\":{\"colorbar\":{\"outlinewidth\":0,\"ticks\":\"\"}}}],\"histogram\":[{\"marker\":{\"pattern\":{\"fillmode\":\"overlay\",\"size\":10,\"solidity\":0.2}},\"type\":\"histogram\"}],\"scattergl\":[{\"type\":\"scattergl\",\"marker\":{\"colorbar\":{\"outlinewidth\":0,\"ticks\":\"\"}}}],\"scatter3d\":[{\"type\":\"scatter3d\",\"line\":{\"colorbar\":{\"outlinewidth\":0,\"ticks\":\"\"}},\"marker\":{\"colorbar\":{\"outlinewidth\":0,\"ticks\":\"\"}}}],\"scattermapbox\":[{\"type\":\"scattermapbox\",\"marker\":{\"colorbar\":{\"outlinewidth\":0,\"ticks\":\"\"}}}],\"scatterternary\":[{\"type\":\"scatterternary\",\"marker\":{\"colorbar\":{\"outlinewidth\":0,\"ticks\":\"\"}}}],\"scattercarpet\":[{\"type\":\"scattercarpet\",\"marker\":{\"colorbar\":{\"outlinewidth\":0,\"ticks\":\"\"}}}],\"carpet\":[{\"aaxis\":{\"endlinecolor\":\"#2a3f5f\",\"gridcolor\":\"white\",\"linecolor\":\"white\",\"minorgridcolor\":\"white\",\"startlinecolor\":\"#2a3f5f\"},\"baxis\":{\"endlinecolor\":\"#2a3f5f\",\"gridcolor\":\"white\",\"linecolor\":\"white\",\"minorgridcolor\":\"white\",\"startlinecolor\":\"#2a3f5f\"},\"type\":\"carpet\"}],\"table\":[{\"cells\":{\"fill\":{\"color\":\"#EBF0F8\"},\"line\":{\"color\":\"white\"}},\"header\":{\"fill\":{\"color\":\"#C8D4E3\"},\"line\":{\"color\":\"white\"}},\"type\":\"table\"}],\"barpolar\":[{\"marker\":{\"line\":{\"color\":\"#E5ECF6\",\"width\":0.5},\"pattern\":{\"fillmode\":\"overlay\",\"size\":10,\"solidity\":0.2}},\"type\":\"barpolar\"}],\"pie\":[{\"automargin\":true,\"type\":\"pie\"}]},\"layout\":{\"autotypenumbers\":\"strict\",\"colorway\":[\"#636efa\",\"#EF553B\",\"#00cc96\",\"#ab63fa\",\"#FFA15A\",\"#19d3f3\",\"#FF6692\",\"#B6E880\",\"#FF97FF\",\"#FECB52\"],\"font\":{\"color\":\"#2a3f5f\"},\"hovermode\":\"closest\",\"hoverlabel\":{\"align\":\"left\"},\"paper_bgcolor\":\"white\",\"plot_bgcolor\":\"#E5ECF6\",\"polar\":{\"bgcolor\":\"#E5ECF6\",\"angularaxis\":{\"gridcolor\":\"white\",\"linecolor\":\"white\",\"ticks\":\"\"},\"radialaxis\":{\"gridcolor\":\"white\",\"linecolor\":\"white\",\"ticks\":\"\"}},\"ternary\":{\"bgcolor\":\"#E5ECF6\",\"aaxis\":{\"gridcolor\":\"white\",\"linecolor\":\"white\",\"ticks\":\"\"},\"baxis\":{\"gridcolor\":\"white\",\"linecolor\":\"white\",\"ticks\":\"\"},\"caxis\":{\"gridcolor\":\"white\",\"linecolor\":\"white\",\"ticks\":\"\"}},\"coloraxis\":{\"colorbar\":{\"outlinewidth\":0,\"ticks\":\"\"}},\"colorscale\":{\"sequential\":[[0.0,\"#0d0887\"],[0.1111111111111111,\"#46039f\"],[0.2222222222222222,\"#7201a8\"],[0.3333333333333333,\"#9c179e\"],[0.4444444444444444,\"#bd3786\"],[0.5555555555555556,\"#d8576b\"],[0.6666666666666666,\"#ed7953\"],[0.7777777777777778,\"#fb9f3a\"],[0.8888888888888888,\"#fdca26\"],[1.0,\"#f0f921\"]],\"sequentialminus\":[[0.0,\"#0d0887\"],[0.1111111111111111,\"#46039f\"],[0.2222222222222222,\"#7201a8\"],[0.3333333333333333,\"#9c179e\"],[0.4444444444444444,\"#bd3786\"],[0.5555555555555556,\"#d8576b\"],[0.6666666666666666,\"#ed7953\"],[0.7777777777777778,\"#fb9f3a\"],[0.8888888888888888,\"#fdca26\"],[1.0,\"#f0f921\"]],\"diverging\":[[0,\"#8e0152\"],[0.1,\"#c51b7d\"],[0.2,\"#de77ae\"],[0.3,\"#f1b6da\"],[0.4,\"#fde0ef\"],[0.5,\"#f7f7f7\"],[0.6,\"#e6f5d0\"],[0.7,\"#b8e186\"],[0.8,\"#7fbc41\"],[0.9,\"#4d9221\"],[1,\"#276419\"]]},\"xaxis\":{\"gridcolor\":\"white\",\"linecolor\":\"white\",\"ticks\":\"\",\"title\":{\"standoff\":15},\"zerolinecolor\":\"white\",\"automargin\":true,\"zerolinewidth\":2},\"yaxis\":{\"gridcolor\":\"white\",\"linecolor\":\"white\",\"ticks\":\"\",\"title\":{\"standoff\":15},\"zerolinecolor\":\"white\",\"automargin\":true,\"zerolinewidth\":2},\"scene\":{\"xaxis\":{\"backgroundcolor\":\"#E5ECF6\",\"gridcolor\":\"white\",\"linecolor\":\"white\",\"showbackground\":true,\"ticks\":\"\",\"zerolinecolor\":\"white\",\"gridwidth\":2},\"yaxis\":{\"backgroundcolor\":\"#E5ECF6\",\"gridcolor\":\"white\",\"linecolor\":\"white\",\"showbackground\":true,\"ticks\":\"\",\"zerolinecolor\":\"white\",\"gridwidth\":2},\"zaxis\":{\"backgroundcolor\":\"#E5ECF6\",\"gridcolor\":\"white\",\"linecolor\":\"white\",\"showbackground\":true,\"ticks\":\"\",\"zerolinecolor\":\"white\",\"gridwidth\":2}},\"shapedefaults\":{\"line\":{\"color\":\"#2a3f5f\"}},\"annotationdefaults\":{\"arrowcolor\":\"#2a3f5f\",\"arrowhead\":0,\"arrowwidth\":1},\"geo\":{\"bgcolor\":\"white\",\"landcolor\":\"#E5ECF6\",\"subunitcolor\":\"white\",\"showland\":true,\"showlakes\":true,\"lakecolor\":\"white\"},\"title\":{\"x\":0.05},\"mapbox\":{\"style\":\"light\"}}},\"width\":2000,\"height\":2000}}'"
      ]
     },
     "execution_count": 84,
     "metadata": {},
     "output_type": "execute_result"
    }
   ],
   "source": [
    "import plotly.io as pio\n",
    "pio.to_json(fig, \"tsne.json\")"
   ]
  },
  {
   "cell_type": "code",
   "execution_count": null,
   "metadata": {},
   "outputs": [],
   "source": [
    "import pygwalker as pyg\n",
    "import pandas as pd\n",
    "data = pd.DataFrame(tsne_results)\n",
    "pyg.walk(data)"
   ]
  },
  {
   "cell_type": "code",
   "execution_count": null,
   "metadata": {},
   "outputs": [],
   "source": []
  }
 ],
 "metadata": {
  "kernelspec": {
   "display_name": "Python 3.9.2 64-bit",
   "language": "python",
   "name": "python3"
  },
  "language_info": {
   "codemirror_mode": {
    "name": "ipython",
    "version": 3
   },
   "file_extension": ".py",
   "mimetype": "text/x-python",
   "name": "python",
   "nbconvert_exporter": "python",
   "pygments_lexer": "ipython3",
   "version": "3.9.2"
  },
  "orig_nbformat": 4,
  "vscode": {
   "interpreter": {
    "hash": "31f2aee4e71d21fbe5cf8b01ff0e069b9275f58929596ceb00d14d90e3e16cd6"
   }
  }
 },
 "nbformat": 4,
 "nbformat_minor": 2
}
