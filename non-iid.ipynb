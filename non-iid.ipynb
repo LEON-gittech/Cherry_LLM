{
 "cells": [
  {
   "cell_type": "code",
   "execution_count": 2,
   "metadata": {},
   "outputs": [
    {
     "name": "stdout",
     "output_type": "stream",
     "text": [
      "----------using 8*GPUs----------\n"
     ]
    }
   ],
   "source": [
    "from FlagEmbedding import FlagModel\n",
    "model = FlagModel('BAAI/bge-large-en-v1.5', \n",
    "                  query_instruction_for_retrieval=\"\",\n",
    "                  use_fp16=True)"
   ]
  },
  {
   "cell_type": "code",
   "execution_count": 3,
   "metadata": {},
   "outputs": [],
   "source": [
    "from datasets import load_dataset, load_from_disk"
   ]
  },
  {
   "cell_type": "code",
   "execution_count": 39,
   "metadata": {},
   "outputs": [],
   "source": [
    "root = \"/mnt/bn/data-tns-live-llm/leon/datasets/fed_data/\"\n",
    "datas = []\n",
    "for i in range(10):\n",
    "    datas.append(load_from_disk(f\"{root}/pos_{i}.parquet\"))"
   ]
  },
  {
   "cell_type": "code",
   "execution_count": 40,
   "metadata": {},
   "outputs": [
    {
     "name": "stdout",
     "output_type": "stream",
     "text": [
      "Dataset({\n",
      "    features: ['instruction', 'response', '__index_level_0__'],\n",
      "    num_rows: 5100\n",
      "})\n"
     ]
    }
   ],
   "source": [
    "print(datas[0])"
   ]
  },
  {
   "cell_type": "code",
   "execution_count": 41,
   "metadata": {},
   "outputs": [],
   "source": [
    "def concat_columns(example: dict):\n",
    "    example['text'] = example['instruction'] + ' ' + example['response']\n",
    "    return example"
   ]
  },
  {
   "cell_type": "code",
   "execution_count": 42,
   "metadata": {},
   "outputs": [],
   "source": [
    "for i in range(10):\n",
    "    datas[i] = datas[i].map(concat_columns)"
   ]
  },
  {
   "cell_type": "code",
   "execution_count": 45,
   "metadata": {},
   "outputs": [
    {
     "name": "stdout",
     "output_type": "stream",
     "text": [
      "['At what level do the psoas muscle and iliacus muscle combine to form the iliopsoas muscle? The psoas muscle combines with the iliacus muscle around the level of the inguinal ligament to form the iliopsoas muscle.', \"a shopkeeper sells 20 % of his stock at 10 % profit ans sells the remaining at a loss of 5 % . he incurred an overall loss of rs . 350 . find the total worth of the stock ? Let's write a Python program. n0 = 20.0\\nn1 = 10.0\\nn2 = 5.0\\nn3 = 350.0\\nt0 = n2 / 100.0\\nt1 = n1 / 100.0\\nt2 = n0 / 100.0\\nt3 = 100.0 - n0\\nt4 = t3 / 100.0\\nt5 = t1 * t2\\nt6 = t0 * t4\\nt7 = t6 - t5\\nanswer = n3 / t7\\nprint(answer)\", \"Create a title for the given book summary. John is an accountant who discovers he can time travel after getting into an accident. Journey Through Time: A Accountant's Incredible Adventure.\", 'What is a possible clinical manifestation of Friedreich ataxia? Friedreich ataxia may present with diabetes.', \"In Kiran's opinion, his weight is greater than 65 kg but less than 72 kg. His brother does not agree with Kiran and he thinks that Kiran's weight is greater than 60 kg but less than 70 kg. His mother's view is that his weight cannot be greater than 68 kg. If all are them are correct in their estimation, what is the average of different probable weights of Kiran?\\nAnswer Choices: (A) 67 (B) 68 (C) 69 (D) 70 (E) 71 Let's think about the multi-choice question.\\nLet Kiran's weight = x. Then\\nAccording to Kiran, 65 < x < 72 ----(equation 1)\\nAccording to brother, 60 < x < 70 ----(equation 2)\\nAccording to mother, x ≤ 68 ----(equation 3)\\nGiven that equation 1,equation 2 and equation 3 are correct. By combining these equations,we can write as\\n65<x≤68\\ni.e., x = 66 or 67 or 68\\nAverage of different probable weights of Kiran = (66+67+68)/3=67\\nThe answer is A.\", \"What is the naming convention for elements in the Periodic Table? The elements in the Periodic Table are named according to the atomic structure of each element. They are named according to the number of protons they contain. Generally speaking, if an element has one or a two-letter symbol, the element will be named using its atomic number (the number of protons it contains). If the element has a three-letter symbol, it will be named using the element's common or trivial name.\", 'Re-order the given list. Horse, Pig, Cat, Cow Cat, Cow, Horse, Pig', 'Transform the text into a well-structured JSON. The site \"website.com\" with tagline \"A Comprehensive Information Source\" {\\n  \"Site\": \"website.com\",\\n  \"Tagline\": \"A Comprehensive Information Source\"\\n}', ' \"statement 1\": Lawrence walked 4.0 kilometers at 3.0 kilometers per hour, \"statement 2\" :Lawrence walked for 2.9 hours, \"options: \" Entailment or contradiction? Let\\'s program in Python in the response. lawrence_walked_s1 = 4/3\\nlawrence_walked_s2 = 2.9\\n \\nif lawrence_walked_s1 is None or lawrence_walked_s2 is None:\\n print(\\'neutral\\')\\n\\nelif lawrence_walked_s1 == lawrence_walked_s2:\\n print(\\'Entailment\\')\\n\\nelif lawrence_walked_s1 != lawrence_walked_s2:\\n print(\\'contradiction\\')', \"A train 385 metres long is running with a speed of 60 kmph. In what time will it pass a man who is running at 6 kmph in the direction opposite to that in which the train is going ?\\nAnswer Choices: (A) 5 sec (B) 21 sec (C) 7 sec (D) 10 sec (E) 52 Let's think about the multi-choice question step by step.\\nSolution\\nSpeed of train relative to man =(60+6) km/hr= 66km/hr\\n=(66x5/18) m/sec =(55/3) m/sec\\n∴ Time taken to pass the man = (385 x 3/55)sec = 21sec\\nThe answer is B\"]\n"
     ]
    }
   ],
   "source": [
    "print(datas[0][\"text\"][:10])"
   ]
  },
  {
   "cell_type": "code",
   "execution_count": 24,
   "metadata": {},
   "outputs": [],
   "source": [
    "def concat_columns(example: dict):\n",
    "    # 将 instruction 和 input 列的值拼接起来，用空格分隔\n",
    "    if \"input\" in example.keys() and example[\"input\"] is not None:\n",
    "        example['text'] = example['instruction'] + ' ' + example['input'] + example[\"output\"]\n",
    "    else:\n",
    "        example[\"text\"] = example[\"instruction\"] + example[\"output\"]\n",
    "    return example"
   ]
  },
  {
   "cell_type": "code",
   "execution_count": 28,
   "metadata": {},
   "outputs": [],
   "source": [
    "data1 = load_from_disk(\"/mnt/bn/data-tns-live-llm/leon/datasets/pos.parquet\").map(concat_columns)\n",
    "data2 = load_from_disk(\"/mnt/bn/data-tns-live-llm/leon/datasets/neg.parquet\").map(concat_columns)"
   ]
  },
  {
   "cell_type": "code",
   "execution_count": 29,
   "metadata": {},
   "outputs": [
    {
     "name": "stdout",
     "output_type": "stream",
     "text": [
      "['Write a valid JavaScript statement to display the given text. Hello '\n",
      " 'World!console.log(\"Hello World!\");',\n",
      " 'Create an HTML document to display \"Hello, World!\" in bold. <!DOCTYPE html>\\n'\n",
      " '<html>\\n'\n",
      " '  <head>\\n'\n",
      " '    <title>Hello World</title>\\n'\n",
      " '  </head>\\n'\n",
      " '  <body>\\n'\n",
      " '    <b>Hello, World!</b>    \\n'\n",
      " '  </body>\\n'\n",
      " '</html>',\n",
      " 'Write a HTML code for a webpage that displays the headline \"Hello World!\". '\n",
      " '<html>\\n'\n",
      " ' <head>\\n'\n",
      " '  <title>Hello World</title>\\n'\n",
      " ' </head>\\n'\n",
      " ' <body>\\n'\n",
      " '  <h1>Hello World!</h1>\\n'\n",
      " ' </body>\\n'\n",
      " '</html>',\n",
      " 'Create the HTML code necessary to display the following text. <html>\\n'\n",
      " '    <head>\\n'\n",
      " '    </head>\\n'\n",
      " '    <body>\\n'\n",
      " '        <p>Hello, world!</p>\\n'\n",
      " '    </body>\\n'\n",
      " '</html>',\n",
      " 'Write a JavaScript code snippet to display a welcome message to the user. '\n",
      " \"console.log('Welcome!');\"]\n",
      "['How did the Black Plague change Europe? The Black Plague had a major impact '\n",
      " 'on Europe, resulting in a decline in population, widespread economic decline '\n",
      " 'and social disorder, and the rise of nationalism.',\n",
      " 'Answer this question truthfully Which nerve innervates the muscles of the '\n",
      " 'thenar eminence?The muscles of the thenar eminence are innervated by the '\n",
      " 'median nerve.',\n",
      " 'What did the ancient Egyptians believe about death? The ancient Egyptians '\n",
      " 'believed that death was a necessary part of the journey to the afterlife. '\n",
      " 'They believed that the soul left the body after death and entered the '\n",
      " 'underworld, where judgement occurred. Those who passed the judgement would '\n",
      " 'be granted access to the afterlife.',\n",
      " 'Who led the French revolution? The French Revolution was led by many '\n",
      " 'prominent individuals, but the most well-known figure is Maximilien '\n",
      " 'Robespierre.',\n",
      " 'Who are some major figures in the fashion industry? Some major figures in '\n",
      " 'the fashion industry include Coco Chanel, Karl Lagerfeld, Alexander McQueen, '\n",
      " 'Vivienne Westwood, Donatella Versace, and Christian Louboutin. These '\n",
      " 'designers have all had an immense impact on fashion over the last century, '\n",
      " 'and their work remains an inspiration today.']\n"
     ]
    }
   ],
   "source": [
    "from pprint import pprint as pp\n",
    "pp(data1[\"text\"][:5])\n",
    "pp(data2[\"text\"][:5])"
   ]
  },
  {
   "cell_type": "code",
   "execution_count": null,
   "metadata": {},
   "outputs": [],
   "source": []
  }
 ],
 "metadata": {
  "kernelspec": {
   "display_name": "Python 3.9.2 64-bit",
   "language": "python",
   "name": "python3"
  },
  "language_info": {
   "codemirror_mode": {
    "name": "ipython",
    "version": 3
   },
   "file_extension": ".py",
   "mimetype": "text/x-python",
   "name": "python",
   "nbconvert_exporter": "python",
   "pygments_lexer": "ipython3",
   "version": "3.9.2"
  },
  "orig_nbformat": 4,
  "vscode": {
   "interpreter": {
    "hash": "31f2aee4e71d21fbe5cf8b01ff0e069b9275f58929596ceb00d14d90e3e16cd6"
   }
  }
 },
 "nbformat": 4,
 "nbformat_minor": 2
}
