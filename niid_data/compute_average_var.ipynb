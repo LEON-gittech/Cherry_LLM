{
 "cells": [
  {
   "cell_type": "code",
   "execution_count": 10,
   "metadata": {},
   "outputs": [
    {
     "name": "stdout",
     "output_type": "stream",
     "text": [
      "均值: 0.36579999999999996\n",
      "标准差: 0.03486440400561389\n"
     ]
    }
   ],
   "source": [
    "import numpy as np\n",
    "\n",
    "# 给定列表\n",
    "data = [0.3658, 0.4085, 0.3231]\n",
    "\n",
    "# 转换为 NumPy 数组\n",
    "data_array = np.array(data)\n",
    "\n",
    "# 计算均值\n",
    "mean_value = np.mean(data_array)\n",
    "\n",
    "# 计算标准差\n",
    "std_dev_value = np.std(data_array) \n",
    "\n",
    "print(f\"均值: {mean_value}\")\n",
    "print(f\"标准差: {std_dev_value}\")"
   ]
  },
  {
   "cell_type": "code",
   "execution_count": null,
   "metadata": {},
   "outputs": [],
   "source": [
    "from unsloth import FastLanguageModel\n",
    "\n",
    "model, tokenizer = FastLanguageModel.from_pretrained(\"/mnt/bn/merlin-datavolume-tsy/leon/checkpoints/fed/niid_med_0.01_20000_fedavg_c10s2_i10_b8a4_l2048_r32a64_f0_base0_seed42\", load_in_4bit=True)"
   ]
  },
  {
   "cell_type": "code",
   "execution_count": null,
   "metadata": {},
   "outputs": [],
   "source": [
    "import os\n",
    "import shutil\n",
    "\n",
    "# 指定根目录\n",
    "root_dir = '/mnt/bn/merlin-datavolume-tsy/leon/checkpoints/fed'\n",
    "\n",
    "# 遍历根目录下的所有目录\n",
    "cnt = 0\n",
    "for root, dirs, files in os.walk(root_dir):\n",
    "    for dir_name in dirs:\n",
    "        # 检查子目录是否包含 'checkpoint'\n",
    "        dir_path = os.path.join(root, dir_name)\n",
    "        if 'checkpoint' in dir_name and 'whole' not in root:\n",
    "            # 删除包含 'checkpoint' 子目录的目录及其内容\n",
    "            shutil.rmtree(dir_path)\n",
    "            print(f\"删除目录: {dir_path}\")"
   ]
  },
  {
   "cell_type": "code",
   "execution_count": null,
   "metadata": {},
   "outputs": [],
   "source": []
  }
 ],
 "metadata": {
  "fileId": "53d1892b-11fc-4c9b-9463-376ee72dbc1b",
  "filePath": "/mnt/bn/data-tns-live-llm/leon/Cherry_LLM/niid_data/compute_average_var.ipynb",
  "kernelspec": {
   "display_name": "llm",
   "language": "python",
   "name": "python3"
  },
  "language_info": {
   "codemirror_mode": {
    "name": "ipython",
    "version": 3
   },
   "file_extension": ".py",
   "mimetype": "text/x-python",
   "name": "python",
   "nbconvert_exporter": "python",
   "pygments_lexer": "ipython3",
   "version": "3.11.10"
  }
 },
 "nbformat": 4,
 "nbformat_minor": 2
}
